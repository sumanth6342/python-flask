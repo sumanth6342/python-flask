{
 "cells": [
  {
   "cell_type": "code",
   "execution_count": null,
   "metadata": {},
   "outputs": [],
   "source": [
    "# !pip install psycopg2"
   ]
  },
  {
   "cell_type": "code",
   "execution_count": 1,
   "metadata": {},
   "outputs": [],
   "source": [
    "import psycopg2"
   ]
  },
  {
   "cell_type": "code",
   "execution_count": 24,
   "metadata": {},
   "outputs": [],
   "source": []
  },
  {
   "cell_type": "code",
   "execution_count": null,
   "metadata": {},
   "outputs": [],
   "source": [
    "TASKS = {\n",
    "    'a5437154-7593-4f87-81b7-8a867e00fac1': {\n",
    "        'task_id': 'a5437154-7593-4f87-81b7-8a867e00fac1',\n",
    "        'task': 'first task',\n",
    "        'created_at': '2023-03-16T08:50:22.371911',\n",
    "        'last_updated_at': '2023-03-16T08:50:22.371911',\n",
    "        'status': 'In Progress'\n",
    "    },\n",
    "\n",
    "    'a432b999-5f5d-4662-bacd-dee8edbda7d7': {\n",
    "        'task_id': 'a432b999-5f5d-4662-bacd-dee8edbda7d7',\n",
    "        'task': 'second task',\n",
    "        'created_at': '2023-03-16T08:51:38.673934',\n",
    "        'last_updated_at': '2023-03-16T08:51:38.673934',\n",
    "        'status': 'In Progress'\n",
    "    }\n",
    "}\n"
   ]
  },
  {
   "cell_type": "code",
   "execution_count": 3,
   "metadata": {},
   "outputs": [],
   "source": [
    "create_table_query = \"\"\"\n",
    "CREATE TABLE task (\n",
    "    task_id UUID PRIMARY KEY,\n",
    "    task TEXT NOT NULL,\n",
    "    created_at TIMESTAMP WITH TIME ZONE NOT NULL,\n",
    "    last_updated_at TIMESTAMP WITH TIME ZONE NOT NULL,\n",
    "    status VARCHAR(255) NOT NULL\n",
    ");\n",
    "\"\"\""
   ]
  },
  {
   "cell_type": "code",
   "execution_count": 4,
   "metadata": {},
   "outputs": [],
   "source": [
    "with connection.cursor() as cursor:\n",
    "    cursor.execute(create_table_query)\n",
    "    connection.commit()"
   ]
  },
  {
   "cell_type": "code",
   "execution_count": 7,
   "metadata": {},
   "outputs": [],
   "source": [
    "from uuid import uuid4\n",
    "from datetime import datetime"
   ]
  },
  {
   "cell_type": "code",
   "execution_count": 87,
   "metadata": {},
   "outputs": [],
   "source": [
    "task_id = str(uuid4())\n",
    "task = \"New task created\" # get from the request\n",
    "current_timestamp = datetime.now().isoformat()\n",
    "status = \"In Progress\"\n",
    "\n",
    "insert_data = f\"\"\"\n",
    "INSERT INTO task (task_id, task, created_at, last_updated_at, status)\n",
    "VALUES ('{task_id}', '{task}', '{current_timestamp}', '{current_timestamp}', '{status}')\n",
    "\"\"\""
   ]
  },
  {
   "cell_type": "code",
   "execution_count": 14,
   "metadata": {},
   "outputs": [
    {
     "name": "stdout",
     "output_type": "stream",
     "text": [
      "\n",
      "INSERT INTO task (task_id, task, created_at, last_updated_at, status)\n",
      "VALUES ('2a6dbb98-814b-4e7c-9ff9-e4812899095c', 'New task created', '2023-03-24T08:42:51.938909', '2023-03-24T08:42:51.938909', 'In Progress')\n",
      "\n"
     ]
    }
   ],
   "source": [
    "print(insert_data)"
   ]
  },
  {
   "cell_type": "code",
   "execution_count": 88,
   "metadata": {},
   "outputs": [],
   "source": [
    "with connection.cursor() as cursor:\n",
    "    cursor.execute(insert_data)\n",
    "    connection.commit()"
   ]
  },
  {
   "cell_type": "code",
   "execution_count": 17,
   "metadata": {},
   "outputs": [],
   "source": []
  },
  {
   "cell_type": "code",
   "execution_count": 92,
   "metadata": {},
   "outputs": [],
   "source": [
    "get_all_data_query = \"SELECT task_id, task, status FROM task WHERE task_id = '87bb3962-c486-47e3-b768-7f7c79e2b2c7'\""
   ]
  },
  {
   "cell_type": "code",
   "execution_count": 93,
   "metadata": {},
   "outputs": [],
   "source": [
    "with connection.cursor() as cursor:\n",
    "    cursor.execute(get_all_data_query)\n",
    "    tasks = cursor.fetchall()"
   ]
  },
  {
   "cell_type": "code",
   "execution_count": 94,
   "metadata": {},
   "outputs": [
    {
     "data": {
      "text/plain": [
       "[('87bb3962-c486-47e3-b768-7f7c79e2b2c7', 'New task created', 'In Progress')]"
      ]
     },
     "execution_count": 94,
     "metadata": {},
     "output_type": "execute_result"
    }
   ],
   "source": [
    "tasks"
   ]
  },
  {
   "cell_type": "code",
   "execution_count": null,
   "metadata": {},
   "outputs": [],
   "source": []
  },
  {
   "cell_type": "code",
   "execution_count": 38,
   "metadata": {},
   "outputs": [],
   "source": [
    "connection = get_connection()"
   ]
  },
  {
   "cell_type": "code",
   "execution_count": 33,
   "metadata": {},
   "outputs": [
    {
     "ename": "UniqueViolation",
     "evalue": "duplicate key value violates unique constraint \"task_pkey\"\nDETAIL:  Key (task_id)=(2a6dbb98-814b-4e7c-9ff9-e4812899095c) already exists.\n",
     "output_type": "error",
     "traceback": [
      "\u001b[0;31m---------------------------------------------------------------------------\u001b[0m",
      "\u001b[0;31mUniqueViolation\u001b[0m                           Traceback (most recent call last)",
      "Cell \u001b[0;32mIn[33], line 2\u001b[0m\n\u001b[1;32m      1\u001b[0m \u001b[39mwith\u001b[39;00m connection\u001b[39m.\u001b[39mcursor() \u001b[39mas\u001b[39;00m cursor:\n\u001b[0;32m----> 2\u001b[0m     cursor\u001b[39m.\u001b[39;49mexecute(insert_data)\n\u001b[1;32m      3\u001b[0m     connection\u001b[39m.\u001b[39mcommit()\n",
      "\u001b[0;31mUniqueViolation\u001b[0m: duplicate key value violates unique constraint \"task_pkey\"\nDETAIL:  Key (task_id)=(2a6dbb98-814b-4e7c-9ff9-e4812899095c) already exists.\n"
     ]
    }
   ],
   "source": [
    "with connection.cursor() as cursor:\n",
    "    cursor.execute(insert_data)\n",
    "    connection.commit()"
   ]
  },
  {
   "cell_type": "code",
   "execution_count": 34,
   "metadata": {},
   "outputs": [
    {
     "ename": "InFailedSqlTransaction",
     "evalue": "current transaction is aborted, commands ignored until end of transaction block\n",
     "output_type": "error",
     "traceback": [
      "\u001b[0;31m---------------------------------------------------------------------------\u001b[0m",
      "\u001b[0;31mInFailedSqlTransaction\u001b[0m                    Traceback (most recent call last)",
      "Cell \u001b[0;32mIn[34], line 2\u001b[0m\n\u001b[1;32m      1\u001b[0m \u001b[39mwith\u001b[39;00m connection\u001b[39m.\u001b[39mcursor() \u001b[39mas\u001b[39;00m cursor:\n\u001b[0;32m----> 2\u001b[0m         cursor\u001b[39m.\u001b[39;49mexecute(get_all_data)\n\u001b[1;32m      3\u001b[0m         records \u001b[39m=\u001b[39m cursor\u001b[39m.\u001b[39mfetchall()\n",
      "\u001b[0;31mInFailedSqlTransaction\u001b[0m: current transaction is aborted, commands ignored until end of transaction block\n"
     ]
    }
   ],
   "source": [
    "with connection.cursor() as cursor:\n",
    "    cursor.execute(get_all_data)\n",
    "    records = cursor.fetchall()"
   ]
  },
  {
   "cell_type": "code",
   "execution_count": 35,
   "metadata": {},
   "outputs": [
    {
     "data": {
      "text/plain": [
       "psycopg2.errors.InFailedSqlTransaction"
      ]
     },
     "execution_count": 35,
     "metadata": {},
     "output_type": "execute_result"
    }
   ],
   "source": [
    "psycopg2.errors.lookup(\"25P02\")"
   ]
  },
  {
   "cell_type": "code",
   "execution_count": 40,
   "metadata": {},
   "outputs": [
    {
     "name": "stdout",
     "output_type": "stream",
     "text": [
      "inside try\n",
      "inside specific execption\n"
     ]
    }
   ],
   "source": [
    "try:\n",
    "    print(\"inside try\")\n",
    "    with connection.cursor() as cursor:\n",
    "        # cursor.execute(insert_data)\n",
    "        cursor.execute(get_all_data)\n",
    "        records = cursor.fetchall()\n",
    "\n",
    "except psycopg2.errors.lookup(\"25P02\"):\n",
    "    print(\"inside specific execption\")\n",
    "    connection = get_connection()\n",
    "\n",
    "    with connection.cursor() as cursor:\n",
    "        # cursor.execute(insert_data)\n",
    "        cursor.execute(get_all_data)\n",
    "        records = cursor.fetchall()\n",
    "\n",
    "except Exception as error:\n",
    "    print(\"inside generic execptions\")\n",
    "    print(error)"
   ]
  },
  {
   "cell_type": "code",
   "execution_count": 41,
   "metadata": {},
   "outputs": [
    {
     "data": {
      "text/plain": [
       "[('2a6dbb98-814b-4e7c-9ff9-e4812899095c',\n",
       "  'New task created',\n",
       "  datetime.datetime(2023, 3, 24, 8, 42, 51, 938909, tzinfo=datetime.timezone.utc),\n",
       "  datetime.datetime(2023, 3, 24, 8, 42, 51, 938909, tzinfo=datetime.timezone.utc),\n",
       "  'In Progress')]"
      ]
     },
     "execution_count": 41,
     "metadata": {},
     "output_type": "execute_result"
    }
   ],
   "source": [
    "records"
   ]
  },
  {
   "cell_type": "code",
   "execution_count": 45,
   "metadata": {},
   "outputs": [],
   "source": [
    "connection = get_connection()"
   ]
  },
  {
   "cell_type": "code",
   "execution_count": 61,
   "metadata": {},
   "outputs": [],
   "source": []
  },
  {
   "cell_type": "code",
   "execution_count": 78,
   "metadata": {},
   "outputs": [],
   "source": []
  },
  {
   "cell_type": "code",
   "execution_count": 79,
   "metadata": {},
   "outputs": [
    {
     "data": {
      "text/plain": [
       "[('2a6dbb98-814b-4e7c-9ff9-e4812899095c', 'New task created', 'In Progress'),\n",
       " ('87bb3962-c486-47e3-b768-7f7c79e2b2c7', 'New task created', 'In Progress')]"
      ]
     },
     "execution_count": 79,
     "metadata": {},
     "output_type": "execute_result"
    }
   ],
   "source": [
    "tasks = get_all_tasks(connection)\n",
    "tasks"
   ]
  },
  {
   "cell_type": "code",
   "execution_count": 80,
   "metadata": {},
   "outputs": [
    {
     "name": "stdout",
     "output_type": "stream",
     "text": [
      "{'task_id': '2a6dbb98-814b-4e7c-9ff9-e4812899095c', 'task': 'New task created', 'status': 'In Progress'}\n",
      "\n",
      "{'task_id': '87bb3962-c486-47e3-b768-7f7c79e2b2c7', 'task': 'New task created', 'status': 'In Progress'}\n",
      "\n"
     ]
    }
   ],
   "source": []
  },
  {
   "cell_type": "code",
   "execution_count": 73,
   "metadata": {},
   "outputs": [
    {
     "data": {
      "text/plain": [
       "('2a6dbb98-814b-4e7c-9ff9-e4812899095c', 'New task created', 'In Progress')"
      ]
     },
     "execution_count": 73,
     "metadata": {},
     "output_type": "execute_result"
    }
   ],
   "source": [
    "tasks[0]"
   ]
  },
  {
   "cell_type": "code",
   "execution_count": 70,
   "metadata": {},
   "outputs": [],
   "source": [
    "names = [\"firoz\", \"karthik\"]"
   ]
  },
  {
   "cell_type": "code",
   "execution_count": null,
   "metadata": {},
   "outputs": [],
   "source": [
    "firoz = names[0]\n",
    "karthik = names[1]\n",
    "\n",
    "firoz, karthik = names"
   ]
  },
  {
   "cell_type": "code",
   "execution_count": 67,
   "metadata": {},
   "outputs": [],
   "source": [
    "task_id, task, status = tasks[0]"
   ]
  },
  {
   "cell_type": "code",
   "execution_count": 69,
   "metadata": {},
   "outputs": [
    {
     "data": {
      "text/plain": [
       "'New task created'"
      ]
     },
     "execution_count": 69,
     "metadata": {},
     "output_type": "execute_result"
    }
   ],
   "source": [
    "task"
   ]
  },
  {
   "cell_type": "code",
   "execution_count": 81,
   "metadata": {},
   "outputs": [],
   "source": [
    "def get_all_tasks_legacy():\n",
    "    if TASKS:\n",
    "        keys = [\"task_id\", \"task\", \"status\"]\n",
    "\n",
    "        all_tasks = []\n",
    "\n",
    "        for task_details in TASKS.values():\n",
    "            task_details_to_return = {}\n",
    "            for key, value in task_details.items():\n",
    "                if key in keys:\n",
    "                    task_details_to_return[key] = value\n",
    "\n",
    "            all_tasks.append(task_details_to_return)\n",
    "\n",
    "        response = {\n",
    "            \"tasks\": all_tasks,\n",
    "            \"count\": len(all_tasks)\n",
    "        }\n",
    "\n",
    "        return jsonify(response), 200\n",
    "\n",
    "    else:\n",
    "        return jsonify({\"error\": \"No Tasks Found\"}), 400\n",
    "\n"
   ]
  },
  {
   "cell_type": "code",
   "execution_count": 83,
   "metadata": {},
   "outputs": [],
   "source": [
    "\n",
    "    # if TASKS:\n",
    "    #     keys = [\"task_id\", \"task\", \"status\"]\n",
    "\n",
    "    #     all_tasks = []\n",
    "\n",
    "    #     for task_details in TASKS.values():\n",
    "    #         task_details_to_return = {}\n",
    "    #         for key, value in task_details.items():\n",
    "    #             if key in keys:\n",
    "    #                 task_details_to_return[key] = value\n",
    "\n",
    "    #         all_tasks.append(task_details_to_return)\n",
    "\n",
    "    #     response = {\n",
    "    #         \"tasks\": all_tasks,\n",
    "    #         \"count\": len(all_tasks)\n",
    "    #     }\n",
    "\n",
    "    #     return jsonify(response), 200\n",
    "\n",
    "    # else:\n",
    "    #     return jsonify({\"error\": \"No Tasks Found\"}), 400"
   ]
  },
  {
   "cell_type": "code",
   "execution_count": 84,
   "metadata": {},
   "outputs": [],
   "source": [
    "tasks, formatted_tasks = get_all_tasks(connection)"
   ]
  },
  {
   "cell_type": "code",
   "execution_count": 85,
   "metadata": {},
   "outputs": [
    {
     "data": {
      "text/plain": [
       "[('2a6dbb98-814b-4e7c-9ff9-e4812899095c', 'New task created', 'In Progress'),\n",
       " ('87bb3962-c486-47e3-b768-7f7c79e2b2c7', 'New task created', 'In Progress')]"
      ]
     },
     "execution_count": 85,
     "metadata": {},
     "output_type": "execute_result"
    }
   ],
   "source": [
    "tasks"
   ]
  },
  {
   "cell_type": "code",
   "execution_count": 86,
   "metadata": {},
   "outputs": [
    {
     "data": {
      "text/plain": [
       "{'tasks': [{'task_id': '2a6dbb98-814b-4e7c-9ff9-e4812899095c',\n",
       "   'task': 'New task created',\n",
       "   'status': 'In Progress'},\n",
       "  {'task_id': '87bb3962-c486-47e3-b768-7f7c79e2b2c7',\n",
       "   'task': 'New task created',\n",
       "   'status': 'In Progress'}],\n",
       " 'count': 2}"
      ]
     },
     "execution_count": 86,
     "metadata": {},
     "output_type": "execute_result"
    }
   ],
   "source": [
    "formatted_tasks"
   ]
  },
  {
   "cell_type": "code",
   "execution_count": null,
   "metadata": {},
   "outputs": [],
   "source": []
  },
  {
   "cell_type": "code",
   "execution_count": null,
   "metadata": {},
   "outputs": [],
   "source": [
    "from flask import Flask, jsonify\n",
    "app = Flask(__name__)\n",
    "\n",
    "@app.route(\"/tasks\", methods=[\"GET\"])\n",
    "def get_all_tasks():\n",
    "    if TASKS:\n",
    "        keys = [\"task_id\", \"task\", \"status\"]\n",
    "\n",
    "        all_tasks = []\n",
    "\n",
    "        for task_details in TASKS.values():\n",
    "            task_details_to_return = {}\n",
    "            for key, value in task_details.items():\n",
    "                if key in keys:\n",
    "                    task_details_to_return[key] = value\n",
    "\n",
    "            all_tasks.append(task_details_to_return)\n",
    "\n",
    "        response = {\n",
    "            \"tasks\": all_tasks,\n",
    "            \"count\": len(all_tasks)\n",
    "        }\n",
    "\n",
    "        return jsonify(response), 200\n",
    "\n",
    "    else:\n",
    "        return jsonify({\"error\": \"No Tasks Found\"}), 400"
   ]
  }
 ],
 "metadata": {
  "kernelspec": {
   "display_name": "Python 3",
   "language": "python",
   "name": "python3"
  },
  "language_info": {
   "codemirror_mode": {
    "name": "ipython",
    "version": 3
   },
   "file_extension": ".py",
   "mimetype": "text/x-python",
   "name": "python",
   "nbconvert_exporter": "python",
   "pygments_lexer": "ipython3",
   "version": "3.9.16"
  },
  "orig_nbformat": 4
 },
 "nbformat": 4,
 "nbformat_minor": 2
}
