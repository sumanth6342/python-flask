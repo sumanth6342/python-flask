{
 "cells": [
  {
   "attachments": {},
   "cell_type": "markdown",
   "metadata": {},
   "source": [
    "### CRUD API\n",
    "\n",
    "    C - Create\n",
    "    R - Read\n",
    "    U - Update\n",
    "    D - Delete"
   ]
  },
  {
   "cell_type": "code",
   "execution_count": null,
   "metadata": {},
   "outputs": [],
   "source": [
    "class ToDoApp:\n",
    "    def create_task(self):\n",
    "        pass\n",
    "\n",
    "    def get_a_task(self):\n",
    "        pass\n",
    "\n",
    "    def get_all_tasks(self):\n",
    "        pass\n",
    "\n",
    "    def delete_a_task(self):\n",
    "        pass\n",
    "\n",
    "    def update_a_task(self):\n",
    "        pass\n",
    "\n",
    "    def complete_task(self):\n",
    "        pass\n"
   ]
  },
  {
   "cell_type": "code",
   "execution_count": 1,
   "metadata": {},
   "outputs": [],
   "source": []
  },
  {
   "cell_type": "code",
   "execution_count": 4,
   "metadata": {},
   "outputs": [],
   "source": [
    "task_schema = [\n",
    "    {\n",
    "        \"task_id\": \"random task id\",\n",
    "        \"task\": \"details of a task\",\n",
    "        \"timestamp\": \"task creation time\",\n",
    "        \"lastUpdated\": \"last updated time\",\n",
    "        \"status\": \"task status\"\n",
    "    }\n",
    "]"
   ]
  },
  {
   "cell_type": "code",
   "execution_count": 22,
   "metadata": {},
   "outputs": [],
   "source": [
    "task_schema_v2 = {\n",
    "    \"task_id\": {\n",
    "        \"task_id\": \"random task id\",\n",
    "        \"task\": \"details of a task\",\n",
    "        \"timestamp\": \"task creation time\",\n",
    "        \"lastUpdated\": \"last updated time\",\n",
    "        \"status\": \"task status\"\n",
    "    }\n",
    "} "
   ]
  },
  {
   "cell_type": "code",
   "execution_count": 7,
   "metadata": {},
   "outputs": [],
   "source": [
    "from uuid import uuid4\n",
    "from datetime import datetime"
   ]
  },
  {
   "cell_type": "code",
   "execution_count": 5,
   "metadata": {},
   "outputs": [],
   "source": [
    "TASKS = []"
   ]
  },
  {
   "cell_type": "code",
   "execution_count": 13,
   "metadata": {},
   "outputs": [],
   "source": [
    "def create_task(task_statement):\n",
    "    current_timestamp = datetime.now().isoformat()\n",
    "\n",
    "    task = {\n",
    "        \"task_id\": str(uuid4()),\n",
    "        \"task\": task_statement,\n",
    "        \"created_at\": current_timestamp,\n",
    "        \"last_updated_at\": current_timestamp,\n",
    "        \"status\": \"In Progress\"\n",
    "    }\n",
    "\n",
    "    TASKS.append(task)\n",
    "\n",
    "    return \"Task created\""
   ]
  },
  {
   "cell_type": "code",
   "execution_count": 14,
   "metadata": {},
   "outputs": [],
   "source": [
    "task = create_task(\"Complete the project\")"
   ]
  },
  {
   "cell_type": "code",
   "execution_count": 19,
   "metadata": {},
   "outputs": [],
   "source": [
    "for task in [\n",
    "    \"Talk to karthik\",\n",
    "    \"do a project in aws pagination\",\n",
    "    \"do a project using db\",\n",
    "    \"talk to firoz\"\n",
    "]:\n",
    "    _ = create_task(task)"
   ]
  },
  {
   "cell_type": "code",
   "execution_count": 15,
   "metadata": {},
   "outputs": [
    {
     "data": {
      "text/plain": [
       "'Task created'"
      ]
     },
     "execution_count": 15,
     "metadata": {},
     "output_type": "execute_result"
    }
   ],
   "source": [
    "task"
   ]
  },
  {
   "cell_type": "code",
   "execution_count": 20,
   "metadata": {},
   "outputs": [
    {
     "data": {
      "text/plain": [
       "[{'task_id': '9034ac76-5527-4820-892c-38307400358c',\n",
       "  'task': 'Complete the project',\n",
       "  'created_at': '2023-03-16T08:40:50.930311',\n",
       "  'last_updated_at': '2023-03-16T08:40:50.930311',\n",
       "  'status': 'In Progress'},\n",
       " {'task_id': '479271d9-cab3-4274-924b-a0586a447ce0',\n",
       "  'task': 'Talk to karthik',\n",
       "  'created_at': '2023-03-16T08:45:08.442890',\n",
       "  'last_updated_at': '2023-03-16T08:45:08.442890',\n",
       "  'status': 'In Progress'},\n",
       " {'task_id': '656bbef7-67aa-446e-af3f-53a1f5d2a1a9',\n",
       "  'task': 'do a project in aws pagination',\n",
       "  'created_at': '2023-03-16T08:45:08.443952',\n",
       "  'last_updated_at': '2023-03-16T08:45:08.443952',\n",
       "  'status': 'In Progress'},\n",
       " {'task_id': '4cbf746d-3204-4413-a9e1-d65c9b047ddc',\n",
       "  'task': 'do a project using db',\n",
       "  'created_at': '2023-03-16T08:45:08.443997',\n",
       "  'last_updated_at': '2023-03-16T08:45:08.443997',\n",
       "  'status': 'In Progress'},\n",
       " {'task_id': '74e21c6b-a9b6-4619-86b3-85b299043b29',\n",
       "  'task': 'talk to firoz',\n",
       "  'created_at': '2023-03-16T08:45:08.444019',\n",
       "  'last_updated_at': '2023-03-16T08:45:08.444019',\n",
       "  'status': 'In Progress'}]"
      ]
     },
     "execution_count": 20,
     "metadata": {},
     "output_type": "execute_result"
    }
   ],
   "source": [
    "TASKS"
   ]
  },
  {
   "cell_type": "code",
   "execution_count": 17,
   "metadata": {},
   "outputs": [],
   "source": [
    "def get_a_task(task_id):\n",
    "    for task in TASKS:\n",
    "        if task['task_id'] == task_id:\n",
    "            return task "
   ]
  },
  {
   "cell_type": "code",
   "execution_count": 21,
   "metadata": {},
   "outputs": [
    {
     "data": {
      "text/plain": [
       "{'task_id': '656bbef7-67aa-446e-af3f-53a1f5d2a1a9',\n",
       " 'task': 'do a project in aws pagination',\n",
       " 'created_at': '2023-03-16T08:45:08.443952',\n",
       " 'last_updated_at': '2023-03-16T08:45:08.443952',\n",
       " 'status': 'In Progress'}"
      ]
     },
     "execution_count": 21,
     "metadata": {},
     "output_type": "execute_result"
    }
   ],
   "source": [
    "get_a_task(\"656bbef7-67aa-446e-af3f-53a1f5d2a1a9\")"
   ]
  },
  {
   "cell_type": "code",
   "execution_count": 24,
   "metadata": {},
   "outputs": [],
   "source": [
    "task_schema_v2 = {\n",
    "    \"task_id\": {\n",
    "        \"task_id\": \"random task id\",\n",
    "        \"task\": \"details of a task\",\n",
    "        \"timestamp\": \"task creation time\",\n",
    "        \"lastUpdated\": \"last updated time\",\n",
    "        \"status\": \"task status\"\n",
    "    }\n",
    "} "
   ]
  },
  {
   "cell_type": "code",
   "execution_count": 23,
   "metadata": {},
   "outputs": [],
   "source": [
    "TASKS = {}"
   ]
  },
  {
   "cell_type": "code",
   "execution_count": 25,
   "metadata": {},
   "outputs": [],
   "source": [
    "def create_task(task_statement):\n",
    "    current_timestamp = datetime.now().isoformat()\n",
    "    task_id = str(uuid4())\n",
    "\n",
    "    task = {\n",
    "        \"task_id\": task_id,\n",
    "        \"task\": task_statement,\n",
    "        \"created_at\": current_timestamp,\n",
    "        \"last_updated_at\": current_timestamp,\n",
    "        \"status\": \"In Progress\"\n",
    "    }\n",
    "\n",
    "    TASKS[task_id] = task\n",
    "\n",
    "    return \"Task created\""
   ]
  },
  {
   "cell_type": "code",
   "execution_count": 26,
   "metadata": {},
   "outputs": [
    {
     "data": {
      "text/plain": [
       "'Task created'"
      ]
     },
     "execution_count": 26,
     "metadata": {},
     "output_type": "execute_result"
    }
   ],
   "source": [
    "create_task(\"first task\")"
   ]
  },
  {
   "cell_type": "code",
   "execution_count": 27,
   "metadata": {},
   "outputs": [
    {
     "data": {
      "text/plain": [
       "{'a5437154-7593-4f87-81b7-8a867e00fac1': {'task_id': 'a5437154-7593-4f87-81b7-8a867e00fac1',\n",
       "  'task': 'first task',\n",
       "  'created_at': '2023-03-16T08:50:22.371911',\n",
       "  'last_updated_at': '2023-03-16T08:50:22.371911',\n",
       "  'status': 'In Progress'}}"
      ]
     },
     "execution_count": 27,
     "metadata": {},
     "output_type": "execute_result"
    }
   ],
   "source": [
    "TASKS"
   ]
  },
  {
   "cell_type": "code",
   "execution_count": 52,
   "metadata": {},
   "outputs": [],
   "source": [
    "def get_a_task(task_id):\n",
    "    if task_id in TASKS:\n",
    "        return TASKS[task_id]\n",
    "    else:\n",
    "        return \"Task id is invalid\""
   ]
  },
  {
   "cell_type": "code",
   "execution_count": 29,
   "metadata": {},
   "outputs": [],
   "source": [
    "for task in [\n",
    "    \"Talk to karthik\",\n",
    "    \"do a project in aws pagination\",\n",
    "    \"do a project using db\",\n",
    "    \"talk to firoz\"\n",
    "]:\n",
    "    _ = create_task(task)"
   ]
  },
  {
   "cell_type": "code",
   "execution_count": 30,
   "metadata": {},
   "outputs": [
    {
     "data": {
      "text/plain": [
       "{'a5437154-7593-4f87-81b7-8a867e00fac1': {'task_id': 'a5437154-7593-4f87-81b7-8a867e00fac1',\n",
       "  'task': 'first task',\n",
       "  'created_at': '2023-03-16T08:50:22.371911',\n",
       "  'last_updated_at': '2023-03-16T08:50:22.371911',\n",
       "  'status': 'In Progress'},\n",
       " 'a432b999-5f5d-4662-bacd-dee8edbda7d7': {'task_id': 'a432b999-5f5d-4662-bacd-dee8edbda7d7',\n",
       "  'task': 'Talk to karthik',\n",
       "  'created_at': '2023-03-16T08:51:38.673934',\n",
       "  'last_updated_at': '2023-03-16T08:51:38.673934',\n",
       "  'status': 'In Progress'},\n",
       " '0a362c13-d1a2-4fad-9658-4b5c4cd90823': {'task_id': '0a362c13-d1a2-4fad-9658-4b5c4cd90823',\n",
       "  'task': 'do a project in aws pagination',\n",
       "  'created_at': '2023-03-16T08:51:38.673992',\n",
       "  'last_updated_at': '2023-03-16T08:51:38.673992',\n",
       "  'status': 'In Progress'},\n",
       " '8f3f7891-3bb6-4e14-ae9f-c350ba2537bb': {'task_id': '8f3f7891-3bb6-4e14-ae9f-c350ba2537bb',\n",
       "  'task': 'do a project using db',\n",
       "  'created_at': '2023-03-16T08:51:38.674008',\n",
       "  'last_updated_at': '2023-03-16T08:51:38.674008',\n",
       "  'status': 'In Progress'},\n",
       " 'fa3b198b-423c-400e-b89a-c3b18fb1bef6': {'task_id': 'fa3b198b-423c-400e-b89a-c3b18fb1bef6',\n",
       "  'task': 'talk to firoz',\n",
       "  'created_at': '2023-03-16T08:51:38.674018',\n",
       "  'last_updated_at': '2023-03-16T08:51:38.674018',\n",
       "  'status': 'In Progress'}}"
      ]
     },
     "execution_count": 30,
     "metadata": {},
     "output_type": "execute_result"
    }
   ],
   "source": [
    "TASKS"
   ]
  },
  {
   "cell_type": "code",
   "execution_count": 31,
   "metadata": {},
   "outputs": [
    {
     "data": {
      "text/plain": [
       "{'task_id': 'fa3b198b-423c-400e-b89a-c3b18fb1bef6',\n",
       " 'task': 'talk to firoz',\n",
       " 'created_at': '2023-03-16T08:51:38.674018',\n",
       " 'last_updated_at': '2023-03-16T08:51:38.674018',\n",
       " 'status': 'In Progress'}"
      ]
     },
     "execution_count": 31,
     "metadata": {},
     "output_type": "execute_result"
    }
   ],
   "source": [
    "get_a_task(\"fa3b198b-423c-400e-b89a-c3b18fb1bef6\")"
   ]
  },
  {
   "cell_type": "code",
   "execution_count": 37,
   "metadata": {},
   "outputs": [],
   "source": [
    "def update_a_task(task_id, task_statement):\n",
    "    if task_id in TASKS:\n",
    "        task = TASKS[task_id]\n",
    "        task[\"task\"] = task_statement\n",
    "        task[\"last_updated_at\"] = datetime.now().isoformat()\n",
    "\n",
    "        return \"Task updated\"\n",
    "\n",
    "    else:\n",
    "        return \"Task id is invalid\""
   ]
  },
  {
   "cell_type": "code",
   "execution_count": 38,
   "metadata": {},
   "outputs": [],
   "source": [
    "task_id = 'fa3b198b-423c-400e-b89a-c3b18fb1bef6'"
   ]
  },
  {
   "cell_type": "code",
   "execution_count": 39,
   "metadata": {},
   "outputs": [
    {
     "data": {
      "text/plain": [
       "{'task_id': 'fa3b198b-423c-400e-b89a-c3b18fb1bef6',\n",
       " 'task': 'talk to firoz',\n",
       " 'created_at': '2023-03-16T08:51:38.674018',\n",
       " 'last_updated_at': '2023-03-16T08:51:38.674018',\n",
       " 'status': 'In Progress'}"
      ]
     },
     "execution_count": 39,
     "metadata": {},
     "output_type": "execute_result"
    }
   ],
   "source": [
    "get_a_task(task_id)"
   ]
  },
  {
   "cell_type": "code",
   "execution_count": 42,
   "metadata": {},
   "outputs": [
    {
     "data": {
      "text/plain": [
       "'Task updated'"
      ]
     },
     "execution_count": 42,
     "metadata": {},
     "output_type": "execute_result"
    }
   ],
   "source": [
    "update_a_task(\n",
    "    task_id=task_id, \n",
    "    task_statement=\"Talk to firoz about db problem\"\n",
    ")"
   ]
  },
  {
   "cell_type": "code",
   "execution_count": 43,
   "metadata": {},
   "outputs": [
    {
     "data": {
      "text/plain": [
       "{'task_id': 'fa3b198b-423c-400e-b89a-c3b18fb1bef6',\n",
       " 'task': 'Talk to firoz about db problem',\n",
       " 'created_at': '2023-03-16T08:51:38.674018',\n",
       " 'last_updated_at': '2023-03-16T08:57:06.916050',\n",
       " 'status': 'In Progress'}"
      ]
     },
     "execution_count": 43,
     "metadata": {},
     "output_type": "execute_result"
    }
   ],
   "source": [
    "get_a_task(task_id)"
   ]
  },
  {
   "cell_type": "code",
   "execution_count": 44,
   "metadata": {},
   "outputs": [],
   "source": [
    "def complete_task(task_id):\n",
    "    if task_id in TASKS:\n",
    "        task = TASKS[task_id]\n",
    "        task[\"status\"] = \"Completed\"\n",
    "        task[\"last_updated_at\"] = datetime.now().isoformat()\n",
    "\n",
    "        return \"Task completed\"\n",
    "\n",
    "    else:\n",
    "        return \"Task id is invalid\""
   ]
  },
  {
   "cell_type": "code",
   "execution_count": 45,
   "metadata": {},
   "outputs": [
    {
     "data": {
      "text/plain": [
       "{'task_id': 'fa3b198b-423c-400e-b89a-c3b18fb1bef6',\n",
       " 'task': 'Talk to firoz about db problem',\n",
       " 'created_at': '2023-03-16T08:51:38.674018',\n",
       " 'last_updated_at': '2023-03-16T08:57:06.916050',\n",
       " 'status': 'In Progress'}"
      ]
     },
     "execution_count": 45,
     "metadata": {},
     "output_type": "execute_result"
    }
   ],
   "source": [
    "get_a_task(\"fa3b198b-423c-400e-b89a-c3b18fb1bef6\")"
   ]
  },
  {
   "cell_type": "code",
   "execution_count": 46,
   "metadata": {},
   "outputs": [
    {
     "data": {
      "text/plain": [
       "'Task completed'"
      ]
     },
     "execution_count": 46,
     "metadata": {},
     "output_type": "execute_result"
    }
   ],
   "source": [
    "complete_task(\"fa3b198b-423c-400e-b89a-c3b18fb1bef6\")"
   ]
  },
  {
   "cell_type": "code",
   "execution_count": 47,
   "metadata": {},
   "outputs": [
    {
     "data": {
      "text/plain": [
       "{'task_id': 'fa3b198b-423c-400e-b89a-c3b18fb1bef6',\n",
       " 'task': 'Talk to firoz about db problem',\n",
       " 'created_at': '2023-03-16T08:51:38.674018',\n",
       " 'last_updated_at': '2023-03-16T09:00:01.517205',\n",
       " 'status': 'Completed'}"
      ]
     },
     "execution_count": 47,
     "metadata": {},
     "output_type": "execute_result"
    }
   ],
   "source": [
    "get_a_task(\"fa3b198b-423c-400e-b89a-c3b18fb1bef6\")"
   ]
  },
  {
   "cell_type": "code",
   "execution_count": 48,
   "metadata": {},
   "outputs": [],
   "source": [
    "def delete_a_task(task_id):\n",
    "    if task_id in TASKS:\n",
    "        _ = TASKS.pop(task_id)\n",
    "        return \"Task deleted\"\n",
    "\n",
    "    else:\n",
    "        return \"Task id is invalid\""
   ]
  },
  {
   "cell_type": "code",
   "execution_count": 49,
   "metadata": {},
   "outputs": [
    {
     "data": {
      "text/plain": [
       "{'task_id': 'fa3b198b-423c-400e-b89a-c3b18fb1bef6',\n",
       " 'task': 'Talk to firoz about db problem',\n",
       " 'created_at': '2023-03-16T08:51:38.674018',\n",
       " 'last_updated_at': '2023-03-16T09:00:01.517205',\n",
       " 'status': 'Completed'}"
      ]
     },
     "execution_count": 49,
     "metadata": {},
     "output_type": "execute_result"
    }
   ],
   "source": [
    "get_a_task(\"fa3b198b-423c-400e-b89a-c3b18fb1bef6\")"
   ]
  },
  {
   "cell_type": "code",
   "execution_count": 50,
   "metadata": {},
   "outputs": [
    {
     "data": {
      "text/plain": [
       "'Task deleted'"
      ]
     },
     "execution_count": 50,
     "metadata": {},
     "output_type": "execute_result"
    }
   ],
   "source": [
    "delete_a_task(\"fa3b198b-423c-400e-b89a-c3b18fb1bef6\")"
   ]
  },
  {
   "cell_type": "code",
   "execution_count": 53,
   "metadata": {},
   "outputs": [
    {
     "data": {
      "text/plain": [
       "'Task id is invalid'"
      ]
     },
     "execution_count": 53,
     "metadata": {},
     "output_type": "execute_result"
    }
   ],
   "source": [
    "get_a_task(\"fa3b198b-423c-400e-b89a-c3b18fb1bef6\")"
   ]
  },
  {
   "cell_type": "code",
   "execution_count": 55,
   "metadata": {},
   "outputs": [
    {
     "data": {
      "text/plain": [
       "{'task_id': 'a5437154-7593-4f87-81b7-8a867e00fac1',\n",
       " 'task': 'first task',\n",
       " 'created_at': '2023-03-16T08:50:22.371911',\n",
       " 'last_updated_at': '2023-03-16T08:50:22.371911',\n",
       " 'status': 'In Progress'}"
      ]
     },
     "execution_count": 55,
     "metadata": {},
     "output_type": "execute_result"
    }
   ],
   "source": [
    "TASKS['a5437154-7593-4f87-81b7-8a867e00fac1']"
   ]
  },
  {
   "cell_type": "code",
   "execution_count": 67,
   "metadata": {},
   "outputs": [],
   "source": [
    "def get_all_tasks():\n",
    "    keys = [\"task_id\", \"task\", \"status\"]\n",
    "\n",
    "    all_tasks = []\n",
    "\n",
    "    for task_id, task_details in TASKS.items():\n",
    "        task_details_to_return = {}\n",
    "        for key, value in task_details.items():\n",
    "            if key in keys:\n",
    "                task_details_to_return[key] = value\n",
    "\n",
    "        all_tasks.append(task_details_to_return)\n",
    "\n",
    "    return all_tasks"
   ]
  },
  {
   "cell_type": "code",
   "execution_count": 68,
   "metadata": {},
   "outputs": [
    {
     "data": {
      "text/plain": [
       "[{'task_id': 'a5437154-7593-4f87-81b7-8a867e00fac1',\n",
       "  'task': 'first task',\n",
       "  'status': 'In Progress'},\n",
       " {'task_id': 'a432b999-5f5d-4662-bacd-dee8edbda7d7',\n",
       "  'task': 'Talk to karthik',\n",
       "  'status': 'In Progress'},\n",
       " {'task_id': '0a362c13-d1a2-4fad-9658-4b5c4cd90823',\n",
       "  'task': 'do a project in aws pagination',\n",
       "  'status': 'In Progress'},\n",
       " {'task_id': '8f3f7891-3bb6-4e14-ae9f-c350ba2537bb',\n",
       "  'task': 'do a project using db',\n",
       "  'status': 'In Progress'}]"
      ]
     },
     "execution_count": 68,
     "metadata": {},
     "output_type": "execute_result"
    }
   ],
   "source": [
    "get_all_tasks()"
   ]
  },
  {
   "cell_type": "code",
   "execution_count": 66,
   "metadata": {},
   "outputs": [
    {
     "data": {
      "text/plain": [
       "{'task_id': 'a5437154-7593-4f87-81b7-8a867e00fac1',\n",
       " 'task': 'first task',\n",
       " 'status': 'In Progress'}"
      ]
     },
     "execution_count": 66,
     "metadata": {},
     "output_type": "execute_result"
    }
   ],
   "source": [
    "task_details_to_return"
   ]
  },
  {
   "cell_type": "code",
   "execution_count": 69,
   "metadata": {},
   "outputs": [],
   "source": [
    "class Car:\n",
    "    make = \"Toyota\""
   ]
  },
  {
   "cell_type": "code",
   "execution_count": 70,
   "metadata": {},
   "outputs": [
    {
     "data": {
      "text/plain": [
       "__main__.Car"
      ]
     },
     "execution_count": 70,
     "metadata": {},
     "output_type": "execute_result"
    }
   ],
   "source": [
    "Car"
   ]
  },
  {
   "cell_type": "code",
   "execution_count": 71,
   "metadata": {},
   "outputs": [
    {
     "data": {
      "text/plain": [
       "['__class__',\n",
       " '__delattr__',\n",
       " '__dict__',\n",
       " '__dir__',\n",
       " '__doc__',\n",
       " '__eq__',\n",
       " '__format__',\n",
       " '__ge__',\n",
       " '__getattribute__',\n",
       " '__gt__',\n",
       " '__hash__',\n",
       " '__init__',\n",
       " '__init_subclass__',\n",
       " '__le__',\n",
       " '__lt__',\n",
       " '__module__',\n",
       " '__ne__',\n",
       " '__new__',\n",
       " '__reduce__',\n",
       " '__reduce_ex__',\n",
       " '__repr__',\n",
       " '__setattr__',\n",
       " '__sizeof__',\n",
       " '__str__',\n",
       " '__subclasshook__',\n",
       " '__weakref__',\n",
       " 'make']"
      ]
     },
     "execution_count": 71,
     "metadata": {},
     "output_type": "execute_result"
    }
   ],
   "source": [
    "dir(Car)"
   ]
  },
  {
   "cell_type": "code",
   "execution_count": 72,
   "metadata": {},
   "outputs": [],
   "source": [
    "from flask import Flask\n",
    "app = Flask(\"ToDO\")"
   ]
  },
  {
   "cell_type": "code",
   "execution_count": 74,
   "metadata": {},
   "outputs": [
    {
     "name": "stdout",
     "output_type": "stream",
     "text": [
      "\u001b[0;31mSignature:\u001b[0m\n",
      "\u001b[0mapp\u001b[0m\u001b[0;34m.\u001b[0m\u001b[0mrun\u001b[0m\u001b[0;34m(\u001b[0m\u001b[0;34m\u001b[0m\n",
      "\u001b[0;34m\u001b[0m    \u001b[0mhost\u001b[0m\u001b[0;34m:\u001b[0m \u001b[0mOptional\u001b[0m\u001b[0;34m[\u001b[0m\u001b[0mstr\u001b[0m\u001b[0;34m]\u001b[0m \u001b[0;34m=\u001b[0m \u001b[0;32mNone\u001b[0m\u001b[0;34m,\u001b[0m\u001b[0;34m\u001b[0m\n",
      "\u001b[0;34m\u001b[0m    \u001b[0mport\u001b[0m\u001b[0;34m:\u001b[0m \u001b[0mOptional\u001b[0m\u001b[0;34m[\u001b[0m\u001b[0mint\u001b[0m\u001b[0;34m]\u001b[0m \u001b[0;34m=\u001b[0m \u001b[0;32mNone\u001b[0m\u001b[0;34m,\u001b[0m\u001b[0;34m\u001b[0m\n",
      "\u001b[0;34m\u001b[0m    \u001b[0mdebug\u001b[0m\u001b[0;34m:\u001b[0m \u001b[0mOptional\u001b[0m\u001b[0;34m[\u001b[0m\u001b[0mbool\u001b[0m\u001b[0;34m]\u001b[0m \u001b[0;34m=\u001b[0m \u001b[0;32mNone\u001b[0m\u001b[0;34m,\u001b[0m\u001b[0;34m\u001b[0m\n",
      "\u001b[0;34m\u001b[0m    \u001b[0mload_dotenv\u001b[0m\u001b[0;34m:\u001b[0m \u001b[0mbool\u001b[0m \u001b[0;34m=\u001b[0m \u001b[0;32mTrue\u001b[0m\u001b[0;34m,\u001b[0m\u001b[0;34m\u001b[0m\n",
      "\u001b[0;34m\u001b[0m    \u001b[0;34m**\u001b[0m\u001b[0moptions\u001b[0m\u001b[0;34m:\u001b[0m \u001b[0mAny\u001b[0m\u001b[0;34m,\u001b[0m\u001b[0;34m\u001b[0m\n",
      "\u001b[0;34m\u001b[0m\u001b[0;34m)\u001b[0m \u001b[0;34m->\u001b[0m \u001b[0;32mNone\u001b[0m\u001b[0;34m\u001b[0m\u001b[0;34m\u001b[0m\u001b[0m\n",
      "\u001b[0;31mDocstring:\u001b[0m\n",
      "Runs the application on a local development server.\n",
      "\n",
      "Do not use ``run()`` in a production setting. It is not intended to\n",
      "meet security and performance requirements for a production server.\n",
      "Instead, see :doc:`/deploying/index` for WSGI server recommendations.\n",
      "\n",
      "If the :attr:`debug` flag is set the server will automatically reload\n",
      "for code changes and show a debugger in case an exception happened.\n",
      "\n",
      "If you want to run the application in debug mode, but disable the\n",
      "code execution on the interactive debugger, you can pass\n",
      "``use_evalex=False`` as parameter.  This will keep the debugger's\n",
      "traceback screen active, but disable code execution.\n",
      "\n",
      "It is not recommended to use this function for development with\n",
      "automatic reloading as this is badly supported.  Instead you should\n",
      "be using the :command:`flask` command line script's ``run`` support.\n",
      "\n",
      ".. admonition:: Keep in Mind\n",
      "\n",
      "   Flask will suppress any server error with a generic error page\n",
      "   unless it is in debug mode.  As such to enable just the\n",
      "   interactive debugger without the code reloading, you have to\n",
      "   invoke :meth:`run` with ``debug=True`` and ``use_reloader=False``.\n",
      "   Setting ``use_debugger`` to ``True`` without being in debug mode\n",
      "   won't catch any exceptions because there won't be any to\n",
      "   catch.\n",
      "\n",
      ":param host: the hostname to listen on. Set this to ``'0.0.0.0'`` to\n",
      "    have the server available externally as well. Defaults to\n",
      "    ``'127.0.0.1'`` or the host in the ``SERVER_NAME`` config variable\n",
      "    if present.\n",
      ":param port: the port of the webserver. Defaults to ``5000`` or the\n",
      "    port defined in the ``SERVER_NAME`` config variable if present.\n",
      ":param debug: if given, enable or disable debug mode. See\n",
      "    :attr:`debug`.\n",
      ":param load_dotenv: Load the nearest :file:`.env` and :file:`.flaskenv`\n",
      "    files to set environment variables. Will also change the working\n",
      "    directory to the directory containing the first file found.\n",
      ":param options: the options to be forwarded to the underlying Werkzeug\n",
      "    server. See :func:`werkzeug.serving.run_simple` for more\n",
      "    information.\n",
      "\n",
      ".. versionchanged:: 1.0\n",
      "    If installed, python-dotenv will be used to load environment\n",
      "    variables from :file:`.env` and :file:`.flaskenv` files.\n",
      "\n",
      "    The :envvar:`FLASK_DEBUG` environment variable will override :attr:`debug`.\n",
      "\n",
      "    Threaded mode is enabled by default.\n",
      "\n",
      ".. versionchanged:: 0.10\n",
      "    The default port is now picked from the ``SERVER_NAME``\n",
      "    variable.\n",
      "\u001b[0;31mFile:\u001b[0m      ~/.local/lib/python3.9/site-packages/flask/app.py\n",
      "\u001b[0;31mType:\u001b[0m      method"
     ]
    }
   ],
   "source": [
    "?app.run"
   ]
  },
  {
   "cell_type": "code",
   "execution_count": null,
   "metadata": {},
   "outputs": [],
   "source": []
  }
 ],
 "metadata": {
  "kernelspec": {
   "display_name": "Python 3",
   "language": "python",
   "name": "python3"
  },
  "language_info": {
   "codemirror_mode": {
    "name": "ipython",
    "version": 3
   },
   "file_extension": ".py",
   "mimetype": "text/x-python",
   "name": "python",
   "nbconvert_exporter": "python",
   "pygments_lexer": "ipython3",
   "version": "3.9.16"
  },
  "orig_nbformat": 4
 },
 "nbformat": 4,
 "nbformat_minor": 2
}
