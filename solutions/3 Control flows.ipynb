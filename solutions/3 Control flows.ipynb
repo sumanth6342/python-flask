{
 "cells": [
  {
   "attachments": {},
   "cell_type": "markdown",
   "metadata": {},
   "source": [
    "### checking voting eligibility\n",
    "> print the users whose age is greater than 18"
   ]
  },
  {
   "cell_type": "code",
   "execution_count": 1,
   "metadata": {},
   "outputs": [],
   "source": [
    "users = {\n",
    "    \"sarita\": 24,\n",
    "    \"naman\": 34,\n",
    "    \"rahul\": 12,\n",
    "    \"ramesh\": 23,\n",
    "    \"shivaay\": 3,\n",
    "    \"vinita\": 17\n",
    "}"
   ]
  },
  {
   "cell_type": "code",
   "execution_count": 2,
   "metadata": {},
   "outputs": [
    {
     "name": "stdout",
     "output_type": "stream",
     "text": [
      "sarita eligible for voting\n",
      "naman eligible for voting\n",
      "rahul not eligible for voting\n",
      "ramesh eligible for voting\n",
      "shivaay not eligible for voting\n",
      "vinita not eligible for voting\n"
     ]
    }
   ],
   "source": [
    "for user, age in users.items():\n",
    "    if age >= 18:\n",
    "        print(f\"{user} eligible for voting\")\n",
    "    else:\n",
    "        print(f\"{user} not eligible for voting\")"
   ]
  },
  {
   "cell_type": "code",
   "execution_count": 3,
   "metadata": {},
   "outputs": [
    {
     "name": "stdout",
     "output_type": "stream",
     "text": [
      "sarita eligible for voting\n",
      "naman eligible for voting\n",
      "rahul not eligible for voting\n",
      "ramesh eligible for voting\n",
      "shivaay not eligible for voting\n",
      "vinita not eligible for voting\n"
     ]
    }
   ],
   "source": [
    "for user in users:\n",
    "    if users[user] >= 18:\n",
    "        print(f\"{user} eligible for voting\")\n",
    "    else:\n",
    "        print(f\"{user} not eligible for voting\")"
   ]
  },
  {
   "attachments": {},
   "cell_type": "markdown",
   "metadata": {},
   "source": [
    "### squaring utility\n",
    "> calculate and print the square of these numbers"
   ]
  },
  {
   "cell_type": "code",
   "execution_count": 4,
   "metadata": {},
   "outputs": [],
   "source": [
    "numbers = [1, 2, 3, 4, 5, 6, 7, 8, 9, 10]"
   ]
  },
  {
   "cell_type": "code",
   "execution_count": 5,
   "metadata": {},
   "outputs": [
    {
     "name": "stdout",
     "output_type": "stream",
     "text": [
      "1 1\n",
      "2 4\n",
      "3 9\n",
      "4 16\n",
      "5 25\n",
      "6 36\n",
      "7 49\n",
      "8 64\n",
      "9 81\n",
      "10 100\n"
     ]
    }
   ],
   "source": [
    "for number in numbers:\n",
    "    square = number ** 2\n",
    "    print(number, square)"
   ]
  },
  {
   "attachments": {},
   "cell_type": "markdown",
   "metadata": {},
   "source": [
    "### find the relatives of ambani\n",
    "> print the names which contains the word ambani"
   ]
  },
  {
   "cell_type": "code",
   "execution_count": 6,
   "metadata": {},
   "outputs": [],
   "source": [
    "members = [\n",
    "    \"A Rahul Ambani\",\n",
    "    \"Ambani Mukesh\",\n",
    "    \"Gautam Adani\",\n",
    "    \"Adani Anil\",\n",
    "    \"Anil ambani Fake\",\n",
    "    \"Modi Fake Ambani\",\n",
    "    \"Rahul Adani\",\n",
    "    \"Saumya adani B\"\n",
    "]"
   ]
  },
  {
   "cell_type": "code",
   "execution_count": 7,
   "metadata": {},
   "outputs": [
    {
     "name": "stdout",
     "output_type": "stream",
     "text": [
      "A Rahul Ambani\n",
      "Ambani Mukesh\n",
      "Anil ambani Fake\n",
      "Modi Fake Ambani\n"
     ]
    }
   ],
   "source": [
    "for name in members:\n",
    "    if \"ambani\" in name.lower():\n",
    "        print(name)"
   ]
  },
  {
   "attachments": {},
   "cell_type": "markdown",
   "metadata": {},
   "source": [
    "### print big names\n",
    "> print names with 3 or more words"
   ]
  },
  {
   "cell_type": "code",
   "execution_count": 8,
   "metadata": {},
   "outputs": [],
   "source": [
    "members = [\n",
    "    \"A Rahul Ambani\",\n",
    "    \"Ambani Mukesh\",\n",
    "    \"Gautam Adani\",\n",
    "    \"Adani Anil\",\n",
    "    \"Anil ambani Fake\",\n",
    "    \"Modi Fake Ambani\",\n",
    "    \"Rahul Adani\",\n",
    "    \"Saumya adani B\"\n",
    "]"
   ]
  },
  {
   "cell_type": "code",
   "execution_count": 9,
   "metadata": {},
   "outputs": [
    {
     "name": "stdout",
     "output_type": "stream",
     "text": [
      "A Rahul Ambani\n",
      "Anil ambani Fake\n",
      "Modi Fake Ambani\n",
      "Saumya adani B\n"
     ]
    }
   ],
   "source": [
    "for name in members:\n",
    "    name_split = name.split()\n",
    "    len_of_words = len(name_split)\n",
    "    \n",
    "    if len_of_words >= 3:\n",
    "        print(name)"
   ]
  },
  {
   "cell_type": "code",
   "execution_count": 10,
   "metadata": {},
   "outputs": [
    {
     "name": "stdout",
     "output_type": "stream",
     "text": [
      "A Rahul Ambani\n",
      "Anil ambani Fake\n",
      "Modi Fake Ambani\n",
      "Saumya adani B\n"
     ]
    }
   ],
   "source": [
    "for name in members:\n",
    "    if len(name.split()) >= 3:\n",
    "        print(name)"
   ]
  },
  {
   "cell_type": "code",
   "execution_count": null,
   "metadata": {},
   "outputs": [],
   "source": []
  }
 ],
 "metadata": {
  "kernelspec": {
   "display_name": "Python 3 (ipykernel)",
   "language": "python",
   "name": "python3"
  },
  "language_info": {
   "codemirror_mode": {
    "name": "ipython",
    "version": 3
   },
   "file_extension": ".py",
   "mimetype": "text/x-python",
   "name": "python",
   "nbconvert_exporter": "python",
   "pygments_lexer": "ipython3",
   "version": "3.9.16"
  },
  "orig_nbformat": 4
 },
 "nbformat": 4,
 "nbformat_minor": 2
}
