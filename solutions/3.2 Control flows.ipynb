{
 "cells": [
  {
   "attachments": {},
   "cell_type": "markdown",
   "metadata": {},
   "source": [
    "### Strong Password Generator\n",
    "\n",
    "> The password should have at least 8 characters long, contains at least one uppercase letter, contains at least one digit. Ask the user for password until he adds a valid password. When entering a wrong password, tell the user about why it is invalid"
   ]
  },
  {
   "cell_type": "code",
   "execution_count": null,
   "metadata": {},
   "outputs": [],
   "source": [
    "password1 = \"pass123\"\n",
    "password2 = \"PassW0rd\"\n",
    "password3 = \"PassWord\"\n",
    "password4 = \"Pass1233\"\n",
    "password5 = \"Pass123d\""
   ]
  },
  {
   "cell_type": "code",
   "execution_count": 4,
   "metadata": {},
   "outputs": [],
   "source": [
    "password = input(\"Enter a password : \")"
   ]
  },
  {
   "cell_type": "code",
   "execution_count": 5,
   "metadata": {},
   "outputs": [
    {
     "data": {
      "text/plain": [
       "'PassW0rd'"
      ]
     },
     "execution_count": 5,
     "metadata": {},
     "output_type": "execute_result"
    }
   ],
   "source": [
    "password"
   ]
  },
  {
   "cell_type": "code",
   "execution_count": 16,
   "metadata": {},
   "outputs": [
    {
     "name": "stdout",
     "output_type": "stream",
     "text": [
      "entered password is : sfwsdf\n",
      "invalid password inside else\n",
      "entered password is : asdas\n",
      "invalid password inside else\n",
      "entered password is : asdjkh\n",
      "invalid password inside else\n",
      "entered password is : PassW0rd\n",
      "valid password\n"
     ]
    }
   ],
   "source": [
    "while True:\n",
    "    # get the password as input\n",
    "    password = input(\"Enter a password : \")\n",
    "    print(f\"entered password is : {password}\")\n",
    "    \n",
    "    # check the validity of the password\n",
    "    is_upper_available, is_lower_available, is_digit_available = False, False, False\n",
    "    is_password_valid = None\n",
    "\n",
    "    if len(password) >= 8:\n",
    "        for character in password:\n",
    "            if character.isdigit():\n",
    "                is_digit_available = True\n",
    "\n",
    "            if character.isupper():\n",
    "                is_upper_available = True\n",
    "\n",
    "            if character.islower():\n",
    "                is_lower_available = True\n",
    "\n",
    "        if is_upper_available and is_lower_available and is_digit_available:\n",
    "            print(\"valid password\")\n",
    "            is_password_valid = True\n",
    "\n",
    "        else:\n",
    "            print(is_upper_available, is_lower_available, is_digit_available)\n",
    "            print(\"invalid password inside if\")\n",
    "            is_password_valid = False\n",
    "            \n",
    "    else:\n",
    "        print(\"invalid password inside else\")\n",
    "        is_password_valid = False\n",
    "        \n",
    "    # hard break to test out the while loop\n",
    "    # break\n",
    "\n",
    "    # if valid -> stop else -> continue\n",
    "    if is_password_valid:\n",
    "        break\n",
    "    # else:\n",
    "    #     continue"
   ]
  },
  {
   "cell_type": "code",
   "execution_count": null,
   "metadata": {},
   "outputs": [],
   "source": [
    "# TODO : add indent notes\n",
    "while:\n",
    "    if:\n",
    "        line1\n",
    "        line2\n",
    "    else:\n",
    "        line1\n"
   ]
  },
  {
   "cell_type": "code",
   "execution_count": 10,
   "metadata": {},
   "outputs": [
    {
     "name": "stdout",
     "output_type": "stream",
     "text": [
      "valid password\n"
     ]
    }
   ],
   "source": [
    "is_upper_available, is_lower_available, is_digit_available = False, False, False\n",
    "is_password_valid = None\n",
    "\n",
    "if len(password) >= 8:\n",
    "    for character in password:\n",
    "        if character.isdigit():\n",
    "            is_digit_available = True\n",
    "\n",
    "        if character.isupper():\n",
    "            is_upper_available = True\n",
    "\n",
    "        if character.islower():\n",
    "            is_lower_available = True\n",
    "\n",
    "    if is_upper_available and is_lower_available and is_digit_available:\n",
    "        print(\"valid password\")\n",
    "        is_password_valid = True\n",
    "\n",
    "    else:\n",
    "        print(is_upper_available, is_lower_available, is_digit_available)\n",
    "        print(\"invalid password inside if\")\n",
    "        is_password_valid = False\n",
    "        \n",
    "else:\n",
    "    print(\"invalid password inside else\")\n",
    "    is_password_valid = False"
   ]
  },
  {
   "cell_type": "code",
   "execution_count": 11,
   "metadata": {},
   "outputs": [
    {
     "data": {
      "text/plain": [
       "True"
      ]
     },
     "execution_count": 11,
     "metadata": {},
     "output_type": "execute_result"
    }
   ],
   "source": [
    "is_password_valid"
   ]
  },
  {
   "attachments": {},
   "cell_type": "markdown",
   "metadata": {},
   "source": [
    "### Batch Greetings\n",
    "\n",
    "> Write a program that greets all the users through a input. Enter the user info using a single input. Solve using both for-loop and while-loop"
   ]
  },
  {
   "cell_type": "code",
   "execution_count": null,
   "metadata": {},
   "outputs": [],
   "source": [
    "# implement the program"
   ]
  },
  {
   "cell_type": "code",
   "execution_count": 22,
   "metadata": {},
   "outputs": [
    {
     "name": "stdout",
     "output_type": "stream",
     "text": [
      "true\n"
     ]
    }
   ],
   "source": [
    "if -1:\n",
    "    print(\"true\")\n",
    "else:\n",
    "    print(\"false\")"
   ]
  },
  {
   "cell_type": "code",
   "execution_count": 23,
   "metadata": {},
   "outputs": [
    {
     "name": "stdout",
     "output_type": "stream",
     "text": [
      "Hello karthik!!\n",
      "Hello firo!!\n",
      "Hello betrand!!\n",
      "Hello santosh!!\n"
     ]
    }
   ],
   "source": [
    "count = 4\n",
    "\n",
    "while count:\n",
    "    name = input(\"Enter your name : \")\n",
    "    greeting = f\"Hello {name}!!\"\n",
    "    print(greeting)\n",
    "\n",
    "    count -= 1"
   ]
  },
  {
   "cell_type": "code",
   "execution_count": null,
   "metadata": {},
   "outputs": [],
   "source": []
  }
 ],
 "metadata": {
  "kernelspec": {
   "display_name": "Python 3 (ipykernel)",
   "language": "python",
   "name": "python3"
  },
  "language_info": {
   "codemirror_mode": {
    "name": "ipython",
    "version": 3
   },
   "file_extension": ".py",
   "mimetype": "text/x-python",
   "name": "python",
   "nbconvert_exporter": "python",
   "pygments_lexer": "ipython3",
   "version": "3.9.16"
  },
  "orig_nbformat": 4
 },
 "nbformat": 4,
 "nbformat_minor": 2
}
