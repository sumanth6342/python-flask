{
 "cells": [
  {
   "attachments": {},
   "cell_type": "markdown",
   "metadata": {},
   "source": [
    "### 1 Email Slicer"
   ]
  },
  {
   "attachments": {},
   "cell_type": "markdown",
   "metadata": {},
   "source": [
    "> write a function to slice email and domain from an email address. Print that in a representable way\n",
    "\n",
    "    function input - email\n",
    "    function output - printing the username and domain\n",
    "\n",
    "    example input and outputs\n",
    "    \"someone@example.com\" -> username - someone, domain - example"
   ]
  },
  {
   "cell_type": "code",
   "execution_count": 1,
   "metadata": {},
   "outputs": [],
   "source": [
    "email = \"someone@example.com\""
   ]
  },
  {
   "cell_type": "code",
   "execution_count": 2,
   "metadata": {},
   "outputs": [],
   "source": [
    "def email_slicer(email): \n",
    "    name, fqdn = email.split(\"@\") \n",
    "    domain_name = fqdn.split(\".\")[0] \n",
    "    \n",
    "    print(f\"Name -> {name.title()}, Domain -> {domain_name}\") \n",
    "    return name, domain_name"
   ]
  },
  {
   "cell_type": "code",
   "execution_count": 3,
   "metadata": {},
   "outputs": [
    {
     "name": "stdout",
     "output_type": "stream",
     "text": [
      "Name -> Someone, Domain -> example\n"
     ]
    }
   ],
   "source": [
    "name, domain_name = email_slicer(email)"
   ]
  },
  {
   "cell_type": "code",
   "execution_count": 4,
   "metadata": {},
   "outputs": [
    {
     "data": {
      "text/plain": [
       "'someone'"
      ]
     },
     "execution_count": 4,
     "metadata": {},
     "output_type": "execute_result"
    }
   ],
   "source": [
    "name"
   ]
  },
  {
   "cell_type": "code",
   "execution_count": 5,
   "metadata": {},
   "outputs": [
    {
     "data": {
      "text/plain": [
       "'example'"
      ]
     },
     "execution_count": 5,
     "metadata": {},
     "output_type": "execute_result"
    }
   ],
   "source": [
    "domain_name"
   ]
  },
  {
   "attachments": {},
   "cell_type": "markdown",
   "metadata": {},
   "source": [
    "### 2 Currency Convertor"
   ]
  },
  {
   "attachments": {},
   "cell_type": "markdown",
   "metadata": {},
   "source": [
    "> Write a program to convert rupee to dollar and vice versa\n",
    "\n",
    "    function input - amount, input_currency, output_currency\n",
    "    function output - printing the currency conversion\n",
    "\n",
    "    supported values\n",
    "    input_currency = rupee, dollar\n",
    "    output_currency = rupee, dollar\n",
    "\n",
    "    note : you can take the current values of inr to dollar conversion\n",
    "\n",
    "    note - handle unsupported currency values by telling the user that the operation is not supported\n",
    "\n",
    "    example inputs and ouptuts -> \n",
    "    4, \"rupee\", \"dollar\" -> converted currency value\n",
    "    20, \"dollar\", \"rupee\" -> converted currency value"
   ]
  },
  {
   "cell_type": "code",
   "execution_count": 6,
   "metadata": {},
   "outputs": [],
   "source": [
    "inr_to_dollar = 0.012\n",
    "dollar_to_inr = 82.67\n",
    "\n",
    "def currency_convertor(amount, input_currency, output_currency):\n",
    "    # if (type(amount) == int) or (type(amount) == float):\n",
    "    #     pass\n",
    "\n",
    "    if type(amount) in [int, float]:\n",
    "        if (input_currency == \"rupee\") and (output_currency == \"dollar\"):\n",
    "            converted_currency = amount * inr_to_dollar\n",
    "            return converted_currency\n",
    "        \n",
    "        elif (input_currency == \"dollar\") and (output_currency == \"rupee\"):\n",
    "            converted_currency = amount * dollar_to_inr\n",
    "            return converted_currency\n",
    "        \n",
    "        else:\n",
    "            return None \n",
    "    \n",
    "    else:\n",
    "        print(\"printing before return value\")\n",
    "        return None\n",
    "        print(\"printing after return value\")"
   ]
  },
  {
   "cell_type": "code",
   "execution_count": 7,
   "metadata": {},
   "outputs": [],
   "source": [
    "converted_currency = currency_convertor(999, \"dollar\", \"rupee\")"
   ]
  },
  {
   "cell_type": "code",
   "execution_count": 8,
   "metadata": {},
   "outputs": [
    {
     "data": {
      "text/plain": [
       "82587.33"
      ]
     },
     "execution_count": 8,
     "metadata": {},
     "output_type": "execute_result"
    }
   ],
   "source": [
    "converted_currency"
   ]
  },
  {
   "cell_type": "code",
   "execution_count": 9,
   "metadata": {},
   "outputs": [],
   "source": [
    "converted_currency = currency_convertor(\n",
    "    amount=999, \n",
    "    input_currency=\"dollar\",\n",
    "    output_currency=\"rupee\"\n",
    ")"
   ]
  },
  {
   "cell_type": "code",
   "execution_count": 10,
   "metadata": {},
   "outputs": [
    {
     "data": {
      "text/plain": [
       "82587.33"
      ]
     },
     "execution_count": 10,
     "metadata": {},
     "output_type": "execute_result"
    }
   ],
   "source": [
    "converted_currency"
   ]
  },
  {
   "cell_type": "code",
   "execution_count": 11,
   "metadata": {},
   "outputs": [
    {
     "name": "stdout",
     "output_type": "stream",
     "text": [
      "printing before return value\n"
     ]
    }
   ],
   "source": [
    "converted_currency = currency_convertor(\n",
    "    amount=\"ninety\", \n",
    "    input_currency=\"dollar\",\n",
    "    output_currency=\"rupee\"\n",
    ")"
   ]
  },
  {
   "cell_type": "code",
   "execution_count": 12,
   "metadata": {},
   "outputs": [],
   "source": [
    "converted_currency"
   ]
  },
  {
   "cell_type": "code",
   "execution_count": 13,
   "metadata": {},
   "outputs": [
    {
     "data": {
      "text/plain": [
       "NoneType"
      ]
     },
     "execution_count": 13,
     "metadata": {},
     "output_type": "execute_result"
    }
   ],
   "source": [
    "type(converted_currency)"
   ]
  },
  {
   "attachments": {},
   "cell_type": "markdown",
   "metadata": {},
   "source": [
    "### 3 Number guesser"
   ]
  },
  {
   "attachments": {},
   "cell_type": "markdown",
   "metadata": {},
   "source": [
    "> Write a program to guess a number between 1 and 10\n",
    "\n",
    "    hint: use a while loop for continuous input\n",
    "\n",
    "    logic: take the input from the user as an input using a while loop and break out of the loop when the user's input is same as the function input\n",
    "\n",
    "    function input - number (assuming its only in the backend)\n",
    "    function output - printing the wrong number guessed and the right number guessed\n",
    "\n",
    "    example inputs and outputs\n",
    "    3 -> wrong or right number guessed\n",
    "    6 -> wrong or right number guessed\n",
    "    8 -> wrong or right number guessed"
   ]
  },
  {
   "cell_type": "code",
   "execution_count": 16,
   "metadata": {},
   "outputs": [],
   "source": [
    "def number_guesser(right_number):\n",
    "    # while loop\n",
    "    while True:\n",
    "        user_guessed_number = None\n",
    "\n",
    "        # take input from the user\n",
    "        user_guess = input(\"Please guess a number: \")\n",
    "        \n",
    "        try:\n",
    "            user_guessed_number = int(user_guess)\n",
    "        except:\n",
    "            print(\"Allowed input type is only integers\")\n",
    "\n",
    "        # use if conditions to check the input is lesser than or greater than or equal to the right_number\n",
    "            # when equal break out of the loop and say its a right number guessed\n",
    "            # when others say its a wrong number guessed\n",
    "        if user_guessed_number:\n",
    "            if user_guessed_number > right_number:\n",
    "                print(f\"Your guess {user_guessed_number} is wrong, please guess a lower number\")\n",
    "            elif user_guessed_number < right_number:\n",
    "                print(f\"Your guess {user_guessed_number} is wrong, please guess a higher number\")\n",
    "            elif user_guessed_number == right_number:\n",
    "                print(f\"You've guessed {user_guessed_number} which is right\")\n",
    "                break"
   ]
  },
  {
   "cell_type": "code",
   "execution_count": 18,
   "metadata": {},
   "outputs": [
    {
     "name": "stdout",
     "output_type": "stream",
     "text": [
      "Your guess 3 is wrong, please guess a higher number\n",
      "Your guess 7 is wrong, please guess a lower number\n",
      "Your guess 4 is wrong, please guess a higher number\n",
      "Your guess 6 is wrong, please guess a lower number\n",
      "You've guessed 5 which is right\n"
     ]
    }
   ],
   "source": [
    "number_guesser(5)"
   ]
  },
  {
   "attachments": {},
   "cell_type": "markdown",
   "metadata": {},
   "source": [
    "### 4 Calculator app"
   ]
  },
  {
   "attachments": {},
   "cell_type": "markdown",
   "metadata": {},
   "source": [
    "> Write a program to build a calculator\n",
    "\n",
    "    function input - number1, number2, operation\n",
    "    function output - print the calculation\n",
    "\n",
    "    supported values of operation - add, subtract, multiply, division\n",
    "\n",
    "    note: handle unsupported operations as well by telling the user this operation is not supported\n",
    "\n",
    "    example inputs & outputs\n",
    "    2, 3, \"add\" - 5\n",
    "    4, 5, \"multiply\" - 20"
   ]
  },
  {
   "cell_type": "code",
   "execution_count": 20,
   "metadata": {},
   "outputs": [],
   "source": [
    "supported_operations = [\"add\", \"sub\", \"mul\", \"div\"]\n",
    "\n",
    "\n",
    "def calculator(number1, number2, operation):\n",
    "    result = None\n",
    "    \n",
    "    if number1.__class__ == int and number2.__class__ == int:\n",
    "        if operation in supported_operations:\n",
    "            if operation == \"add\":\n",
    "                result = number1 + number2\n",
    "\n",
    "            elif operation == \"sub\":\n",
    "                result = number1 - number2\n",
    "                \n",
    "            elif operation == \"mul\":\n",
    "                result = number1 * number2\n",
    "\n",
    "            elif operation == \"div\":\n",
    "                result = number1 / number2\n",
    "\n",
    "        else:\n",
    "            print(f\"Please enter valid inputs, operations should be one of {supported_operations}\")\n",
    "    else:\n",
    "        print(\"Please enter valid inputs, both number1 & number2 should be numbers\")\n",
    "\n",
    "    return result"
   ]
  },
  {
   "cell_type": "code",
   "execution_count": 21,
   "metadata": {},
   "outputs": [
    {
     "data": {
      "text/plain": [
       "5"
      ]
     },
     "execution_count": 21,
     "metadata": {},
     "output_type": "execute_result"
    }
   ],
   "source": [
    "calculator(2, 3, \"add\")"
   ]
  },
  {
   "cell_type": "code",
   "execution_count": 22,
   "metadata": {},
   "outputs": [
    {
     "name": "stdout",
     "output_type": "stream",
     "text": [
      "Please enter valid inputs, both number1 & number2 should be numbers\n"
     ]
    }
   ],
   "source": [
    "calculator(2, \"3\", \"add\")"
   ]
  },
  {
   "cell_type": "code",
   "execution_count": 23,
   "metadata": {},
   "outputs": [
    {
     "name": "stdout",
     "output_type": "stream",
     "text": [
      "Please enter valid inputs, operations should be one of ['add', 'sub', 'mul', 'div']\n"
     ]
    }
   ],
   "source": [
    "calculator(2, 3, \"addition\")"
   ]
  },
  {
   "cell_type": "code",
   "execution_count": 24,
   "metadata": {},
   "outputs": [
    {
     "data": {
      "text/plain": [
       "6"
      ]
     },
     "execution_count": 24,
     "metadata": {},
     "output_type": "execute_result"
    }
   ],
   "source": [
    "calculator(2, 3, \"mul\")"
   ]
  },
  {
   "attachments": {},
   "cell_type": "markdown",
   "metadata": {},
   "source": [
    "### 5 FAQ Bot"
   ]
  },
  {
   "attachments": {},
   "cell_type": "markdown",
   "metadata": {},
   "source": [
    "> Write a program to answer built a faq bot\n",
    "\n",
    "    requirements:\n",
    "    - a fixed set of qestion answer mapping is already defined (refer below dict)\n",
    "\n",
    "    function input - question\n",
    "    function output - answer\n",
    "\n",
    "    note - unsupported questions should notify the user that the operation is not supported\n",
    "\n",
    "    example inputs and outputs\n",
    "    \"Who is the PM of India?\" -> \"Narendra Modi\"\n",
    "    \"Who is the PM of China?\" -> \"Unsupported operation, please try again\""
   ]
  },
  {
   "cell_type": "code",
   "execution_count": 25,
   "metadata": {},
   "outputs": [],
   "source": [
    "knowledge_bank = {\n",
    "    # you can add more questions to this dictionary\n",
    "    \"Who is the PM of India?\": \"Narendra Modi\",\n",
    "    \"When did India get its independence?\": \"1947\",\n",
    "    \"What is the currency of India?\": \"Rupee\"\n",
    "}\n",
    "\n",
    "\n",
    "def faq_bot(question):\n",
    "    knowledge_bank_updated = {}\n",
    "\n",
    "    for _question, _answer in knowledge_bank.items():\n",
    "        knowledge_bank_updated[_question.lower()] = _answer\n",
    "\n",
    "    # check if the input question is available in the knowledge bank or not\n",
    "    # if present -> give the answer\n",
    "    # else -> throw error\n",
    "\n",
    "    question_updated = question.lower()\n",
    "\n",
    "    if question_updated in knowledge_bank_updated:\n",
    "        answer = knowledge_bank_updated[question_updated]\n",
    "        user_reply = f\"The answer is : {answer}\"\n",
    "    else:\n",
    "        user_reply = \"knowledge bank does not have this answer\"\n",
    "\n",
    "    return user_reply"
   ]
  },
  {
   "cell_type": "code",
   "execution_count": 26,
   "metadata": {},
   "outputs": [],
   "source": [
    "question = \"Who is the pm of India?\""
   ]
  },
  {
   "cell_type": "code",
   "execution_count": 27,
   "metadata": {},
   "outputs": [
    {
     "data": {
      "text/plain": [
       "'Who is the pm of India?'"
      ]
     },
     "execution_count": 27,
     "metadata": {},
     "output_type": "execute_result"
    }
   ],
   "source": [
    "question"
   ]
  },
  {
   "cell_type": "code",
   "execution_count": 28,
   "metadata": {},
   "outputs": [],
   "source": [
    "user_reply = faq_bot(question)"
   ]
  },
  {
   "cell_type": "code",
   "execution_count": 29,
   "metadata": {},
   "outputs": [
    {
     "data": {
      "text/plain": [
       "'The answer is : Narendra Modi'"
      ]
     },
     "execution_count": 29,
     "metadata": {},
     "output_type": "execute_result"
    }
   ],
   "source": [
    "user_reply"
   ]
  },
  {
   "cell_type": "code",
   "execution_count": 30,
   "metadata": {},
   "outputs": [],
   "source": [
    "user_reply = faq_bot(\"jksfjshfsd\")"
   ]
  },
  {
   "cell_type": "code",
   "execution_count": 31,
   "metadata": {},
   "outputs": [
    {
     "data": {
      "text/plain": [
       "'knowledge bank does not have this answer'"
      ]
     },
     "execution_count": 31,
     "metadata": {},
     "output_type": "execute_result"
    }
   ],
   "source": [
    "user_reply"
   ]
  },
  {
   "attachments": {},
   "cell_type": "markdown",
   "metadata": {},
   "source": [
    "### 6 Palindrome generator"
   ]
  },
  {
   "attachments": {},
   "cell_type": "markdown",
   "metadata": {},
   "source": [
    "> Write a program to generate a palindrome of a string\n",
    "\n",
    "    function input - string\n",
    "    function output - palindrome string\n",
    "\n",
    "    example inputs and outputs\n",
    "    \"hello\" -> \"olleh\"\n",
    "    \"welcome\" -> \"emoclew\""
   ]
  },
  {
   "cell_type": "code",
   "execution_count": 44,
   "metadata": {},
   "outputs": [],
   "source": [
    "def palindrome_generator(string):\n",
    "    palindrome_string = None\n",
    "\n",
    "    input_type = string.__class__\n",
    "    if input_type == str:\n",
    "        palindrome_string = \"\".join(list(reversed(string)))\n",
    "    else:\n",
    "        print(f\"Input should be a string, found {input_type}\")\n",
    "\n",
    "    return palindrome_string"
   ]
  },
  {
   "cell_type": "code",
   "execution_count": 40,
   "metadata": {},
   "outputs": [
    {
     "data": {
      "text/plain": [
       "'olleh'"
      ]
     },
     "execution_count": 40,
     "metadata": {},
     "output_type": "execute_result"
    }
   ],
   "source": [
    "palindrome_generator(\"hello\")"
   ]
  },
  {
   "cell_type": "code",
   "execution_count": 41,
   "metadata": {},
   "outputs": [
    {
     "data": {
      "text/plain": [
       "'emoclew'"
      ]
     },
     "execution_count": 41,
     "metadata": {},
     "output_type": "execute_result"
    }
   ],
   "source": [
    "palindrome_generator(\"welcome\")"
   ]
  },
  {
   "cell_type": "code",
   "execution_count": 45,
   "metadata": {},
   "outputs": [
    {
     "name": "stdout",
     "output_type": "stream",
     "text": [
      "Input should be a string, found <class 'int'>\n"
     ]
    }
   ],
   "source": [
    "palindrome_generator(45)"
   ]
  },
  {
   "cell_type": "code",
   "execution_count": 46,
   "metadata": {},
   "outputs": [
    {
     "name": "stdout",
     "output_type": "stream",
     "text": [
      "Input should be a string, found <class 'list'>\n"
     ]
    }
   ],
   "source": [
    "palindrome_generator([\"hello\"])"
   ]
  },
  {
   "attachments": {},
   "cell_type": "markdown",
   "metadata": {},
   "source": [
    "### 7 Acronyms generator"
   ]
  },
  {
   "attachments": {},
   "cell_type": "markdown",
   "metadata": {},
   "source": [
    "> Write a program to generate acronyms of a string\n",
    "\n",
    "    function input - string\n",
    "    function output - acronym\n",
    "\n",
    "    example inputs and outputs\n",
    "    \"Artificial Intelligence\" -> \"AI\"\n",
    "    \"machine learning\" -> \"ML\"\n",
    "    \"Indian space research Organisation\" -> \"ISRO\""
   ]
  },
  {
   "cell_type": "code",
   "execution_count": 53,
   "metadata": {},
   "outputs": [],
   "source": [
    "def acronyms_generator(string):\n",
    "    acronym = \"\"\n",
    "\n",
    "    input_type = string.__class__\n",
    "    if input_type == str:\n",
    "        words = string.split()\n",
    "        for word in words:\n",
    "            acronym += word[0].upper()\n",
    "\n",
    "    else:\n",
    "        print(f\"Input should be a string, found {input_type}\")\n",
    "\n",
    "    return acronym"
   ]
  },
  {
   "cell_type": "code",
   "execution_count": 54,
   "metadata": {},
   "outputs": [
    {
     "data": {
      "text/plain": [
       "'AI'"
      ]
     },
     "execution_count": 54,
     "metadata": {},
     "output_type": "execute_result"
    }
   ],
   "source": [
    "acronyms_generator(\"Artificial Intelligence\")"
   ]
  },
  {
   "cell_type": "code",
   "execution_count": 55,
   "metadata": {},
   "outputs": [
    {
     "data": {
      "text/plain": [
       "'ML'"
      ]
     },
     "execution_count": 55,
     "metadata": {},
     "output_type": "execute_result"
    }
   ],
   "source": [
    "acronyms_generator(\"machine learning\")"
   ]
  },
  {
   "cell_type": "code",
   "execution_count": 56,
   "metadata": {},
   "outputs": [
    {
     "data": {
      "text/plain": [
       "'ISRO'"
      ]
     },
     "execution_count": 56,
     "metadata": {},
     "output_type": "execute_result"
    }
   ],
   "source": [
    "acronyms_generator(\"Indian space research Organisation\")"
   ]
  },
  {
   "cell_type": "code",
   "execution_count": null,
   "metadata": {},
   "outputs": [],
   "source": []
  }
 ],
 "metadata": {
  "kernelspec": {
   "display_name": "Python 3 (ipykernel)",
   "language": "python",
   "name": "python3"
  },
  "language_info": {
   "codemirror_mode": {
    "name": "ipython",
    "version": 3
   },
   "file_extension": ".py",
   "mimetype": "text/x-python",
   "name": "python",
   "nbconvert_exporter": "python",
   "pygments_lexer": "ipython3",
   "version": "3.8.16"
  },
  "orig_nbformat": 4
 },
 "nbformat": 4,
 "nbformat_minor": 2
}
