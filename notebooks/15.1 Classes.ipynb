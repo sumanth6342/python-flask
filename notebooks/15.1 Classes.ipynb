{
 "cells": [
  {
   "attachments": {},
   "cell_type": "markdown",
   "metadata": {},
   "source": [
    "### Employee"
   ]
  },
  {
   "cell_type": "code",
   "execution_count": 1,
   "metadata": {},
   "outputs": [],
   "source": [
    "class Employee:\n",
    "    company = \"Java Home Cloud\"\n",
    "\n",
    "    def add_employee(self, name=\"Santhosh\"):\n",
    "        self.employee_name = name\n",
    "        return f\"added employee {name} at {self.company}\"\n",
    "    \n",
    "    def get_employee_details(self):\n",
    "        return self.employee_name\n",
    "    \n",
    "    def update_employee_annotation(self):\n",
    "        self.employee_name = f\"Mr {self.employee_name.title()}\""
   ]
  },
  {
   "cell_type": "code",
   "execution_count": 2,
   "metadata": {},
   "outputs": [],
   "source": [
    "emp = Employee()"
   ]
  },
  {
   "cell_type": "code",
   "execution_count": 3,
   "metadata": {},
   "outputs": [
    {
     "data": {
      "text/plain": [
       "'Java Home Cloud'"
      ]
     },
     "execution_count": 3,
     "metadata": {},
     "output_type": "execute_result"
    }
   ],
   "source": [
    "emp.company"
   ]
  },
  {
   "cell_type": "code",
   "execution_count": 4,
   "metadata": {},
   "outputs": [
    {
     "data": {
      "text/plain": [
       "'added employee Santhosh at Java Home Cloud'"
      ]
     },
     "execution_count": 4,
     "metadata": {},
     "output_type": "execute_result"
    }
   ],
   "source": [
    "emp.add_employee()"
   ]
  },
  {
   "attachments": {},
   "cell_type": "markdown",
   "metadata": {},
   "source": [
    "### FaqBot"
   ]
  },
  {
   "cell_type": "code",
   "execution_count": 5,
   "metadata": {},
   "outputs": [],
   "source": [
    "class FaqBot:\n",
    "    knowledge_bank = {\n",
    "        \"Who is the PM of India?\": \"Narendra Modi\",\n",
    "        \"When did India get its independence?\": \"1947\",\n",
    "        \"What is the currency of India?\": \"Rupee\",\n",
    "        \"What is the currency of US?\": \"Dollar\"\n",
    "    }\n",
    "\n",
    "    def bot_reply(self, question):\n",
    "        knowledge_bank_updated = {}\n",
    "\n",
    "        for _question, _answer in self.knowledge_bank.items():\n",
    "            knowledge_bank_updated[_question.lower()] = _answer\n",
    "\n",
    "        question_updated = question.lower()\n",
    "\n",
    "        if question_updated in knowledge_bank_updated:\n",
    "            answer = knowledge_bank_updated[question_updated]\n",
    "            user_reply = f\"The answer is : {answer}\"\n",
    "        else:\n",
    "            user_reply = \"knowledge bank does not have this answer at this moment\"\n",
    "\n",
    "        return user_reply\n"
   ]
  },
  {
   "cell_type": "code",
   "execution_count": 6,
   "metadata": {},
   "outputs": [],
   "source": [
    "bot = FaqBot()"
   ]
  },
  {
   "cell_type": "code",
   "execution_count": 7,
   "metadata": {},
   "outputs": [
    {
     "data": {
      "text/plain": [
       "{'Who is the PM of India?': 'Narendra Modi',\n",
       " 'When did India get its independence?': '1947',\n",
       " 'What is the currency of India?': 'Rupee',\n",
       " 'What is the currency of US?': 'Dollar'}"
      ]
     },
     "execution_count": 7,
     "metadata": {},
     "output_type": "execute_result"
    }
   ],
   "source": [
    "bot.knowledge_bank"
   ]
  },
  {
   "cell_type": "code",
   "execution_count": 8,
   "metadata": {},
   "outputs": [
    {
     "data": {
      "text/plain": [
       "'The answer is : Narendra Modi'"
      ]
     },
     "execution_count": 8,
     "metadata": {},
     "output_type": "execute_result"
    }
   ],
   "source": [
    "bot.bot_reply('Who is the PM of India?')"
   ]
  },
  {
   "cell_type": "code",
   "execution_count": 9,
   "metadata": {},
   "outputs": [
    {
     "ename": "NameError",
     "evalue": "name 'bot_reply' is not defined",
     "output_type": "error",
     "traceback": [
      "\u001b[0;31m---------------------------------------------------------------------------\u001b[0m",
      "\u001b[0;31mNameError\u001b[0m                                 Traceback (most recent call last)",
      "Cell \u001b[0;32mIn[9], line 1\u001b[0m\n\u001b[0;32m----> 1\u001b[0m bot_reply(\u001b[39m'\u001b[39m\u001b[39mWho is the PM of India?\u001b[39m\u001b[39m'\u001b[39m)\n",
      "\u001b[0;31mNameError\u001b[0m: name 'bot_reply' is not defined"
     ]
    }
   ],
   "source": [
    "bot_reply('Who is the PM of India?')"
   ]
  },
  {
   "cell_type": "code",
   "execution_count": 10,
   "metadata": {},
   "outputs": [],
   "source": [
    "import json"
   ]
  },
  {
   "cell_type": "code",
   "execution_count": 11,
   "metadata": {},
   "outputs": [],
   "source": [
    "with open(\"../data/knowledge_bank.json\", \"r\") as fh:\n",
    "    knowledge_bank_string = fh.read()\n",
    "    knowledge_bank = json.loads(knowledge_bank_string)\n",
    "\n",
    "    # knowledge_bank = json.loads(fh.read())"
   ]
  },
  {
   "cell_type": "code",
   "execution_count": 12,
   "metadata": {},
   "outputs": [
    {
     "data": {
      "text/plain": [
       "'{\\n    \"Who is the PM of India?\": \"Narendra Modi\",\\n    \"When did India get its independence?\": \"1947\",\\n    \"What is the currency of India?\": \"Rupee\",\\n    \"What is the currency of US?\": \"Dollar\",\\n    \"What is the day today?\": \"Thursday\"\\n}'"
      ]
     },
     "execution_count": 12,
     "metadata": {},
     "output_type": "execute_result"
    }
   ],
   "source": [
    "knowledge_bank_string"
   ]
  },
  {
   "cell_type": "code",
   "execution_count": 13,
   "metadata": {},
   "outputs": [
    {
     "data": {
      "text/plain": [
       "{'Who is the PM of India?': 'Narendra Modi',\n",
       " 'When did India get its independence?': '1947',\n",
       " 'What is the currency of India?': 'Rupee',\n",
       " 'What is the currency of US?': 'Dollar',\n",
       " 'What is the day today?': 'Thursday'}"
      ]
     },
     "execution_count": 13,
     "metadata": {},
     "output_type": "execute_result"
    }
   ],
   "source": [
    "knowledge_bank"
   ]
  },
  {
   "cell_type": "code",
   "execution_count": 14,
   "metadata": {},
   "outputs": [],
   "source": [
    "import datetime"
   ]
  },
  {
   "cell_type": "code",
   "execution_count": 15,
   "metadata": {},
   "outputs": [
    {
     "data": {
      "text/plain": [
       "'2023-03-09T18:55:02.010137'"
      ]
     },
     "execution_count": 15,
     "metadata": {},
     "output_type": "execute_result"
    }
   ],
   "source": [
    "current_time = datetime.datetime.now().isoformat()\n",
    "current_time"
   ]
  },
  {
   "cell_type": "code",
   "execution_count": 16,
   "metadata": {},
   "outputs": [],
   "source": [
    "class FaqBot:\n",
    "    last_update = \"Knowledge bank not loaded yet\"\n",
    "    last_bot_interaction = \"Bot not used yet\"\n",
    "\n",
    "    def set_knowlege_bank(self, knowledge_bank_path):\n",
    "        with open(knowledge_bank_path, \"r\") as fh:\n",
    "            knowledge_bank = fh.read()\n",
    "            knowledge_bank = json.loads(knowledge_bank)\n",
    "\n",
    "            self.kb = knowledge_bank\n",
    "\n",
    "            current_time = datetime.datetime.now().isoformat()\n",
    "            self.last_update = current_time\n",
    "\n",
    "\n",
    "    def bot_reply(self, question):\n",
    "        knowledge_bank_updated = {}\n",
    "\n",
    "        for _question, _answer in self.kb.items():\n",
    "            knowledge_bank_updated[_question.lower()] = _answer\n",
    "\n",
    "        question_updated = question.lower()\n",
    "\n",
    "        if question_updated in knowledge_bank_updated:\n",
    "            answer = knowledge_bank_updated[question_updated]\n",
    "            user_reply = f\"The answer is : {answer}\"\n",
    "        else:\n",
    "            user_reply = \"knowledge bank does not have this answer at this moment\"\n",
    "\n",
    "        current_time = datetime.datetime.now().isoformat()\n",
    "        self.last_bot_interaction = current_time\n",
    "        self.last_update = current_time\n",
    "\n",
    "        return user_reply"
   ]
  },
  {
   "cell_type": "code",
   "execution_count": 17,
   "metadata": {},
   "outputs": [],
   "source": [
    "bot = FaqBot()"
   ]
  },
  {
   "cell_type": "code",
   "execution_count": 18,
   "metadata": {},
   "outputs": [
    {
     "data": {
      "text/plain": [
       "('Knowledge bank not loaded yet', 'Bot not used yet')"
      ]
     },
     "execution_count": 18,
     "metadata": {},
     "output_type": "execute_result"
    }
   ],
   "source": [
    "bot.last_update, bot.last_bot_interaction"
   ]
  },
  {
   "cell_type": "code",
   "execution_count": 19,
   "metadata": {},
   "outputs": [],
   "source": [
    "bot.set_knowlege_bank(\"../data/knowledge_bank.json\")"
   ]
  },
  {
   "cell_type": "code",
   "execution_count": 20,
   "metadata": {},
   "outputs": [
    {
     "data": {
      "text/plain": [
       "('2023-03-09T18:55:02.498287', 'Bot not used yet')"
      ]
     },
     "execution_count": 20,
     "metadata": {},
     "output_type": "execute_result"
    }
   ],
   "source": [
    "bot.last_update, bot.last_bot_interaction"
   ]
  },
  {
   "cell_type": "code",
   "execution_count": 21,
   "metadata": {},
   "outputs": [
    {
     "data": {
      "text/plain": [
       "'The answer is : Narendra Modi'"
      ]
     },
     "execution_count": 21,
     "metadata": {},
     "output_type": "execute_result"
    }
   ],
   "source": [
    "bot.bot_reply(\"Who is the PM of India?\")"
   ]
  },
  {
   "cell_type": "code",
   "execution_count": 22,
   "metadata": {},
   "outputs": [
    {
     "data": {
      "text/plain": [
       "('2023-03-09T18:55:02.696107', '2023-03-09T18:55:02.696107')"
      ]
     },
     "execution_count": 22,
     "metadata": {},
     "output_type": "execute_result"
    }
   ],
   "source": [
    "bot.last_update, bot.last_bot_interaction"
   ]
  },
  {
   "cell_type": "code",
   "execution_count": 23,
   "metadata": {},
   "outputs": [
    {
     "data": {
      "text/plain": [
       "'The answer is : Thursday'"
      ]
     },
     "execution_count": 23,
     "metadata": {},
     "output_type": "execute_result"
    }
   ],
   "source": [
    "bot.bot_reply(\"What is the day today?\")"
   ]
  },
  {
   "cell_type": "code",
   "execution_count": 24,
   "metadata": {},
   "outputs": [],
   "source": [
    "bot.set_knowlege_bank(\"../data/knowledge_bank.json\")"
   ]
  },
  {
   "cell_type": "code",
   "execution_count": 25,
   "metadata": {},
   "outputs": [
    {
     "data": {
      "text/plain": [
       "'The answer is : Thursday'"
      ]
     },
     "execution_count": 25,
     "metadata": {},
     "output_type": "execute_result"
    }
   ],
   "source": [
    "bot.bot_reply(\"What is the day today?\")"
   ]
  },
  {
   "attachments": {},
   "cell_type": "markdown",
   "metadata": {},
   "source": [
    "### Inheritance"
   ]
  },
  {
   "cell_type": "code",
   "execution_count": 26,
   "metadata": {},
   "outputs": [],
   "source": [
    "class Animal:\n",
    "    def talk(self):\n",
    "        return \"Animals do not talk\""
   ]
  },
  {
   "cell_type": "code",
   "execution_count": 27,
   "metadata": {},
   "outputs": [
    {
     "data": {
      "text/plain": [
       "'Animals do not talk'"
      ]
     },
     "execution_count": 27,
     "metadata": {},
     "output_type": "execute_result"
    }
   ],
   "source": [
    "Animal().talk()"
   ]
  },
  {
   "cell_type": "code",
   "execution_count": 28,
   "metadata": {},
   "outputs": [],
   "source": [
    "class Dog:\n",
    "    def speak(self):\n",
    "        return \"Dog barks\""
   ]
  },
  {
   "cell_type": "code",
   "execution_count": 29,
   "metadata": {},
   "outputs": [
    {
     "data": {
      "text/plain": [
       "'Dog barks'"
      ]
     },
     "execution_count": 29,
     "metadata": {},
     "output_type": "execute_result"
    }
   ],
   "source": [
    "Dog().speak()"
   ]
  },
  {
   "cell_type": "code",
   "execution_count": 30,
   "metadata": {},
   "outputs": [],
   "source": [
    "class DogV2:\n",
    "    def speak(self):\n",
    "        return \"Dog barks\"\n",
    "    \n",
    "    def talk(self):\n",
    "        return \"Animals do not talk\""
   ]
  },
  {
   "cell_type": "code",
   "execution_count": 31,
   "metadata": {},
   "outputs": [
    {
     "data": {
      "text/plain": [
       "'Dog barks'"
      ]
     },
     "execution_count": 31,
     "metadata": {},
     "output_type": "execute_result"
    }
   ],
   "source": [
    "DogV2().speak()"
   ]
  },
  {
   "cell_type": "code",
   "execution_count": 32,
   "metadata": {},
   "outputs": [
    {
     "data": {
      "text/plain": [
       "'Animals do not talk'"
      ]
     },
     "execution_count": 32,
     "metadata": {},
     "output_type": "execute_result"
    }
   ],
   "source": [
    "DogV2().talk()"
   ]
  },
  {
   "cell_type": "code",
   "execution_count": 33,
   "metadata": {},
   "outputs": [],
   "source": [
    "class Animal:\n",
    "    def talk(self):\n",
    "        return \"Animals do not talk\"\n",
    "    \n",
    "    \n",
    "class Dog(Animal):\n",
    "    def speak(self):\n",
    "        return \"Dog barks\""
   ]
  },
  {
   "cell_type": "code",
   "execution_count": 34,
   "metadata": {},
   "outputs": [
    {
     "data": {
      "text/plain": [
       "'Animals do not talk'"
      ]
     },
     "execution_count": 34,
     "metadata": {},
     "output_type": "execute_result"
    }
   ],
   "source": [
    "Animal().talk()"
   ]
  },
  {
   "cell_type": "code",
   "execution_count": 35,
   "metadata": {},
   "outputs": [
    {
     "data": {
      "text/plain": [
       "'Dog barks'"
      ]
     },
     "execution_count": 35,
     "metadata": {},
     "output_type": "execute_result"
    }
   ],
   "source": [
    "Dog().speak()"
   ]
  },
  {
   "cell_type": "code",
   "execution_count": 36,
   "metadata": {},
   "outputs": [
    {
     "data": {
      "text/plain": [
       "'Animals do not talk'"
      ]
     },
     "execution_count": 36,
     "metadata": {},
     "output_type": "execute_result"
    }
   ],
   "source": [
    "# coming out of inherited class Animal\n",
    "Dog().talk()"
   ]
  },
  {
   "cell_type": "code",
   "execution_count": null,
   "metadata": {},
   "outputs": [],
   "source": []
  }
 ],
 "metadata": {
  "kernelspec": {
   "display_name": "Python 3",
   "language": "python",
   "name": "python3"
  },
  "language_info": {
   "codemirror_mode": {
    "name": "ipython",
    "version": 3
   },
   "file_extension": ".py",
   "mimetype": "text/x-python",
   "name": "python",
   "nbconvert_exporter": "python",
   "pygments_lexer": "ipython3",
   "version": "3.9.16"
  },
  "orig_nbformat": 4
 },
 "nbformat": 4,
 "nbformat_minor": 2
}
