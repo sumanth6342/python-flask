{
 "cells": [
  {
   "attachments": {},
   "cell_type": "markdown",
   "metadata": {},
   "source": [
    "#### function concepts"
   ]
  },
  {
   "attachments": {},
   "cell_type": "markdown",
   "metadata": {},
   "source": [
    "The syntax\n",
    "\n",
    "```python\n",
    "def function_name(parameters):\n",
    "    expression(s)\n",
    "    \n",
    "    # optional\n",
    "    return value(s)\n",
    "```"
   ]
  },
  {
   "attachments": {},
   "cell_type": "markdown",
   "metadata": {},
   "source": [
    "Types of arguments\n",
    "\n",
    "1. positional parameters/argurments\n",
    "2. keywords\n",
    "3. Arguments with a default value. They are optional for using the function.\n",
    "4. variable"
   ]
  },
  {
   "cell_type": "markdown",
   "metadata": {},
   "source": [
    "function is a type of variable which is holding a logic provided by arguments as an entry point\n",
    "whereas general variables are holding data"
   ]
  },
  {
   "attachments": {},
   "cell_type": "markdown",
   "metadata": {},
   "source": [
    "### function without any arguments"
   ]
  },
  {
   "cell_type": "code",
   "execution_count": 1,
   "metadata": {
    "vscode": {
     "languageId": "python"
    }
   },
   "outputs": [],
   "source": [
    "def print_function():\n",
    "    print(\"hello everyone\")\n",
    "    print(\"have a good day\")"
   ]
  },
  {
   "cell_type": "code",
   "execution_count": 2,
   "metadata": {
    "vscode": {
     "languageId": "python"
    }
   },
   "outputs": [
    {
     "name": "stdout",
     "output_type": "stream",
     "text": [
      "hello everyone\n",
      "have a good day\n"
     ]
    }
   ],
   "source": [
    "print_function()"
   ]
  },
  {
   "attachments": {},
   "cell_type": "markdown",
   "metadata": {},
   "source": [
    "### function with a single argument"
   ]
  },
  {
   "cell_type": "code",
   "execution_count": 3,
   "metadata": {
    "vscode": {
     "languageId": "python"
    }
   },
   "outputs": [],
   "source": [
    "def greet_people(name):\n",
    "    greeting = f\"Hello {name}!!\"\n",
    "    print(greeting)"
   ]
  },
  {
   "cell_type": "code",
   "execution_count": 4,
   "metadata": {
    "vscode": {
     "languageId": "python"
    }
   },
   "outputs": [
    {
     "data": {
      "text/plain": [
       "<function __main__.greet_people(name)>"
      ]
     },
     "execution_count": 4,
     "metadata": {},
     "output_type": "execute_result"
    }
   ],
   "source": [
    "greet_people"
   ]
  },
  {
   "cell_type": "code",
   "execution_count": 5,
   "metadata": {
    "vscode": {
     "languageId": "python"
    }
   },
   "outputs": [
    {
     "data": {
      "text/plain": [
       "function"
      ]
     },
     "execution_count": 5,
     "metadata": {},
     "output_type": "execute_result"
    }
   ],
   "source": [
    "type(greet_people)"
   ]
  },
  {
   "cell_type": "code",
   "execution_count": 6,
   "metadata": {
    "vscode": {
     "languageId": "python"
    }
   },
   "outputs": [
    {
     "name": "stdout",
     "output_type": "stream",
     "text": [
      "Help on function greet_people in module __main__:\n",
      "\n",
      "greet_people(name)\n",
      "\n"
     ]
    }
   ],
   "source": [
    "help(greet_people)"
   ]
  },
  {
   "cell_type": "code",
   "execution_count": 7,
   "metadata": {
    "vscode": {
     "languageId": "python"
    }
   },
   "outputs": [],
   "source": [
    "person_name = \"betrand\""
   ]
  },
  {
   "cell_type": "code",
   "execution_count": 8,
   "metadata": {
    "vscode": {
     "languageId": "python"
    }
   },
   "outputs": [
    {
     "name": "stdout",
     "output_type": "stream",
     "text": [
      "Hello betrand!!\n"
     ]
    }
   ],
   "source": [
    "# function call with direct variables\n",
    "greet_people(person_name)"
   ]
  },
  {
   "cell_type": "code",
   "execution_count": 9,
   "metadata": {
    "vscode": {
     "languageId": "python"
    }
   },
   "outputs": [
    {
     "name": "stdout",
     "output_type": "stream",
     "text": [
      "Hello karthik!!\n"
     ]
    }
   ],
   "source": [
    "# function call with direct values\n",
    "greet_people(\"karthik\")"
   ]
  },
  {
   "cell_type": "code",
   "execution_count": 10,
   "metadata": {
    "vscode": {
     "languageId": "python"
    }
   },
   "outputs": [
    {
     "name": "stdout",
     "output_type": "stream",
     "text": [
      "Hello santhosh!!\n"
     ]
    }
   ],
   "source": [
    "# function call with keyword arguments\n",
    "greet_people(name=\"santhosh\")"
   ]
  },
  {
   "attachments": {},
   "cell_type": "markdown",
   "metadata": {},
   "source": [
    "### function with multiple arguments"
   ]
  },
  {
   "cell_type": "code",
   "execution_count": 11,
   "metadata": {
    "vscode": {
     "languageId": "python"
    }
   },
   "outputs": [],
   "source": [
    "def sum_of_2_numbers(num1, num2):\n",
    "    result = num1 + num2\n",
    "    print(f\"the result of adding {num1} and {num2} is {result}\")"
   ]
  },
  {
   "cell_type": "code",
   "execution_count": 12,
   "metadata": {
    "vscode": {
     "languageId": "python"
    }
   },
   "outputs": [
    {
     "name": "stdout",
     "output_type": "stream",
     "text": [
      "the result of adding 5 and 7 is 12\n"
     ]
    }
   ],
   "source": [
    "sum_of_2_numbers(num1=5, num2=7)"
   ]
  },
  {
   "cell_type": "code",
   "execution_count": 13,
   "metadata": {
    "vscode": {
     "languageId": "python"
    }
   },
   "outputs": [
    {
     "name": "stdout",
     "output_type": "stream",
     "text": [
      "the result of adding 5 and 7 is 12\n"
     ]
    }
   ],
   "source": [
    "sum_of_2_numbers(5, 7)"
   ]
  },
  {
   "attachments": {},
   "cell_type": "markdown",
   "metadata": {},
   "source": [
    "### multiplier of 10 function\n",
    "> maturing a function with logic"
   ]
  },
  {
   "cell_type": "code",
   "execution_count": 14,
   "metadata": {
    "vscode": {
     "languageId": "python"
    }
   },
   "outputs": [],
   "source": [
    "# no arguments, static response\n",
    "def multiples_of_10():\n",
    "    multiplier = 10\n",
    "    x = 6\n",
    "\n",
    "    result = x * multiplier\n",
    "    print(f\"the multiplier of {x} is {result}\")"
   ]
  },
  {
   "cell_type": "code",
   "execution_count": 15,
   "metadata": {
    "vscode": {
     "languageId": "python"
    }
   },
   "outputs": [
    {
     "name": "stdout",
     "output_type": "stream",
     "text": [
      "the multiplier of 6 is 60\n"
     ]
    }
   ],
   "source": [
    "multiples_of_10()"
   ]
  },
  {
   "cell_type": "code",
   "execution_count": 16,
   "metadata": {
    "vscode": {
     "languageId": "python"
    }
   },
   "outputs": [],
   "source": [
    "# single argument, dynamic response\n",
    "def multiples_of_10(number):\n",
    "    multiplier = 10\n",
    "    result = number * multiplier\n",
    "    print(f\"the multiplier of {number} is {result}\")"
   ]
  },
  {
   "cell_type": "code",
   "execution_count": 17,
   "metadata": {
    "vscode": {
     "languageId": "python"
    }
   },
   "outputs": [
    {
     "name": "stdout",
     "output_type": "stream",
     "text": [
      "the multiplier of 4 is 40\n"
     ]
    }
   ],
   "source": [
    "multiples_of_10(number=4)"
   ]
  },
  {
   "cell_type": "code",
   "execution_count": 18,
   "metadata": {
    "vscode": {
     "languageId": "python"
    }
   },
   "outputs": [
    {
     "name": "stdout",
     "output_type": "stream",
     "text": [
      "the multiplier of 4 is 40\n"
     ]
    }
   ],
   "source": [
    "multiples_of_10(4)"
   ]
  },
  {
   "cell_type": "code",
   "execution_count": 19,
   "metadata": {
    "vscode": {
     "languageId": "python"
    }
   },
   "outputs": [],
   "source": [
    "my_number = 5"
   ]
  },
  {
   "cell_type": "code",
   "execution_count": 20,
   "metadata": {
    "vscode": {
     "languageId": "python"
    }
   },
   "outputs": [
    {
     "name": "stdout",
     "output_type": "stream",
     "text": [
      "the multiplier of 5 is 50\n"
     ]
    }
   ],
   "source": [
    "multiples_of_10(my_number)"
   ]
  },
  {
   "cell_type": "code",
   "execution_count": 21,
   "metadata": {
    "vscode": {
     "languageId": "python"
    }
   },
   "outputs": [],
   "source": [
    "# single argument, default value\n",
    "def multiples_of_10(number=1):\n",
    "    multiplier = 10\n",
    "    result = number * multiplier\n",
    "    print(f\"the multiplier of {number} is {result}\")"
   ]
  },
  {
   "cell_type": "code",
   "execution_count": 22,
   "metadata": {
    "vscode": {
     "languageId": "python"
    }
   },
   "outputs": [
    {
     "name": "stdout",
     "output_type": "stream",
     "text": [
      "the multiplier of 1 is 10\n"
     ]
    }
   ],
   "source": [
    "# function call with no arguments, uses the default use\n",
    "multiples_of_10()"
   ]
  },
  {
   "cell_type": "code",
   "execution_count": 23,
   "metadata": {
    "vscode": {
     "languageId": "python"
    }
   },
   "outputs": [
    {
     "name": "stdout",
     "output_type": "stream",
     "text": [
      "the multiplier of 5 is 50\n"
     ]
    }
   ],
   "source": [
    "# function call with the argument value replaces the default value\n",
    "multiples_of_10(5)"
   ]
  },
  {
   "cell_type": "code",
   "execution_count": 24,
   "metadata": {
    "vscode": {
     "languageId": "python"
    }
   },
   "outputs": [],
   "source": [
    "# adding documentation for usuage\n",
    "def multiples_of_10(number):\n",
    "    \"\"\"\n",
    "    This function multiplies any number by 10\n",
    "    input is always a number\n",
    "    \"\"\"\n",
    "\n",
    "    multiplier = 10\n",
    "    result = number * multiplier\n",
    "    print(f\"the multiplier of {number} is {result}\")"
   ]
  },
  {
   "cell_type": "code",
   "execution_count": 25,
   "metadata": {
    "vscode": {
     "languageId": "python"
    }
   },
   "outputs": [
    {
     "name": "stdout",
     "output_type": "stream",
     "text": [
      "Help on function multiples_of_10 in module __main__:\n",
      "\n",
      "multiples_of_10(number)\n",
      "    This function multiplies any number by 10\n",
      "    input is always a number\n",
      "\n"
     ]
    }
   ],
   "source": [
    "help(multiples_of_10)"
   ]
  },
  {
   "cell_type": "code",
   "execution_count": 26,
   "metadata": {
    "vscode": {
     "languageId": "python"
    }
   },
   "outputs": [
    {
     "name": "stdout",
     "output_type": "stream",
     "text": [
      "\u001b[0;31mSignature:\u001b[0m \u001b[0mmultiples_of_10\u001b[0m\u001b[0;34m(\u001b[0m\u001b[0mnumber\u001b[0m\u001b[0;34m)\u001b[0m\u001b[0;34m\u001b[0m\u001b[0;34m\u001b[0m\u001b[0m\n",
      "\u001b[0;31mSource:\u001b[0m   \n",
      "\u001b[0;32mdef\u001b[0m \u001b[0mmultiples_of_10\u001b[0m\u001b[0;34m(\u001b[0m\u001b[0mnumber\u001b[0m\u001b[0;34m)\u001b[0m\u001b[0;34m:\u001b[0m\u001b[0;34m\u001b[0m\n",
      "\u001b[0;34m\u001b[0m    \u001b[0;34m\"\"\"\u001b[0m\n",
      "\u001b[0;34m    This function multiplies any number by 10\u001b[0m\n",
      "\u001b[0;34m    input is always a number\u001b[0m\n",
      "\u001b[0;34m    \"\"\"\u001b[0m\u001b[0;34m\u001b[0m\n",
      "\u001b[0;34m\u001b[0m\u001b[0;34m\u001b[0m\n",
      "\u001b[0;34m\u001b[0m    \u001b[0mmultiplier\u001b[0m \u001b[0;34m=\u001b[0m \u001b[0;36m10\u001b[0m\u001b[0;34m\u001b[0m\n",
      "\u001b[0;34m\u001b[0m    \u001b[0mresult\u001b[0m \u001b[0;34m=\u001b[0m \u001b[0mnumber\u001b[0m \u001b[0;34m*\u001b[0m \u001b[0mmultiplier\u001b[0m\u001b[0;34m\u001b[0m\n",
      "\u001b[0;34m\u001b[0m    \u001b[0mprint\u001b[0m\u001b[0;34m(\u001b[0m\u001b[0;34mf\"the multiplier of {number} is {result}\"\u001b[0m\u001b[0;34m)\u001b[0m\u001b[0;34m\u001b[0m\u001b[0;34m\u001b[0m\u001b[0m\n",
      "\u001b[0;31mFile:\u001b[0m      /tmp/ipykernel_3279/602556577.py\n",
      "\u001b[0;31mType:\u001b[0m      function"
     ]
    }
   ],
   "source": [
    "# jupyter notebook utility to get any function's code\n",
    "??multiples_of_10"
   ]
  },
  {
   "attachments": {},
   "cell_type": "markdown",
   "metadata": {},
   "source": [
    "### function with multiple arguments and default values"
   ]
  },
  {
   "cell_type": "code",
   "execution_count": 27,
   "metadata": {
    "vscode": {
     "languageId": "python"
    }
   },
   "outputs": [],
   "source": [
    "# no arguments\n",
    "def greet_people():\n",
    "    name = input(\"Please tell your name : \")\n",
    "    greeting = f\"Hello {name}!!\"\n",
    "    print(greeting)"
   ]
  },
  {
   "cell_type": "code",
   "execution_count": 28,
   "metadata": {
    "vscode": {
     "languageId": "python"
    }
   },
   "outputs": [
    {
     "name": "stdout",
     "output_type": "stream",
     "text": [
      "Hello betrand!!\n"
     ]
    }
   ],
   "source": [
    "greet_people()"
   ]
  },
  {
   "cell_type": "code",
   "execution_count": 29,
   "metadata": {
    "vscode": {
     "languageId": "python"
    }
   },
   "outputs": [],
   "source": [
    "# multiple arguments with default value\n",
    "def greet_people(name, greeting=\"Hello\"):\n",
    "    greeting = f\"{greeting} {name}!!\"\n",
    "    print(greeting)"
   ]
  },
  {
   "cell_type": "code",
   "execution_count": 30,
   "metadata": {
    "vscode": {
     "languageId": "python"
    }
   },
   "outputs": [
    {
     "name": "stdout",
     "output_type": "stream",
     "text": [
      "Hello Karthik!!\n"
     ]
    }
   ],
   "source": [
    "# calling with one argument\n",
    "greet_people(\"Karthik\")"
   ]
  },
  {
   "cell_type": "code",
   "execution_count": 31,
   "metadata": {
    "vscode": {
     "languageId": "python"
    }
   },
   "outputs": [
    {
     "name": "stdout",
     "output_type": "stream",
     "text": [
      "Welcome Karthik!!\n"
     ]
    }
   ],
   "source": [
    "# calling with multiple arguments\n",
    "greet_people(\n",
    "    name=\"Karthik\", \n",
    "    greeting=\"Welcome\"\n",
    ")"
   ]
  },
  {
   "cell_type": "code",
   "execution_count": 32,
   "metadata": {
    "vscode": {
     "languageId": "python"
    }
   },
   "outputs": [
    {
     "name": "stdout",
     "output_type": "stream",
     "text": [
      "Welcome home,  Betrand!!\n"
     ]
    }
   ],
   "source": [
    "greet_people(\n",
    "    name=\"Betrand\", \n",
    "    greeting=\"Welcome home, \"\n",
    ")"
   ]
  },
  {
   "attachments": {},
   "cell_type": "markdown",
   "metadata": {},
   "source": [
    "### Password Checker"
   ]
  },
  {
   "cell_type": "code",
   "execution_count": 33,
   "metadata": {
    "vscode": {
     "languageId": "python"
    }
   },
   "outputs": [],
   "source": [
    "def password_checker(password):\n",
    "    is_upper_available, is_lower_available, is_digit_available = False, False, False\n",
    "\n",
    "    if len(password) >= 8:\n",
    "        for character in password:\n",
    "            if character.isdigit():\n",
    "                is_digit_available = True\n",
    "\n",
    "            if character.isupper():\n",
    "                is_upper_available = True\n",
    "\n",
    "            if character.islower():\n",
    "                is_lower_available = True\n",
    "\n",
    "        if is_upper_available and is_lower_available and is_digit_available:\n",
    "            print(\"valid password\")\n",
    "\n",
    "        else:\n",
    "            print(is_upper_available, is_lower_available, is_digit_available)\n",
    "            print(\"invalid password inside if\")\n",
    "            is_password_valid = False\n",
    "            \n",
    "    else:\n",
    "        print(\"invalid password inside else\")"
   ]
  },
  {
   "cell_type": "code",
   "execution_count": 34,
   "metadata": {
    "vscode": {
     "languageId": "python"
    }
   },
   "outputs": [],
   "source": [
    "password1 = \"pass123\"\n",
    "password2 = \"PassW0rd\"\n",
    "password3 = \"PassWord\"\n",
    "password4 = \"Pass1233\"\n",
    "password5 = \"Pass123d\""
   ]
  },
  {
   "cell_type": "code",
   "execution_count": 35,
   "metadata": {
    "vscode": {
     "languageId": "python"
    }
   },
   "outputs": [
    {
     "name": "stdout",
     "output_type": "stream",
     "text": [
      "invalid password inside else\n"
     ]
    }
   ],
   "source": [
    "password_checker(password1)"
   ]
  },
  {
   "cell_type": "code",
   "execution_count": 36,
   "metadata": {
    "vscode": {
     "languageId": "python"
    }
   },
   "outputs": [
    {
     "name": "stdout",
     "output_type": "stream",
     "text": [
      "valid password\n"
     ]
    }
   ],
   "source": [
    "password_checker(password2)"
   ]
  },
  {
   "cell_type": "code",
   "execution_count": 37,
   "metadata": {
    "vscode": {
     "languageId": "python"
    }
   },
   "outputs": [
    {
     "name": "stdout",
     "output_type": "stream",
     "text": [
      "True True False\n",
      "invalid password inside if\n"
     ]
    }
   ],
   "source": [
    "password_checker(password3)"
   ]
  },
  {
   "cell_type": "code",
   "execution_count": null,
   "metadata": {
    "vscode": {
     "languageId": "python"
    }
   },
   "outputs": [],
   "source": []
  }
 ],
 "metadata": {
  "kernelspec": {
   "display_name": "Python 3 (ipykernel)",
   "language": "python",
   "name": "python3"
  },
  "orig_nbformat": 4
 },
 "nbformat": 4,
 "nbformat_minor": 2
}
