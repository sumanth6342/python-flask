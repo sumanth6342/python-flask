{
 "cells": [
  {
   "attachments": {},
   "cell_type": "markdown",
   "metadata": {},
   "source": [
    "### AND/OR Operations"
   ]
  },
  {
   "cell_type": "code",
   "execution_count": 1,
   "metadata": {},
   "outputs": [
    {
     "data": {
      "text/plain": [
       "True"
      ]
     },
     "execution_count": 1,
     "metadata": {},
     "output_type": "execute_result"
    }
   ],
   "source": [
    "True and True"
   ]
  },
  {
   "cell_type": "code",
   "execution_count": 2,
   "metadata": {},
   "outputs": [
    {
     "data": {
      "text/plain": [
       "False"
      ]
     },
     "execution_count": 2,
     "metadata": {},
     "output_type": "execute_result"
    }
   ],
   "source": [
    "True and False"
   ]
  },
  {
   "cell_type": "code",
   "execution_count": 3,
   "metadata": {},
   "outputs": [
    {
     "data": {
      "text/plain": [
       "True"
      ]
     },
     "execution_count": 3,
     "metadata": {},
     "output_type": "execute_result"
    }
   ],
   "source": [
    "True or True"
   ]
  },
  {
   "cell_type": "code",
   "execution_count": 4,
   "metadata": {},
   "outputs": [
    {
     "data": {
      "text/plain": [
       "True"
      ]
     },
     "execution_count": 4,
     "metadata": {},
     "output_type": "execute_result"
    }
   ],
   "source": [
    "True or False"
   ]
  },
  {
   "cell_type": "code",
   "execution_count": 5,
   "metadata": {},
   "outputs": [
    {
     "data": {
      "text/plain": [
       "True"
      ]
     },
     "execution_count": 5,
     "metadata": {},
     "output_type": "execute_result"
    }
   ],
   "source": [
    "False or True"
   ]
  },
  {
   "cell_type": "code",
   "execution_count": 6,
   "metadata": {},
   "outputs": [
    {
     "data": {
      "text/plain": [
       "False"
      ]
     },
     "execution_count": 6,
     "metadata": {},
     "output_type": "execute_result"
    }
   ],
   "source": [
    "False and False"
   ]
  },
  {
   "attachments": {},
   "cell_type": "markdown",
   "metadata": {},
   "source": [
    "### if condition syntax"
   ]
  },
  {
   "attachments": {},
   "cell_type": "markdown",
   "metadata": {},
   "source": [
    "```python\n",
    "if condition(s):\n",
    "    expression(s)\n",
    "```\n",
    "\n",
    "> if can be defined as a standalone python code block"
   ]
  },
  {
   "cell_type": "code",
   "execution_count": 7,
   "metadata": {},
   "outputs": [
    {
     "name": "stdout",
     "output_type": "stream",
     "text": [
      "this is a true statement\n",
      "9\n"
     ]
    }
   ],
   "source": [
    "if 5 == 5:\n",
    "    print(\"this is a true statement\")\n",
    "    x, y = 4, 5\n",
    "    result = x + y\n",
    "    print(result)"
   ]
  },
  {
   "cell_type": "code",
   "execution_count": 8,
   "metadata": {},
   "outputs": [],
   "source": [
    "if \"firoz\" == \"karthik\":\n",
    "    print(\"this is true statement\")"
   ]
  },
  {
   "attachments": {},
   "cell_type": "markdown",
   "metadata": {},
   "source": [
    "```python\n",
    "if condition(s):\n",
    "    expression(s)\n",
    "\n",
    "else:\n",
    "    expression(s)\n",
    "```\n",
    "\n",
    "> else always comes with an if statement and is optional"
   ]
  },
  {
   "cell_type": "code",
   "execution_count": 9,
   "metadata": {},
   "outputs": [],
   "source": [
    "names = {\n",
    "    'firoz': 'db', \n",
    "    'karthik': 'db', \n",
    "    'santhosh': 'da', \n",
    "    'lokesh': 'da',\n",
    "    'betrand': 'devops'\n",
    "}"
   ]
  },
  {
   "cell_type": "code",
   "execution_count": 10,
   "metadata": {},
   "outputs": [
    {
     "data": {
      "text/plain": [
       "False"
      ]
     },
     "execution_count": 10,
     "metadata": {},
     "output_type": "execute_result"
    }
   ],
   "source": [
    "\"hari\" in names"
   ]
  },
  {
   "cell_type": "code",
   "execution_count": 11,
   "metadata": {},
   "outputs": [
    {
     "name": "stdout",
     "output_type": "stream",
     "text": [
      "no greetings\n"
     ]
    }
   ],
   "source": [
    "if \"hari\" in names:\n",
    "    print(\"give greetings\")\n",
    "\n",
    "else:\n",
    "    print(\"no greetings\")"
   ]
  },
  {
   "attachments": {},
   "cell_type": "markdown",
   "metadata": {},
   "source": [
    "```python\n",
    "if condition(s):\n",
    "    expression(s)\n",
    "\n",
    "elif condition(s):\n",
    "    expression(s)\n",
    "\n",
    "else:\n",
    "    expression(s)\n",
    "```\n",
    "\n",
    "> else & elif always comes with an if statement and are optional"
   ]
  },
  {
   "cell_type": "code",
   "execution_count": 12,
   "metadata": {},
   "outputs": [
    {
     "data": {
      "text/plain": [
       "{'firoz': 'db',\n",
       " 'karthik': 'db',\n",
       " 'santhosh': 'da',\n",
       " 'lokesh': 'da',\n",
       " 'betrand': 'devops'}"
      ]
     },
     "execution_count": 12,
     "metadata": {},
     "output_type": "execute_result"
    }
   ],
   "source": [
    "names"
   ]
  },
  {
   "cell_type": "code",
   "execution_count": 13,
   "metadata": {},
   "outputs": [
    {
     "name": "stdout",
     "output_type": "stream",
     "text": [
      "give greetings to firoz\n"
     ]
    }
   ],
   "source": [
    "if \"hari\" in names:\n",
    "    print(\"give greetings\")\n",
    "\n",
    "elif \"firoz\" in names:\n",
    "    print(\"give greetings to firoz\")\n",
    "\n",
    "else:\n",
    "    print(\"no greetings\")"
   ]
  },
  {
   "cell_type": "code",
   "execution_count": 14,
   "metadata": {},
   "outputs": [
    {
     "name": "stdout",
     "output_type": "stream",
     "text": [
      "give greetings to firoz\n"
     ]
    }
   ],
   "source": [
    "# False\n",
    "if \"hari\" in names:\n",
    "    print(\"give greetings\")\n",
    "\n",
    "# True\n",
    "elif \"firoz\" in names:\n",
    "    print(\"give greetings to firoz\")\n",
    "\n",
    "# True\n",
    "elif \"kartik\" in names:\n",
    "    print(\"give greetings to kartik\")\n",
    "\n",
    "else:\n",
    "    print(\"no greetings\")"
   ]
  },
  {
   "attachments": {},
   "cell_type": "markdown",
   "metadata": {},
   "source": [
    "### multiple conditions"
   ]
  },
  {
   "cell_type": "code",
   "execution_count": 15,
   "metadata": {},
   "outputs": [
    {
     "name": "stdout",
     "output_type": "stream",
     "text": [
      "10 is between 5 and 15\n"
     ]
    }
   ],
   "source": [
    "if (10 > 5) and (10 < 15):\n",
    "    print(\"10 is between 5 and 15\")\n",
    "\n",
    "else:\n",
    "    print(\"10 is less than or equal to 5\")"
   ]
  },
  {
   "cell_type": "code",
   "execution_count": 16,
   "metadata": {},
   "outputs": [
    {
     "data": {
      "text/plain": [
       "{'firoz': 'db',\n",
       " 'karthik': 'db',\n",
       " 'santhosh': 'da',\n",
       " 'lokesh': 'da',\n",
       " 'betrand': 'devops'}"
      ]
     },
     "execution_count": 16,
     "metadata": {},
     "output_type": "execute_result"
    }
   ],
   "source": [
    "names"
   ]
  },
  {
   "cell_type": "code",
   "execution_count": 17,
   "metadata": {},
   "outputs": [
    {
     "name": "stdout",
     "output_type": "stream",
     "text": [
      "give award\n"
     ]
    }
   ],
   "source": [
    "if (\"hari\" in names) or (\"betrand\" in names):\n",
    "    print(\"give award\")\n",
    "\n",
    "else:\n",
    "    print(\"no luck!\")"
   ]
  },
  {
   "attachments": {},
   "cell_type": "markdown",
   "metadata": {},
   "source": [
    "#### other way of representing above conditional logic"
   ]
  },
  {
   "cell_type": "code",
   "execution_count": 18,
   "metadata": {},
   "outputs": [],
   "source": [
    "condition1 = \"hari\" in names\n",
    "condition2 = \"betrand\" in names"
   ]
  },
  {
   "cell_type": "code",
   "execution_count": 19,
   "metadata": {},
   "outputs": [
    {
     "data": {
      "text/plain": [
       "(False, True)"
      ]
     },
     "execution_count": 19,
     "metadata": {},
     "output_type": "execute_result"
    }
   ],
   "source": [
    "condition1, condition2"
   ]
  },
  {
   "cell_type": "code",
   "execution_count": 20,
   "metadata": {},
   "outputs": [
    {
     "data": {
      "text/plain": [
       "True"
      ]
     },
     "execution_count": 20,
     "metadata": {},
     "output_type": "execute_result"
    }
   ],
   "source": [
    "False or True"
   ]
  },
  {
   "cell_type": "code",
   "execution_count": 21,
   "metadata": {},
   "outputs": [
    {
     "data": {
      "text/plain": [
       "True"
      ]
     },
     "execution_count": 21,
     "metadata": {},
     "output_type": "execute_result"
    }
   ],
   "source": [
    "condition1 or condition2"
   ]
  },
  {
   "cell_type": "code",
   "execution_count": 22,
   "metadata": {},
   "outputs": [
    {
     "name": "stdout",
     "output_type": "stream",
     "text": [
      "give award\n"
     ]
    }
   ],
   "source": [
    "if condition1 or condition2:\n",
    "    print(\"give award\")\n",
    "\n",
    "else:\n",
    "    print(\"no luck!\")"
   ]
  },
  {
   "attachments": {},
   "cell_type": "markdown",
   "metadata": {},
   "source": [
    "### nested conditions"
   ]
  },
  {
   "cell_type": "code",
   "execution_count": 23,
   "metadata": {},
   "outputs": [
    {
     "name": "stdout",
     "output_type": "stream",
     "text": [
      "3 < 6\n",
      "false\n"
     ]
    }
   ],
   "source": [
    "if 3 < 6:\n",
    "    print(\"3 < 6\")\n",
    "\n",
    "    if 3 > 5:\n",
    "        print(\"3 > 5\")\n",
    "\n",
    "    else:\n",
    "        print(\"false\")\n",
    "\n",
    "else:\n",
    "    print(\"false\")"
   ]
  },
  {
   "cell_type": "code",
   "execution_count": null,
   "metadata": {},
   "outputs": [],
   "source": []
  }
 ],
 "metadata": {
  "kernelspec": {
   "display_name": "Python 3 (ipykernel)",
   "language": "python",
   "name": "python3"
  },
  "language_info": {
   "codemirror_mode": {
    "name": "ipython",
    "version": 3
   },
   "file_extension": ".py",
   "mimetype": "text/x-python",
   "name": "python",
   "nbconvert_exporter": "python",
   "pygments_lexer": "ipython3",
   "version": "3.9.16"
  },
  "orig_nbformat": 4
 },
 "nbformat": 4,
 "nbformat_minor": 2
}
