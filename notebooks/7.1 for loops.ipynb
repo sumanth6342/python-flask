{
 "cells": [
  {
   "attachments": {},
   "cell_type": "markdown",
   "metadata": {},
   "source": [
    "### for loops"
   ]
  },
  {
   "attachments": {},
   "cell_type": "markdown",
   "metadata": {},
   "source": [
    "```python\n",
    "for value in sequence:\n",
    "    expression(s)\n",
    "```\n",
    "\n",
    "> sequence is an iterable object like str - \"\", list - [], dict - {}, set - {} etc"
   ]
  },
  {
   "attachments": {},
   "cell_type": "markdown",
   "metadata": {},
   "source": [
    "#### dictionary"
   ]
  },
  {
   "cell_type": "code",
   "execution_count": 1,
   "metadata": {},
   "outputs": [],
   "source": [
    "names = {\n",
    "    \"firoz\": \"db\",\n",
    "    \"karthik\": \"db\",\n",
    "    \"santhosh\": \"da\",\n",
    "    \"lokesh\": \"da\",\n",
    "    \"betrand\": \"devops\"\n",
    "}"
   ]
  },
  {
   "cell_type": "code",
   "execution_count": 2,
   "metadata": {},
   "outputs": [
    {
     "name": "stdout",
     "output_type": "stream",
     "text": [
      "firoz\n",
      "karthik\n",
      "santhosh\n",
      "lokesh\n",
      "betrand\n"
     ]
    }
   ],
   "source": [
    "for name in names:\n",
    "    print(name)"
   ]
  },
  {
   "attachments": {},
   "cell_type": "markdown",
   "metadata": {},
   "source": [
    "#### string"
   ]
  },
  {
   "cell_type": "code",
   "execution_count": 3,
   "metadata": {},
   "outputs": [],
   "source": [
    "greeting = \"hello\""
   ]
  },
  {
   "cell_type": "code",
   "execution_count": 4,
   "metadata": {},
   "outputs": [
    {
     "name": "stdout",
     "output_type": "stream",
     "text": [
      "h\n",
      "e\n",
      "l\n",
      "l\n",
      "o\n"
     ]
    }
   ],
   "source": [
    "for character in greeting:\n",
    "    print(character)"
   ]
  },
  {
   "attachments": {},
   "cell_type": "markdown",
   "metadata": {},
   "source": [
    "#### list"
   ]
  },
  {
   "cell_type": "code",
   "execution_count": 5,
   "metadata": {},
   "outputs": [],
   "source": [
    "numbers = [1, 2, 3, 4, 5, 6]"
   ]
  },
  {
   "cell_type": "code",
   "execution_count": 6,
   "metadata": {},
   "outputs": [
    {
     "name": "stdout",
     "output_type": "stream",
     "text": [
      "1\n",
      "2\n",
      "3\n",
      "4\n",
      "5\n",
      "6\n"
     ]
    }
   ],
   "source": [
    "for number in numbers:\n",
    "    print(number)"
   ]
  },
  {
   "attachments": {},
   "cell_type": "markdown",
   "metadata": {},
   "source": [
    "### for loop with if-else condition"
   ]
  },
  {
   "cell_type": "code",
   "execution_count": 7,
   "metadata": {},
   "outputs": [
    {
     "data": {
      "text/plain": [
       "{'firoz': 'db',\n",
       " 'karthik': 'db',\n",
       " 'santhosh': 'da',\n",
       " 'lokesh': 'da',\n",
       " 'betrand': 'devops'}"
      ]
     },
     "execution_count": 7,
     "metadata": {},
     "output_type": "execute_result"
    }
   ],
   "source": [
    "names"
   ]
  },
  {
   "cell_type": "code",
   "execution_count": 8,
   "metadata": {},
   "outputs": [
    {
     "name": "stdout",
     "output_type": "stream",
     "text": [
      "firoz is a part of the team\n",
      "karthik is a part of the team\n",
      "santhosh is a part of the team\n",
      "lokesh is not a part of the team\n",
      "betrand is a part of the team\n"
     ]
    }
   ],
   "source": [
    "for name in names:\n",
    "    if name == \"lokesh\":\n",
    "        print(\"lokesh is not a part of the team\")\n",
    "    \n",
    "    else:\n",
    "        print(f\"{name} is a part of the team\")"
   ]
  },
  {
   "cell_type": "code",
   "execution_count": 9,
   "metadata": {},
   "outputs": [
    {
     "data": {
      "text/plain": [
       "{'firoz': 'db',\n",
       " 'karthik': 'db',\n",
       " 'santhosh': 'da',\n",
       " 'lokesh': 'da',\n",
       " 'betrand': 'devops'}"
      ]
     },
     "execution_count": 9,
     "metadata": {},
     "output_type": "execute_result"
    }
   ],
   "source": [
    "names"
   ]
  },
  {
   "cell_type": "code",
   "execution_count": 10,
   "metadata": {},
   "outputs": [
    {
     "name": "stdout",
     "output_type": "stream",
     "text": [
      "firoz is a part of the team\n",
      "karthik is a part of the team\n",
      "santhosh is a part of the team\n",
      "betrand is a part of the team\n"
     ]
    }
   ],
   "source": [
    "for name in names:\n",
    "    if name != \"lokesh\":\n",
    "        print(f\"{name} is a part of the team\")"
   ]
  },
  {
   "attachments": {},
   "cell_type": "markdown",
   "metadata": {},
   "source": [
    "### performing data operations in for loop"
   ]
  },
  {
   "cell_type": "code",
   "execution_count": 11,
   "metadata": {},
   "outputs": [],
   "source": [
    "emp_details = {\n",
    "    \"a\": {\n",
    "        \"age\": 23,\n",
    "        \"id\": \"sdfsdf\",\n",
    "        \"logins\": [1, 2, 3]\n",
    "    },\n",
    "\n",
    "    \"b\": {\n",
    "        \"age\": 45,\n",
    "        \"id\": \"45sdf\",\n",
    "        \"logins\": [1, 2, 3]\n",
    "    },\n",
    "}"
   ]
  },
  {
   "cell_type": "code",
   "execution_count": 12,
   "metadata": {},
   "outputs": [
    {
     "data": {
      "text/plain": [
       "{'a': {'age': 23, 'id': 'sdfsdf', 'logins': [1, 2, 3]},\n",
       " 'b': {'age': 45, 'id': '45sdf', 'logins': [1, 2, 3]}}"
      ]
     },
     "execution_count": 12,
     "metadata": {},
     "output_type": "execute_result"
    }
   ],
   "source": [
    "emp_details"
   ]
  },
  {
   "cell_type": "code",
   "execution_count": 13,
   "metadata": {},
   "outputs": [
    {
     "name": "stdout",
     "output_type": "stream",
     "text": [
      "a's age is less than 30\n",
      "\n",
      "b's age is greater than 30\n",
      "\n"
     ]
    }
   ],
   "source": [
    "for emp in emp_details:\n",
    "    if emp_details[emp][\"age\"] > 30:\n",
    "        print(f\"{emp}'s age is greater than 30\")\n",
    "        emp_details[emp][\"level\"] = \"senior\"\n",
    "        print()\n",
    "\n",
    "    else:\n",
    "        print(f\"{emp}'s age is less than 30\")\n",
    "        emp_details[emp][\"level\"] = \"associate\"\n",
    "        print()"
   ]
  },
  {
   "cell_type": "code",
   "execution_count": 14,
   "metadata": {},
   "outputs": [
    {
     "data": {
      "text/plain": [
       "{'a': {'age': 23, 'id': 'sdfsdf', 'logins': [1, 2, 3], 'level': 'associate'},\n",
       " 'b': {'age': 45, 'id': '45sdf', 'logins': [1, 2, 3], 'level': 'senior'}}"
      ]
     },
     "execution_count": 14,
     "metadata": {},
     "output_type": "execute_result"
    }
   ],
   "source": [
    "emp_details"
   ]
  },
  {
   "cell_type": "code",
   "execution_count": 15,
   "metadata": {},
   "outputs": [],
   "source": [
    "numbers_squared = {\n",
    "    0: 0,\n",
    "    1: 1,\n",
    "    2: 4,\n",
    "    3: 9,\n",
    "    4: 16,\n",
    "    5: 25,\n",
    "    6: 36,\n",
    "    7: 49,\n",
    "    8: 64,\n",
    "    9: 81,\n",
    "    10: 100,\n",
    "    11: 121,\n",
    "    12: 144,\n",
    "    13: 169,\n",
    "    14: 196,\n",
    "    15: 225\n",
    "}"
   ]
  },
  {
   "cell_type": "code",
   "execution_count": 16,
   "metadata": {},
   "outputs": [
    {
     "name": "stdout",
     "output_type": "stream",
     "text": [
      "0 is even\n",
      "1 is odd\n",
      "2 is even\n",
      "3 is odd\n",
      "4 is even\n",
      "5 is odd\n",
      "6 is even\n",
      "7 is odd\n",
      "8 is even\n",
      "9 is odd\n",
      "10 is even\n",
      "11 is odd\n",
      "12 is even\n",
      "13 is odd\n",
      "14 is even\n",
      "15 is odd\n"
     ]
    }
   ],
   "source": [
    "for number in numbers_squared:\n",
    "    if number % 2 == 0:\n",
    "        # even\n",
    "        print(f\"{number} is even\")\n",
    "        \n",
    "    else:\n",
    "        print(f\"{number} is odd\")"
   ]
  },
  {
   "cell_type": "code",
   "execution_count": null,
   "metadata": {},
   "outputs": [],
   "source": []
  }
 ],
 "metadata": {
  "kernelspec": {
   "display_name": "Python 3 (ipykernel)",
   "language": "python",
   "name": "python3"
  },
  "language_info": {
   "codemirror_mode": {
    "name": "ipython",
    "version": 3
   },
   "file_extension": ".py",
   "mimetype": "text/x-python",
   "name": "python",
   "nbconvert_exporter": "python",
   "pygments_lexer": "ipython3",
   "version": "3.9.16"
  },
  "orig_nbformat": 4
 },
 "nbformat": 4,
 "nbformat_minor": 2
}
