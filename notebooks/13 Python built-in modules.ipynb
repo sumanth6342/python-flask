{
 "cells": [
  {
   "attachments": {},
   "cell_type": "markdown",
   "metadata": {},
   "source": [
    "### important links"
   ]
  },
  {
   "attachments": {},
   "cell_type": "markdown",
   "metadata": {},
   "source": [
    "- https://docs.python.org/3.9/library/\n",
    "- https://docs.python.org/3.9/library/functions.html"
   ]
  },
  {
   "attachments": {},
   "cell_type": "markdown",
   "metadata": {},
   "source": [
    "### sys"
   ]
  },
  {
   "cell_type": "code",
   "execution_count": 2,
   "metadata": {},
   "outputs": [],
   "source": [
    "# loading a user created module\n",
    "import utils"
   ]
  },
  {
   "cell_type": "code",
   "execution_count": 1,
   "metadata": {},
   "outputs": [],
   "source": [
    "import sys"
   ]
  },
  {
   "cell_type": "code",
   "execution_count": 3,
   "metadata": {},
   "outputs": [
    {
     "data": {
      "text/plain": [
       "['abiflags',\n",
       " 'addaudithook',\n",
       " 'argv',\n",
       " 'audit',\n",
       " 'breakpointhook',\n",
       " 'byteorder',\n",
       " 'copyright',\n",
       " 'displayhook',\n",
       " 'excepthook',\n",
       " 'executable',\n",
       " 'exit',\n",
       " 'flags',\n",
       " 'getallocatedblocks',\n",
       " 'getdefaultencoding',\n",
       " 'getdlopenflags',\n",
       " 'getfilesystemencodeerrors',\n",
       " 'getfilesystemencoding',\n",
       " 'getprofile',\n",
       " 'getrecursionlimit',\n",
       " 'getrefcount',\n",
       " 'getsizeof',\n",
       " 'getswitchinterval',\n",
       " 'gettrace',\n",
       " 'hexversion',\n",
       " 'implementation',\n",
       " 'intern',\n",
       " 'maxsize',\n",
       " 'maxunicode',\n",
       " 'modules',\n",
       " 'path',\n",
       " 'platform',\n",
       " 'platlibdir',\n",
       " 'prefix',\n",
       " 'ps1',\n",
       " 'ps2',\n",
       " 'ps3',\n",
       " 'setdlopenflags',\n",
       " 'setprofile',\n",
       " 'setrecursionlimit',\n",
       " 'setswitchinterval',\n",
       " 'settrace',\n",
       " 'stderr',\n",
       " 'stdin',\n",
       " 'stdout',\n",
       " 'unraisablehook',\n",
       " 'version',\n",
       " 'warnoptions']"
      ]
     },
     "execution_count": 3,
     "metadata": {},
     "output_type": "execute_result"
    }
   ],
   "source": [
    "utils.get_supported_functions(sys)"
   ]
  },
  {
   "cell_type": "code",
   "execution_count": 4,
   "metadata": {},
   "outputs": [
    {
     "data": {
      "text/plain": [
       "'3.9.16 (main, Jan 23 2023, 23:47:45) \\n[GCC 10.2.1 20210110]'"
      ]
     },
     "execution_count": 4,
     "metadata": {},
     "output_type": "execute_result"
    }
   ],
   "source": [
    "sys.version"
   ]
  },
  {
   "cell_type": "code",
   "execution_count": 5,
   "metadata": {},
   "outputs": [],
   "source": [
    "version_info = sys.version_info"
   ]
  },
  {
   "cell_type": "code",
   "execution_count": 6,
   "metadata": {},
   "outputs": [
    {
     "data": {
      "text/plain": [
       "sys.version_info"
      ]
     },
     "execution_count": 6,
     "metadata": {},
     "output_type": "execute_result"
    }
   ],
   "source": [
    "type(version_info)"
   ]
  },
  {
   "cell_type": "code",
   "execution_count": 7,
   "metadata": {},
   "outputs": [
    {
     "data": {
      "text/plain": [
       "sys.version_info"
      ]
     },
     "execution_count": 7,
     "metadata": {},
     "output_type": "execute_result"
    }
   ],
   "source": [
    "version_info.__class__"
   ]
  },
  {
   "cell_type": "code",
   "execution_count": 8,
   "metadata": {},
   "outputs": [
    {
     "data": {
      "text/plain": [
       "['count', 'index', 'major', 'micro', 'minor', 'releaselevel', 'serial']"
      ]
     },
     "execution_count": 8,
     "metadata": {},
     "output_type": "execute_result"
    }
   ],
   "source": [
    "utils.get_supported_functions(version_info)"
   ]
  },
  {
   "cell_type": "code",
   "execution_count": 9,
   "metadata": {},
   "outputs": [
    {
     "data": {
      "text/plain": [
       "sys.version_info(major=3, minor=9, micro=16, releaselevel='final', serial=0)"
      ]
     },
     "execution_count": 9,
     "metadata": {},
     "output_type": "execute_result"
    }
   ],
   "source": [
    "version_info"
   ]
  },
  {
   "cell_type": "code",
   "execution_count": 10,
   "metadata": {},
   "outputs": [
    {
     "data": {
      "text/plain": [
       "3"
      ]
     },
     "execution_count": 10,
     "metadata": {},
     "output_type": "execute_result"
    }
   ],
   "source": [
    "version_info.major"
   ]
  },
  {
   "cell_type": "code",
   "execution_count": 11,
   "metadata": {},
   "outputs": [
    {
     "data": {
      "text/plain": [
       "['/workspaces/python-class-feb-2023/notebooks',\n",
       " '/usr/local/lib/python39.zip',\n",
       " '/usr/local/lib/python3.9',\n",
       " '/usr/local/lib/python3.9/lib-dynload',\n",
       " '',\n",
       " '/home/vscode/.local/lib/python3.9/site-packages',\n",
       " '/usr/local/lib/python3.9/site-packages']"
      ]
     },
     "execution_count": 11,
     "metadata": {},
     "output_type": "execute_result"
    }
   ],
   "source": [
    "# holds the info of all the python modules/packages which could be loaded\n",
    "sys.path"
   ]
  },
  {
   "attachments": {},
   "cell_type": "markdown",
   "metadata": {},
   "source": [
    "### os"
   ]
  },
  {
   "cell_type": "code",
   "execution_count": 12,
   "metadata": {},
   "outputs": [],
   "source": [
    "import os"
   ]
  },
  {
   "cell_type": "code",
   "execution_count": 13,
   "metadata": {},
   "outputs": [
    {
     "data": {
      "text/plain": [
       "184"
      ]
     },
     "execution_count": 13,
     "metadata": {},
     "output_type": "execute_result"
    }
   ],
   "source": [
    "len(utils.get_supported_functions(os))"
   ]
  },
  {
   "cell_type": "code",
   "execution_count": 15,
   "metadata": {},
   "outputs": [
    {
     "name": "stdout",
     "output_type": "stream",
     "text": [
      "Help on built-in function listdir in module posix:\n",
      "\n",
      "listdir(path=None)\n",
      "    Return a list containing the names of the files in the directory.\n",
      "    \n",
      "    path can be specified as either str, bytes, or a path-like object.  If path is bytes,\n",
      "      the filenames returned will also be bytes; in all other circumstances\n",
      "      the filenames returned will be str.\n",
      "    If path is None, uses the path='.'.\n",
      "    On some platforms, path may also be specified as an open file descriptor;\\\n",
      "      the file descriptor must refer to a directory.\n",
      "      If this functionality is unavailable, using it raises NotImplementedError.\n",
      "    \n",
      "    The list is in arbitrary order.  It does not include the special\n",
      "    entries '.' and '..' even if they are present in the directory.\n",
      "\n"
     ]
    }
   ],
   "source": [
    "help(os.listdir)"
   ]
  },
  {
   "cell_type": "code",
   "execution_count": 16,
   "metadata": {},
   "outputs": [],
   "source": [
    "list_dir_output = os.listdir()"
   ]
  },
  {
   "cell_type": "code",
   "execution_count": 17,
   "metadata": {},
   "outputs": [
    {
     "name": "stdout",
     "output_type": "stream",
     "text": [
      "'1 Scalar types and operators.ipynb'  '7.2 for loops.ipynb'\n",
      "'10 Try Catch.ipynb'\t\t      '8 While loops.ipynb'\n",
      "'11 File handling.ipynb'\t      '9.1 Functions.ipynb'\n",
      "'12 User Modules.ipynb'\t\t      '9.2 Functions.ipynb'\n",
      "'13 Python built-in modules.ipynb'     __pycache__\n",
      "'2 String operations.ipynb'\t       config.py\n",
      "'3 List operations.ipynb'\t       faq.py\n",
      "'4 Dictionary operations.ipynb'        greet.txt\n",
      "'5 Set operations.ipynb'\t       user.py\n",
      "'6 If else conditions.ipynb'\t       utils.py\n",
      "'7.1 for loops.ipynb'\n"
     ]
    }
   ],
   "source": [
    "!ls"
   ]
  },
  {
   "cell_type": "code",
   "execution_count": 18,
   "metadata": {},
   "outputs": [
    {
     "data": {
      "text/plain": [
       "['1 Scalar types and operators.ipynb',\n",
       " '10 Try Catch.ipynb',\n",
       " '11 File handling.ipynb',\n",
       " '12 User Modules.ipynb',\n",
       " '13 Python built-in modules.ipynb',\n",
       " '2 String operations.ipynb',\n",
       " '3 List operations.ipynb',\n",
       " '4 Dictionary operations.ipynb',\n",
       " '5 Set operations.ipynb',\n",
       " '6 If else conditions.ipynb',\n",
       " '7.1 for loops.ipynb',\n",
       " '7.2 for loops.ipynb',\n",
       " '8 While loops.ipynb',\n",
       " '9.1 Functions.ipynb',\n",
       " '9.2 Functions.ipynb',\n",
       " '__pycache__',\n",
       " 'config.py',\n",
       " 'faq.py',\n",
       " 'greet.txt',\n",
       " 'user.py',\n",
       " 'utils.py']"
      ]
     },
     "execution_count": 18,
     "metadata": {},
     "output_type": "execute_result"
    }
   ],
   "source": [
    "list_dir_output"
   ]
  },
  {
   "cell_type": "code",
   "execution_count": 19,
   "metadata": {},
   "outputs": [
    {
     "data": {
      "text/plain": [
       "True"
      ]
     },
     "execution_count": 19,
     "metadata": {},
     "output_type": "execute_result"
    }
   ],
   "source": [
    "\"faq.py\" in list_dir_output"
   ]
  },
  {
   "cell_type": "code",
   "execution_count": 20,
   "metadata": {},
   "outputs": [
    {
     "name": "stdout",
     "output_type": "stream",
     "text": [
      "/home/vscode/.local/lib/python3.9/site-packages\n"
     ]
    }
   ],
   "source": [
    "# using user made utils module\n",
    "sys_path = utils.get_sys_path()"
   ]
  },
  {
   "cell_type": "code",
   "execution_count": 21,
   "metadata": {},
   "outputs": [
    {
     "data": {
      "text/plain": [
       "'/home/vscode/.local/lib/python3.9/site-packages'"
      ]
     },
     "execution_count": 21,
     "metadata": {},
     "output_type": "execute_result"
    }
   ],
   "source": [
    "sys_path"
   ]
  },
  {
   "cell_type": "code",
   "execution_count": 22,
   "metadata": {},
   "outputs": [],
   "source": [
    "sys_path_output = os.listdir(sys_path)"
   ]
  },
  {
   "cell_type": "code",
   "execution_count": 23,
   "metadata": {},
   "outputs": [
    {
     "data": {
      "text/plain": [
       "['debugpy',\n",
       " 'pyzmq.libs',\n",
       " '__pycache__',\n",
       " 'jedi',\n",
       " 'nest_asyncio-1.5.6.dist-info',\n",
       " 'parso',\n",
       " 'jupyter_core-5.2.0.dist-info',\n",
       " 'tornado',\n",
       " 'nest_asyncio.py',\n",
       " 'zmq',\n",
       " 'pure_eval-0.2.2.dist-info',\n",
       " 'jedi-0.18.2.dist-info',\n",
       " 'comm',\n",
       " 'jupyter_client-8.0.2.dist-info',\n",
       " 'prompt_toolkit-3.0.36.dist-info',\n",
       " 'importlib_metadata-6.0.0.dist-info',\n",
       " 'ipython-8.10.0.dist-info',\n",
       " 'traitlets-5.9.0.dist-info',\n",
       " 'pexpect',\n",
       " 'asttokens-2.2.1.dist-info',\n",
       " 'ipykernel_launcher.py',\n",
       " 'zipp',\n",
       " 'psutil-5.9.4.dist-info',\n",
       " 'IPython',\n",
       " 'ipykernel-6.21.2.dist-info',\n",
       " 'prompt_toolkit',\n",
       " 'asttokens',\n",
       " 'pygments',\n",
       " 'matplotlib_inline-0.1.6.dist-info',\n",
       " 'matplotlib_inline',\n",
       " 'stack_data',\n",
       " 'backcall-0.2.0.dist-info',\n",
       " 'packaging-23.0.dist-info',\n",
       " 'jupyter_client',\n",
       " 'debugpy-1.6.6.dist-info',\n",
       " 'decorator-5.1.1.dist-info',\n",
       " 'pyzmq-25.0.0.dist-info',\n",
       " 'pexpect-4.8.0.dist-info',\n",
       " 'wcwidth',\n",
       " 'parso-0.8.3.dist-info',\n",
       " 'ptyprocess',\n",
       " 'ptyprocess-0.7.0.dist-info',\n",
       " 'importlib_metadata',\n",
       " 'jupyter_core',\n",
       " 'comm-0.1.2.dist-info',\n",
       " 'ipykernel',\n",
       " 'six.py',\n",
       " 'Pygments-2.14.0.dist-info',\n",
       " 'backcall',\n",
       " 'psutil',\n",
       " 'wcwidth-0.2.6.dist-info',\n",
       " 'six-1.16.0.dist-info',\n",
       " 'pickleshare-0.7.5.dist-info',\n",
       " 'decorator.py',\n",
       " 'tornado-6.2.dist-info',\n",
       " 'jupyter.py',\n",
       " 'executing',\n",
       " 'zipp-3.13.0.dist-info',\n",
       " 'executing-1.2.0.dist-info',\n",
       " 'dateutil',\n",
       " 'platformdirs',\n",
       " 'pickleshare.py',\n",
       " 'pure_eval',\n",
       " 'python_dateutil-2.8.2.dist-info',\n",
       " 'packaging',\n",
       " 'platformdirs-3.0.0.dist-info',\n",
       " 'traitlets',\n",
       " 'stack_data-0.6.2.dist-info']"
      ]
     },
     "execution_count": 23,
     "metadata": {},
     "output_type": "execute_result"
    }
   ],
   "source": [
    "sys_path_output"
   ]
  },
  {
   "cell_type": "code",
   "execution_count": 25,
   "metadata": {},
   "outputs": [],
   "source": [
    "sys_path_built_in = \"/usr/local/lib/python3.9\""
   ]
  },
  {
   "cell_type": "code",
   "execution_count": 28,
   "metadata": {},
   "outputs": [],
   "source": [
    "sys_path_built_in_output = os.listdir(sys_path_built_in)"
   ]
  },
  {
   "cell_type": "code",
   "execution_count": 29,
   "metadata": {},
   "outputs": [
    {
     "data": {
      "text/plain": [
       "['dist-packages',\n",
       " '__pycache__',\n",
       " 'asyncio',\n",
       " 'ctypes',\n",
       " 'ensurepip',\n",
       " 'json',\n",
       " 'xml',\n",
       " 'urllib',\n",
       " 'xmlrpc',\n",
       " 'html',\n",
       " 'encodings',\n",
       " 'distutils',\n",
       " 'concurrent',\n",
       " 'logging',\n",
       " 'importlib',\n",
       " 'collections',\n",
       " 'venv',\n",
       " 'http',\n",
       " 'site-packages',\n",
       " 'email',\n",
       " 'formatter.py',\n",
       " 'hmac.py',\n",
       " 'nturl2path.py',\n",
       " 'config-3.9-aarch64-linux-gnu',\n",
       " 'subprocess.py',\n",
       " 'zoneinfo',\n",
       " 'string.py',\n",
       " 'sqlite3',\n",
       " '_compression.py',\n",
       " 'opcode.py',\n",
       " 'dis.py',\n",
       " 'profile.py',\n",
       " 'socketserver.py',\n",
       " 'traceback.py',\n",
       " 'configparser.py',\n",
       " 'doctest.py',\n",
       " 'pprint.py',\n",
       " 'idlelib',\n",
       " 'webbrowser.py',\n",
       " 'antigravity.py',\n",
       " 'pathlib.py',\n",
       " 'netrc.py',\n",
       " 'graphlib.py',\n",
       " 'bisect.py',\n",
       " 'imaplib.py',\n",
       " 'chunk.py',\n",
       " 'decimal.py',\n",
       " 'quopri.py',\n",
       " 'symtable.py',\n",
       " 'sre_compile.py',\n",
       " 'trace.py',\n",
       " 'sunau.py',\n",
       " 'platform.py',\n",
       " 'pickle.py',\n",
       " 'ftplib.py',\n",
       " 'inspect.py',\n",
       " '_compat_pickle.py',\n",
       " 'turtle.py',\n",
       " 'pydoc_data',\n",
       " 'getpass.py',\n",
       " 'reprlib.py',\n",
       " 'filecmp.py',\n",
       " 'sched.py',\n",
       " 'ssl.py',\n",
       " '_markupbase.py',\n",
       " 'shutil.py',\n",
       " 'plistlib.py',\n",
       " 'ntpath.py',\n",
       " 'sre_parse.py',\n",
       " 'ast.py',\n",
       " 'base64.py',\n",
       " 'numbers.py',\n",
       " 'threading.py',\n",
       " 'cmd.py',\n",
       " 'os.py',\n",
       " 'gzip.py',\n",
       " 'sndhdr.py',\n",
       " 'tkinter',\n",
       " 'types.py',\n",
       " '_strptime.py',\n",
       " 'tarfile.py',\n",
       " 'sysconfig.py',\n",
       " 'contextlib.py',\n",
       " 'tabnanny.py',\n",
       " 'modulefinder.py',\n",
       " 'csv.py',\n",
       " '_pydecimal.py',\n",
       " 'enum.py',\n",
       " 'secrets.py',\n",
       " 'linecache.py',\n",
       " '_threading_local.py',\n",
       " 'py_compile.py',\n",
       " 'asynchat.py',\n",
       " '_sitebuiltins.py',\n",
       " 'sre_constants.py',\n",
       " 'functools.py',\n",
       " 'selectors.py',\n",
       " 'shlex.py',\n",
       " 'gettext.py',\n",
       " 'codeop.py',\n",
       " 'curses',\n",
       " 'mimetypes.py',\n",
       " 'pydoc.py',\n",
       " 'wave.py',\n",
       " 'pickletools.py',\n",
       " 'signal.py',\n",
       " 'tracemalloc.py',\n",
       " 'stringprep.py',\n",
       " 'ipaddress.py',\n",
       " 'binhex.py',\n",
       " 'multiprocessing',\n",
       " 'stat.py',\n",
       " 'turtledemo',\n",
       " 'pstats.py',\n",
       " 'xdrlib.py',\n",
       " 'pty.py',\n",
       " 'socket.py',\n",
       " 'calendar.py',\n",
       " '_py_abc.py',\n",
       " 'nntplib.py',\n",
       " 'uuid.py',\n",
       " 'pyclbr.py',\n",
       " 'colorsys.py',\n",
       " '_collections_abc.py',\n",
       " '_osx_support.py',\n",
       " 'argparse.py',\n",
       " 'timeit.py',\n",
       " '__phello__.foo.py',\n",
       " 'aifc.py',\n",
       " 'cgitb.py',\n",
       " 'fileinput.py',\n",
       " 'typing.py',\n",
       " 'cgi.py',\n",
       " 'warnings.py',\n",
       " 'wsgiref',\n",
       " 'codecs.py',\n",
       " 'datetime.py',\n",
       " 'getopt.py',\n",
       " 're.py',\n",
       " 'dbm',\n",
       " 'crypt.py',\n",
       " 'lzma.py',\n",
       " 'imp.py',\n",
       " 'telnetlib.py',\n",
       " 'cProfile.py',\n",
       " 'unittest',\n",
       " 'lib2to3',\n",
       " 'queue.py',\n",
       " 'bz2.py',\n",
       " '_sysconfigdata__linux_aarch64-linux-gnu.py',\n",
       " 'operator.py',\n",
       " 'contextvars.py',\n",
       " '_pyio.py',\n",
       " '_bootsubprocess.py',\n",
       " 'token.py',\n",
       " 'zipfile.py',\n",
       " '__future__.py',\n",
       " 'zipimport.py',\n",
       " 'rlcompleter.py',\n",
       " 'fractions.py',\n",
       " 'site.py',\n",
       " 'dataclasses.py',\n",
       " 'pkgutil.py',\n",
       " '_bootlocale.py',\n",
       " 'smtplib.py',\n",
       " 'code.py',\n",
       " '_aix_support.py',\n",
       " 'genericpath.py',\n",
       " 'uu.py',\n",
       " 'shelve.py',\n",
       " 'mailbox.py',\n",
       " 'fnmatch.py',\n",
       " 'textwrap.py',\n",
       " 'weakref.py',\n",
       " 'tokenize.py',\n",
       " 'io.py',\n",
       " 'asyncore.py',\n",
       " 'copyreg.py',\n",
       " 'pdb.py',\n",
       " 'runpy.py',\n",
       " '_weakrefset.py',\n",
       " 'tempfile.py',\n",
       " 'abc.py',\n",
       " 'symbol.py',\n",
       " 'compileall.py',\n",
       " 'optparse.py',\n",
       " 'posixpath.py',\n",
       " 'smtpd.py',\n",
       " 'statistics.py',\n",
       " 'struct.py',\n",
       " 'lib-dynload',\n",
       " 'random.py',\n",
       " 'copy.py',\n",
       " 'mailcap.py',\n",
       " 'LICENSE.txt',\n",
       " 'zipapp.py',\n",
       " 'imghdr.py',\n",
       " 'heapq.py',\n",
       " 'pipes.py',\n",
       " 'poplib.py',\n",
       " 'hashlib.py',\n",
       " 'tty.py',\n",
       " 'glob.py',\n",
       " 'difflib.py',\n",
       " 'locale.py',\n",
       " 'this.py',\n",
       " 'keyword.py',\n",
       " 'bdb.py']"
      ]
     },
     "execution_count": 29,
     "metadata": {},
     "output_type": "execute_result"
    }
   ],
   "source": [
    "sys_path_built_in_output"
   ]
  },
  {
   "cell_type": "code",
   "execution_count": 31,
   "metadata": {},
   "outputs": [],
   "source": [
    "with open(\"../data/sys_path_built_in_output.txt\", \"w\") as fh:\n",
    "    for path in sys_path_built_in_output:\n",
    "        if not (\"dist-info\" in path):\n",
    "            fh.write(path + \"\\n\")"
   ]
  },
  {
   "cell_type": "code",
   "execution_count": 34,
   "metadata": {},
   "outputs": [
    {
     "name": "stdout",
     "output_type": "stream",
     "text": [
      "/usr/local/lib/python3.9/dist-packages\n",
      "/usr/local/lib/python3.9/__pycache__\n",
      "/usr/local/lib/python3.9/asyncio\n",
      "/usr/local/lib/python3.9/ctypes\n",
      "/usr/local/lib/python3.9/ensurepip\n",
      "/usr/local/lib/python3.9/json\n",
      "/usr/local/lib/python3.9/xml\n",
      "/usr/local/lib/python3.9/urllib\n",
      "/usr/local/lib/python3.9/xmlrpc\n",
      "/usr/local/lib/python3.9/html\n"
     ]
    }
   ],
   "source": [
    "# printing first 10 paths\n",
    "for path in sys_path_built_in_output[:10]:\n",
    "    print(f\"{sys_path_built_in}/{path}\")"
   ]
  },
  {
   "attachments": {},
   "cell_type": "markdown",
   "metadata": {},
   "source": [
    "### datetime"
   ]
  },
  {
   "cell_type": "code",
   "execution_count": 35,
   "metadata": {},
   "outputs": [],
   "source": [
    "import datetime"
   ]
  },
  {
   "cell_type": "code",
   "execution_count": 40,
   "metadata": {},
   "outputs": [
    {
     "data": {
      "text/plain": [
       "<module 'datetime' from '/usr/local/lib/python3.9/datetime.py'>"
      ]
     },
     "execution_count": 40,
     "metadata": {},
     "output_type": "execute_result"
    }
   ],
   "source": [
    "datetime"
   ]
  },
  {
   "cell_type": "code",
   "execution_count": 36,
   "metadata": {},
   "outputs": [],
   "source": [
    "today = datetime.datetime.today()"
   ]
  },
  {
   "cell_type": "code",
   "execution_count": 37,
   "metadata": {},
   "outputs": [
    {
     "data": {
      "text/plain": [
       "datetime.datetime(2023, 3, 5, 8, 30, 52, 277573)"
      ]
     },
     "execution_count": 37,
     "metadata": {},
     "output_type": "execute_result"
    }
   ],
   "source": [
    "today"
   ]
  },
  {
   "cell_type": "code",
   "execution_count": 38,
   "metadata": {},
   "outputs": [
    {
     "data": {
      "text/plain": [
       "datetime.datetime"
      ]
     },
     "execution_count": 38,
     "metadata": {},
     "output_type": "execute_result"
    }
   ],
   "source": [
    "type(today)"
   ]
  },
  {
   "cell_type": "code",
   "execution_count": 39,
   "metadata": {},
   "outputs": [
    {
     "data": {
      "text/plain": [
       "'2023-03-05T08:30:52.277573'"
      ]
     },
     "execution_count": 39,
     "metadata": {},
     "output_type": "execute_result"
    }
   ],
   "source": [
    "today.isoformat()"
   ]
  },
  {
   "attachments": {},
   "cell_type": "markdown",
   "metadata": {},
   "source": [
    "### math"
   ]
  },
  {
   "cell_type": "code",
   "execution_count": 42,
   "metadata": {},
   "outputs": [],
   "source": [
    "import math"
   ]
  },
  {
   "cell_type": "code",
   "execution_count": 43,
   "metadata": {},
   "outputs": [
    {
     "data": {
      "text/plain": [
       "<module 'math' from '/usr/local/lib/python3.9/lib-dynload/math.cpython-39-aarch64-linux-gnu.so'>"
      ]
     },
     "execution_count": 43,
     "metadata": {},
     "output_type": "execute_result"
    }
   ],
   "source": [
    "math"
   ]
  },
  {
   "cell_type": "code",
   "execution_count": 44,
   "metadata": {},
   "outputs": [
    {
     "data": {
      "text/plain": [
       "3.0"
      ]
     },
     "execution_count": 44,
     "metadata": {},
     "output_type": "execute_result"
    }
   ],
   "source": [
    "math.sqrt(9)"
   ]
  },
  {
   "cell_type": "code",
   "execution_count": 45,
   "metadata": {},
   "outputs": [
    {
     "data": {
      "text/plain": [
       "24"
      ]
     },
     "execution_count": 45,
     "metadata": {},
     "output_type": "execute_result"
    }
   ],
   "source": [
    "math.factorial(4)"
   ]
  },
  {
   "cell_type": "code",
   "execution_count": 46,
   "metadata": {},
   "outputs": [
    {
     "data": {
      "text/plain": [
       "24"
      ]
     },
     "execution_count": 46,
     "metadata": {},
     "output_type": "execute_result"
    }
   ],
   "source": [
    "1 * 2 * 3 * 4"
   ]
  },
  {
   "cell_type": "code",
   "execution_count": 47,
   "metadata": {},
   "outputs": [],
   "source": [
    "def get_factorial(number):\n",
    "    number_factorial = 1\n",
    "\n",
    "    for i in range(1, number + 1):\n",
    "        number_factorial *= i\n",
    "\n",
    "    return number_factorial"
   ]
  },
  {
   "cell_type": "code",
   "execution_count": 48,
   "metadata": {},
   "outputs": [
    {
     "data": {
      "text/plain": [
       "24"
      ]
     },
     "execution_count": 48,
     "metadata": {},
     "output_type": "execute_result"
    }
   ],
   "source": [
    "get_factorial(4)"
   ]
  },
  {
   "cell_type": "code",
   "execution_count": 49,
   "metadata": {},
   "outputs": [
    {
     "data": {
      "text/plain": [
       "120"
      ]
     },
     "execution_count": 49,
     "metadata": {},
     "output_type": "execute_result"
    }
   ],
   "source": [
    "get_factorial(5)"
   ]
  },
  {
   "cell_type": "code",
   "execution_count": null,
   "metadata": {},
   "outputs": [],
   "source": [
    "math.factorial(5)"
   ]
  },
  {
   "attachments": {},
   "cell_type": "markdown",
   "metadata": {},
   "source": [
    "### random"
   ]
  },
  {
   "cell_type": "code",
   "execution_count": 52,
   "metadata": {},
   "outputs": [],
   "source": [
    "import random"
   ]
  },
  {
   "cell_type": "code",
   "execution_count": 53,
   "metadata": {},
   "outputs": [],
   "source": [
    "numbers = [\n",
    "    i\n",
    "    for i in range(10)\n",
    "]"
   ]
  },
  {
   "cell_type": "code",
   "execution_count": 54,
   "metadata": {},
   "outputs": [
    {
     "data": {
      "text/plain": [
       "[0, 1, 2, 3, 4, 5, 6, 7, 8, 9]"
      ]
     },
     "execution_count": 54,
     "metadata": {},
     "output_type": "execute_result"
    }
   ],
   "source": [
    "numbers"
   ]
  },
  {
   "cell_type": "code",
   "execution_count": 55,
   "metadata": {},
   "outputs": [
    {
     "data": {
      "text/plain": [
       "0"
      ]
     },
     "execution_count": 55,
     "metadata": {},
     "output_type": "execute_result"
    }
   ],
   "source": [
    "random_number = random.choice(numbers)\n",
    "random_number"
   ]
  },
  {
   "cell_type": "code",
   "execution_count": 56,
   "metadata": {},
   "outputs": [],
   "source": [
    "names = utils.get_team_members()"
   ]
  },
  {
   "cell_type": "code",
   "execution_count": 57,
   "metadata": {},
   "outputs": [
    {
     "data": {
      "text/plain": [
       "['firoz', 'karthik', 'betrand', 'santhosh']"
      ]
     },
     "execution_count": 57,
     "metadata": {},
     "output_type": "execute_result"
    }
   ],
   "source": [
    "names"
   ]
  },
  {
   "cell_type": "code",
   "execution_count": 58,
   "metadata": {},
   "outputs": [
    {
     "data": {
      "text/plain": [
       "'betrand'"
      ]
     },
     "execution_count": 58,
     "metadata": {},
     "output_type": "execute_result"
    }
   ],
   "source": [
    "random_name = random.choice(names)\n",
    "random_name"
   ]
  },
  {
   "cell_type": "code",
   "execution_count": 59,
   "metadata": {},
   "outputs": [
    {
     "name": "stdout",
     "output_type": "stream",
     "text": [
      "betrand\n",
      "karthik\n",
      "firoz\n",
      "santhosh\n",
      "santhosh\n",
      "santhosh\n",
      "santhosh\n",
      "betrand\n",
      "santhosh\n",
      "santhosh\n"
     ]
    }
   ],
   "source": [
    "for _ in range(10):\n",
    "    random_name = random.choice(names)\n",
    "    print(random_name)"
   ]
  },
  {
   "cell_type": "code",
   "execution_count": 60,
   "metadata": {},
   "outputs": [
    {
     "name": "stdout",
     "output_type": "stream",
     "text": [
      "Help on method choices in module random:\n",
      "\n",
      "choices(population, weights=None, *, cum_weights=None, k=1) method of random.Random instance\n",
      "    Return a k sized list of population elements chosen with replacement.\n",
      "    \n",
      "    If the relative weights or cumulative weights are not specified,\n",
      "    the selections are made with equal probability.\n",
      "\n"
     ]
    }
   ],
   "source": [
    "help(random.choices)"
   ]
  },
  {
   "cell_type": "code",
   "execution_count": 61,
   "metadata": {},
   "outputs": [
    {
     "data": {
      "text/plain": [
       "['betrand', 'karthik']"
      ]
     },
     "execution_count": 61,
     "metadata": {},
     "output_type": "execute_result"
    }
   ],
   "source": [
    "random_names = random.choices(names, k=2)\n",
    "random_names"
   ]
  },
  {
   "attachments": {},
   "cell_type": "markdown",
   "metadata": {},
   "source": [
    "### creating a slot machine"
   ]
  },
  {
   "cell_type": "code",
   "execution_count": 62,
   "metadata": {},
   "outputs": [
    {
     "data": {
      "text/plain": [
       "['firoz', 'karthik', 'betrand', 'santhosh']"
      ]
     },
     "execution_count": 62,
     "metadata": {},
     "output_type": "execute_result"
    }
   ],
   "source": [
    "names"
   ]
  },
  {
   "cell_type": "code",
   "execution_count": 63,
   "metadata": {},
   "outputs": [
    {
     "name": "stdout",
     "output_type": "stream",
     "text": [
      "['firoz', 'karthik']\n",
      "['firoz', 'santhosh']\n"
     ]
    }
   ],
   "source": [
    "total_teams = int(len(names) / 2 )\n",
    "\n",
    "for team_number in range(1, total_teams+1):\n",
    "    random_names = random.choices(names, k=2)\n",
    "    print(random_names)"
   ]
  },
  {
   "cell_type": "code",
   "execution_count": 64,
   "metadata": {},
   "outputs": [],
   "source": [
    "def slot_machine(numbers):\n",
    "    selected_numbers = []\n",
    "\n",
    "    for _ in range(3):\n",
    "        random_names = random.choice(numbers)\n",
    "        selected_numbers.append(random_names)\n",
    "\n",
    "    print(selected_numbers)\n",
    "    \n",
    "    if len(set(selected_numbers)) == 1:\n",
    "        print(\"you have won\")\n",
    "    else:\n",
    "        print(\"please try again\")"
   ]
  },
  {
   "cell_type": "code",
   "execution_count": 65,
   "metadata": {},
   "outputs": [],
   "source": [
    "numbers = [3, 4, 5, 4, 5, 3]"
   ]
  },
  {
   "cell_type": "code",
   "execution_count": 67,
   "metadata": {},
   "outputs": [
    {
     "name": "stdout",
     "output_type": "stream",
     "text": [
      "[5, 4, 5]\n",
      "please try again\n"
     ]
    }
   ],
   "source": [
    "slot_machine(numbers)"
   ]
  },
  {
   "cell_type": "code",
   "execution_count": 68,
   "metadata": {},
   "outputs": [
    {
     "name": "stdout",
     "output_type": "stream",
     "text": [
      "[4, 4, 4]\n",
      "you have won\n"
     ]
    }
   ],
   "source": [
    "slot_machine(numbers)"
   ]
  },
  {
   "attachments": {},
   "cell_type": "markdown",
   "metadata": {},
   "source": [
    "### time"
   ]
  },
  {
   "cell_type": "code",
   "execution_count": 69,
   "metadata": {},
   "outputs": [],
   "source": [
    "import time"
   ]
  },
  {
   "cell_type": "code",
   "execution_count": 70,
   "metadata": {},
   "outputs": [
    {
     "data": {
      "text/plain": [
       "1677985742.1524243"
      ]
     },
     "execution_count": 70,
     "metadata": {},
     "output_type": "execute_result"
    }
   ],
   "source": [
    "time.time()"
   ]
  },
  {
   "cell_type": "code",
   "execution_count": 71,
   "metadata": {},
   "outputs": [
    {
     "name": "stdout",
     "output_type": "stream",
     "text": [
      "1677985744.0588474\n",
      "1677985744.0589607\n",
      "1677985744.0589676\n",
      "1677985744.0589736\n",
      "1677985744.0589788\n"
     ]
    }
   ],
   "source": [
    "for _ in range(5):\n",
    "    print(time.time())"
   ]
  },
  {
   "cell_type": "code",
   "execution_count": 72,
   "metadata": {},
   "outputs": [
    {
     "data": {
      "text/plain": [
       "'Sun Mar  5 08:39:05 2023'"
      ]
     },
     "execution_count": 72,
     "metadata": {},
     "output_type": "execute_result"
    }
   ],
   "source": [
    "time.ctime()"
   ]
  },
  {
   "cell_type": "code",
   "execution_count": 73,
   "metadata": {},
   "outputs": [],
   "source": [
    "time.sleep(1)"
   ]
  },
  {
   "cell_type": "code",
   "execution_count": 74,
   "metadata": {},
   "outputs": [],
   "source": [
    "time.sleep(0.5)"
   ]
  },
  {
   "attachments": {},
   "cell_type": "markdown",
   "metadata": {},
   "source": [
    "### tempfile"
   ]
  },
  {
   "cell_type": "code",
   "execution_count": 75,
   "metadata": {},
   "outputs": [],
   "source": [
    "import tempfile"
   ]
  },
  {
   "cell_type": "code",
   "execution_count": 77,
   "metadata": {},
   "outputs": [
    {
     "data": {
      "text/plain": [
       "<module 'tempfile' from '/usr/local/lib/python3.9/tempfile.py'>"
      ]
     },
     "execution_count": 77,
     "metadata": {},
     "output_type": "execute_result"
    }
   ],
   "source": [
    "tempfile"
   ]
  },
  {
   "cell_type": "code",
   "execution_count": 76,
   "metadata": {},
   "outputs": [
    {
     "name": "stdout",
     "output_type": "stream",
     "text": [
      "Help on function NamedTemporaryFile in module tempfile:\n",
      "\n",
      "NamedTemporaryFile(mode='w+b', buffering=-1, encoding=None, newline=None, suffix=None, prefix=None, dir=None, delete=True, *, errors=None)\n",
      "    Create and return a temporary file.\n",
      "    Arguments:\n",
      "    'prefix', 'suffix', 'dir' -- as for mkstemp.\n",
      "    'mode' -- the mode argument to io.open (default \"w+b\").\n",
      "    'buffering' -- the buffer size argument to io.open (default -1).\n",
      "    'encoding' -- the encoding argument to io.open (default None)\n",
      "    'newline' -- the newline argument to io.open (default None)\n",
      "    'delete' -- whether the file is deleted on close (default True).\n",
      "    'errors' -- the errors argument to io.open (default None)\n",
      "    The file is created as mkstemp() would do it.\n",
      "    \n",
      "    Returns an object with a file-like interface; the name of the file\n",
      "    is accessible as its 'name' attribute.  The file will be automatically\n",
      "    deleted when it is closed unless the 'delete' argument is set to False.\n",
      "\n"
     ]
    }
   ],
   "source": [
    "help(tempfile.NamedTemporaryFile)"
   ]
  },
  {
   "cell_type": "code",
   "execution_count": 78,
   "metadata": {},
   "outputs": [
    {
     "data": {
      "text/plain": [
       "'/tmp/tmpyzyxxb80'"
      ]
     },
     "execution_count": 78,
     "metadata": {},
     "output_type": "execute_result"
    }
   ],
   "source": [
    "temp_file = tempfile.NamedTemporaryFile()\n",
    "temp_file.name"
   ]
  },
  {
   "attachments": {},
   "cell_type": "markdown",
   "metadata": {},
   "source": [
    "#### uuid"
   ]
  },
  {
   "cell_type": "code",
   "execution_count": 79,
   "metadata": {},
   "outputs": [],
   "source": [
    "import uuid"
   ]
  },
  {
   "cell_type": "code",
   "execution_count": 80,
   "metadata": {},
   "outputs": [
    {
     "name": "stdout",
     "output_type": "stream",
     "text": [
      "9b8462fd-4f59-46e9-96b5-6c4d2439c7ee\n",
      "31ba3a7f-eac1-4f68-8ffc-148930e83c36\n",
      "293b719a-682e-4b0d-a5ec-620955546781\n",
      "2f55223e-cfd7-43ae-87eb-02ebd1dfb780\n",
      "5ad83932-6078-4915-819f-9d1b88c3ca02\n",
      "db6e6fe5-0347-4394-8b49-8a669a59a351\n",
      "4eae1b8e-5d41-4897-a6f2-6a506ba45a6e\n",
      "a3b274ec-dd84-4d17-aa6d-4ff2178c4066\n",
      "7ea36d73-ab6e-4d99-b15b-e25aaaacd58b\n",
      "85285343-4faa-42bb-b048-dc944bdc520f\n"
     ]
    }
   ],
   "source": [
    "for _ in range(10):\n",
    "    print(str(uuid.uuid4()))"
   ]
  },
  {
   "cell_type": "code",
   "execution_count": null,
   "metadata": {},
   "outputs": [],
   "source": []
  }
 ],
 "metadata": {
  "kernelspec": {
   "display_name": "Python 3 (ipykernel)",
   "language": "python",
   "name": "python3"
  },
  "language_info": {
   "codemirror_mode": {
    "name": "ipython",
    "version": 3
   },
   "file_extension": ".py",
   "mimetype": "text/x-python",
   "name": "python",
   "nbconvert_exporter": "python",
   "pygments_lexer": "ipython3",
   "version": "3.9.16"
  },
  "orig_nbformat": 4
 },
 "nbformat": 4,
 "nbformat_minor": 2
}
