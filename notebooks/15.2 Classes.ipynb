{
 "cells": [
  {
   "attachments": {},
   "cell_type": "markdown",
   "metadata": {},
   "source": [
    "### Person"
   ]
  },
  {
   "cell_type": "code",
   "execution_count": 1,
   "metadata": {},
   "outputs": [],
   "source": [
    "from datetime import datetime"
   ]
  },
  {
   "cell_type": "code",
   "execution_count": 2,
   "metadata": {},
   "outputs": [],
   "source": [
    "class Person:\n",
    "    # constructor, first function when a class is initialized \n",
    "    def __init__(self, name):\n",
    "        self.name = name\n",
    "        self.title_cased_name = name.title()\n",
    "\n",
    "        current_time = datetime.now().isoformat()\n",
    "        self.class_initilization_time = current_time\n",
    "\n",
    "        \n",
    "    def greet(self, greeting):\n",
    "        current_time = datetime.now().isoformat()\n",
    "        print(f\"{greeting} {self.title_cased_name}!\")\n",
    "        print(self.class_initilization_time, current_time)\n"
   ]
  },
  {
   "cell_type": "code",
   "execution_count": 3,
   "metadata": {},
   "outputs": [],
   "source": [
    "person = Person(\"kartHIk\")"
   ]
  },
  {
   "cell_type": "code",
   "execution_count": 4,
   "metadata": {},
   "outputs": [
    {
     "data": {
      "text/plain": [
       "'kartHIk'"
      ]
     },
     "execution_count": 4,
     "metadata": {},
     "output_type": "execute_result"
    }
   ],
   "source": [
    "person.name"
   ]
  },
  {
   "cell_type": "code",
   "execution_count": 5,
   "metadata": {},
   "outputs": [
    {
     "data": {
      "text/plain": [
       "'Karthik'"
      ]
     },
     "execution_count": 5,
     "metadata": {},
     "output_type": "execute_result"
    }
   ],
   "source": [
    "person.title_cased_name"
   ]
  },
  {
   "cell_type": "code",
   "execution_count": 6,
   "metadata": {},
   "outputs": [
    {
     "data": {
      "text/plain": [
       "'2023-03-10T09:43:46.974494'"
      ]
     },
     "execution_count": 6,
     "metadata": {},
     "output_type": "execute_result"
    }
   ],
   "source": [
    "person.class_initilization_time"
   ]
  },
  {
   "cell_type": "code",
   "execution_count": 7,
   "metadata": {},
   "outputs": [
    {
     "name": "stdout",
     "output_type": "stream",
     "text": [
      "Welcome Karthik!\n",
      "2023-03-10T09:43:46.974494 2023-03-10T09:43:47.290354\n"
     ]
    }
   ],
   "source": [
    "person.greet(\"Welcome\")"
   ]
  },
  {
   "attachments": {},
   "cell_type": "markdown",
   "metadata": {},
   "source": [
    "### Car"
   ]
  },
  {
   "cell_type": "code",
   "execution_count": 8,
   "metadata": {},
   "outputs": [],
   "source": [
    "from uuid import uuid4"
   ]
  },
  {
   "cell_type": "code",
   "execution_count": 9,
   "metadata": {},
   "outputs": [],
   "source": [
    "class Car:\n",
    "    # from uuid import uuid4\n",
    "\n",
    "    def __init__(self, make, model, year):\n",
    "        self.make = make\n",
    "        self.model = model\n",
    "        self.year = year\n",
    "        \n",
    "        # from uuid import uuid4 as random_id_generator\n",
    "        # self.vin = str(random_id_generator())\n",
    "\n",
    "        self.vin = str(uuid4())\n",
    "\n",
    "\n",
    "    def get_car_details(self):\n",
    "        return {\n",
    "            \"make\": self.make,\n",
    "            \"model\": self.model,\n",
    "            \"year\": self.year,\n",
    "            \"vin\": self.vin,\n",
    "        }"
   ]
  },
  {
   "cell_type": "code",
   "execution_count": 10,
   "metadata": {},
   "outputs": [],
   "source": [
    "firozs_car = Car(\n",
    "    make=\"Toyota\",\n",
    "    model=\"Supra\",\n",
    "    year=2023\n",
    ")\n",
    "\n",
    "santhosh_car = Car(\n",
    "    make=\"Tata\",\n",
    "    model=\"Nano\",\n",
    "    year=2023\n",
    ")"
   ]
  },
  {
   "cell_type": "code",
   "execution_count": 11,
   "metadata": {},
   "outputs": [
    {
     "data": {
      "text/plain": [
       "{'make': 'Toyota',\n",
       " 'model': 'Supra',\n",
       " 'year': 2023,\n",
       " 'vin': 'bfef4906-d25b-410b-80c3-31eb02fd916e'}"
      ]
     },
     "execution_count": 11,
     "metadata": {},
     "output_type": "execute_result"
    }
   ],
   "source": [
    "firozs_car.get_car_details()"
   ]
  },
  {
   "cell_type": "code",
   "execution_count": 12,
   "metadata": {},
   "outputs": [
    {
     "data": {
      "text/plain": [
       "{'make': 'Tata',\n",
       " 'model': 'Nano',\n",
       " 'year': 2023,\n",
       " 'vin': 'a7a1c86a-5a56-4bdc-a2f7-56774c7a879e'}"
      ]
     },
     "execution_count": 12,
     "metadata": {},
     "output_type": "execute_result"
    }
   ],
   "source": [
    "santhosh_car.get_car_details()"
   ]
  },
  {
   "attachments": {},
   "cell_type": "markdown",
   "metadata": {},
   "source": [
    "### checking imports time"
   ]
  },
  {
   "cell_type": "code",
   "execution_count": 13,
   "metadata": {},
   "outputs": [],
   "source": [
    "from time import time"
   ]
  },
  {
   "cell_type": "code",
   "execution_count": 14,
   "metadata": {},
   "outputs": [
    {
     "name": "stdout",
     "output_type": "stream",
     "text": [
      "7.6294e-06\n",
      "4.7684e-06\n",
      "1.4305e-06\n",
      "1.1921e-06\n",
      "2.3842e-06\n",
      "1.1921e-06\n",
      "1.4305e-06\n",
      "1.1921e-06\n",
      "1.9073e-06\n",
      "1.4305e-06\n"
     ]
    }
   ],
   "source": [
    "for _ in range(10):\n",
    "    start = time()\n",
    "    from uuid import uuid4 as random_id_generator\n",
    "    end = time()\n",
    "\n",
    "    time_taken = round(end - start, 10)\n",
    "    print(time_taken)\n",
    "\n",
    "    del random_id_generator"
   ]
  },
  {
   "attachments": {},
   "cell_type": "markdown",
   "metadata": {},
   "source": [
    "### optimizing imports"
   ]
  },
  {
   "attachments": {},
   "cell_type": "markdown",
   "metadata": {},
   "source": [
    "check below on the global, class-wide and function-wide import "
   ]
  },
  {
   "cell_type": "code",
   "execution_count": 15,
   "metadata": {},
   "outputs": [],
   "source": [
    "# 1 global imports\n",
    "import pandas\n",
    "import requests\n",
    "import sqlite3\n",
    "\n",
    "\n",
    "class DataCleaner:\n",
    "    pass\n",
    "\n",
    "\n",
    "class DataProcessor:\n",
    "    # 2 class-wide import\n",
    "    import pandas # 0.5\n",
    "    import requests # 0.01\n",
    "    import sqlite3 # 0.01s\n",
    "\n",
    "    def get_data_from_db(self, query):\n",
    "        # 3 function-wide import\n",
    "        import sqlite3 \n",
    "        # run the query\n",
    "        data = self.sqlite3.run_query(query)\n",
    "        self.data = data\n",
    "\n",
    "\n",
    "    def download_data(self, url):\n",
    "        import requests\n",
    "        # download data from url using requests and return it\n",
    "        data = self.requests.get(url)\n",
    "        self.data = data \n",
    "\n",
    "\n",
    "    def load_data(self, file):\n",
    "        import pandas\n",
    "        # load the file (csv) using pandas and return it\n",
    "        data = self.pandas.load(file)\n",
    "        self.data = data \n",
    "\n",
    "\n",
    "    def process_data(self, data):\n",
    "        # the data in the memory gets processed here and return it\n",
    "        self.processed_data = self.data"
   ]
  },
  {
   "cell_type": "code",
   "execution_count": null,
   "metadata": {},
   "outputs": [],
   "source": []
  }
 ],
 "metadata": {
  "kernelspec": {
   "display_name": "Python 3",
   "language": "python",
   "name": "python3"
  },
  "language_info": {
   "codemirror_mode": {
    "name": "ipython",
    "version": 3
   },
   "file_extension": ".py",
   "mimetype": "text/x-python",
   "name": "python",
   "nbconvert_exporter": "python",
   "pygments_lexer": "ipython3",
   "version": "3.9.16"
  },
  "orig_nbformat": 4
 },
 "nbformat": 4,
 "nbformat_minor": 2
}
