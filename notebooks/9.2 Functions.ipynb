{
 "cells": [
  {
   "attachments": {},
   "cell_type": "markdown",
   "metadata": {},
   "source": [
    "### function arguments"
   ]
  },
  {
   "attachments": {},
   "cell_type": "markdown",
   "metadata": {},
   "source": [
    "Note\n",
    "\n",
    "- positional arguments comes at the beginning\n",
    "    - they can be called without their names as well\n",
    "- keyword arguments follow postional arguments in function definition\n",
    "    - when using keyword arguments, its a good practice to call all the arguments using their names in the function definition\n",
    "    - they always have to be called using their names\n",
    "- variable arguments are the last set of arguments"
   ]
  },
  {
   "attachments": {},
   "cell_type": "markdown",
   "metadata": {},
   "source": [
    "### postitional and keyword arguments"
   ]
  },
  {
   "attachments": {},
   "cell_type": "markdown",
   "metadata": {},
   "source": [
    "#### greet_people"
   ]
  },
  {
   "cell_type": "code",
   "execution_count": 1,
   "metadata": {},
   "outputs": [],
   "source": [
    "def greet_people(name, greeting=\"Hello\"):\n",
    "    greeting = f\"{greeting} {name}!!\"\n",
    "    print(greeting)"
   ]
  },
  {
   "cell_type": "code",
   "execution_count": 2,
   "metadata": {},
   "outputs": [
    {
     "name": "stdout",
     "output_type": "stream",
     "text": [
      "Hello santhosh!!\n"
     ]
    }
   ],
   "source": [
    "greet_people(\"santhosh\")"
   ]
  },
  {
   "cell_type": "code",
   "execution_count": 3,
   "metadata": {},
   "outputs": [
    {
     "name": "stdout",
     "output_type": "stream",
     "text": [
      "Welcome santhosh!!\n"
     ]
    }
   ],
   "source": [
    "greet_people(\"santhosh\", greeting=\"Welcome\")"
   ]
  },
  {
   "cell_type": "code",
   "execution_count": 4,
   "metadata": {},
   "outputs": [
    {
     "name": "stdout",
     "output_type": "stream",
     "text": [
      "Welcome santhosh!!\n"
     ]
    }
   ],
   "source": [
    "greet_people(name=\"santhosh\", greeting=\"Welcome\")"
   ]
  },
  {
   "cell_type": "code",
   "execution_count": 5,
   "metadata": {},
   "outputs": [
    {
     "name": "stdout",
     "output_type": "stream",
     "text": [
      "Welcome santhosh!!\n"
     ]
    }
   ],
   "source": [
    "greet_people(greeting=\"Welcome\", name=\"santhosh\")"
   ]
  },
  {
   "cell_type": "code",
   "execution_count": 6,
   "metadata": {},
   "outputs": [
    {
     "ename": "SyntaxError",
     "evalue": "non-default argument follows default argument (2691592840.py, line 2)",
     "output_type": "error",
     "traceback": [
      "\u001b[0;36m  Cell \u001b[0;32mIn[6], line 2\u001b[0;36m\u001b[0m\n\u001b[0;31m    def greet_people(greeting=\"Hello\", name):\u001b[0m\n\u001b[0m                                           ^\u001b[0m\n\u001b[0;31mSyntaxError\u001b[0m\u001b[0;31m:\u001b[0m non-default argument follows default argument\n"
     ]
    }
   ],
   "source": [
    "# we must have positional arguments before keyword arguments\n",
    "def greet_people(greeting=\"Hello\", name):\n",
    "    greeting = f\"{greeting} {name}!!\"\n",
    "    print(greeting)"
   ]
  },
  {
   "attachments": {},
   "cell_type": "markdown",
   "metadata": {},
   "source": [
    "#### sum_2_multiply_3"
   ]
  },
  {
   "cell_type": "code",
   "execution_count": 7,
   "metadata": {},
   "outputs": [],
   "source": [
    "def sum_2_multiply_3(num1, num2, num3=10):\n",
    "    sum_result = num1 + num2\n",
    "    mul_result = sum_result * num3\n",
    "    print(sum_result, mul_result)"
   ]
  },
  {
   "cell_type": "code",
   "execution_count": 8,
   "metadata": {},
   "outputs": [
    {
     "name": "stdout",
     "output_type": "stream",
     "text": [
      "6 60\n"
     ]
    }
   ],
   "source": [
    "sum_2_multiply_3(4, 2)"
   ]
  },
  {
   "cell_type": "code",
   "execution_count": 9,
   "metadata": {},
   "outputs": [
    {
     "name": "stdout",
     "output_type": "stream",
     "text": [
      "6 60\n"
     ]
    }
   ],
   "source": [
    "sum_2_multiply_3(num2=4, num1=2)"
   ]
  },
  {
   "attachments": {},
   "cell_type": "markdown",
   "metadata": {},
   "source": [
    "#### sum_2_and_power_or_multiply"
   ]
  },
  {
   "cell_type": "code",
   "execution_count": 10,
   "metadata": {},
   "outputs": [],
   "source": [
    "def sum_2_and_power_or_multiply(num1, num2, num3=3, multiply=False, power=False):\n",
    "    sum_result = num1 + num2\n",
    "\n",
    "    if multiply:\n",
    "        result = sum_result * num3\n",
    "\n",
    "    if power:\n",
    "        result = sum_result ** num3\n",
    "\n",
    "    # both the values are false\n",
    "    if not (multiply or power):\n",
    "        print(\"no action found\")\n",
    "    \n",
    "    print(sum_result, result)"
   ]
  },
  {
   "cell_type": "code",
   "execution_count": 11,
   "metadata": {},
   "outputs": [
    {
     "name": "stdout",
     "output_type": "stream",
     "text": [
      "6 18\n"
     ]
    }
   ],
   "source": [
    "sum_2_and_power_or_multiply(\n",
    "    2, \n",
    "    4, \n",
    "    # num3=4,\n",
    "    multiply=True, \n",
    "    # power=True\n",
    ")"
   ]
  },
  {
   "cell_type": "code",
   "execution_count": 12,
   "metadata": {},
   "outputs": [
    {
     "name": "stdout",
     "output_type": "stream",
     "text": [
      "6 216\n"
     ]
    }
   ],
   "source": [
    "sum_2_and_power_or_multiply(\n",
    "    2, \n",
    "    4, \n",
    "    # num3=4,\n",
    "    # multiply=True, \n",
    "    power=True\n",
    ")"
   ]
  },
  {
   "cell_type": "code",
   "execution_count": 13,
   "metadata": {},
   "outputs": [
    {
     "name": "stdout",
     "output_type": "stream",
     "text": [
      "no action found\n"
     ]
    },
    {
     "ename": "UnboundLocalError",
     "evalue": "local variable 'result' referenced before assignment",
     "output_type": "error",
     "traceback": [
      "\u001b[0;31m---------------------------------------------------------------------------\u001b[0m",
      "\u001b[0;31mUnboundLocalError\u001b[0m                         Traceback (most recent call last)",
      "Cell \u001b[0;32mIn[13], line 2\u001b[0m\n\u001b[1;32m      1\u001b[0m \u001b[39m# think on the error\u001b[39;00m\n\u001b[0;32m----> 2\u001b[0m sum_2_and_power_or_multiply(\n\u001b[1;32m      3\u001b[0m     \u001b[39m2\u001b[39;49m, \n\u001b[1;32m      4\u001b[0m     \u001b[39m4\u001b[39;49m, \n\u001b[1;32m      5\u001b[0m     \u001b[39m# num3=4,\u001b[39;49;00m\n\u001b[1;32m      6\u001b[0m     \u001b[39m# multiply=True, \u001b[39;49;00m\n\u001b[1;32m      7\u001b[0m     \u001b[39m# power=True\u001b[39;49;00m\n\u001b[1;32m      8\u001b[0m )\n",
      "Cell \u001b[0;32mIn[10], line 14\u001b[0m, in \u001b[0;36msum_2_and_power_or_multiply\u001b[0;34m(num1, num2, num3, multiply, power)\u001b[0m\n\u001b[1;32m     11\u001b[0m \u001b[39mif\u001b[39;00m \u001b[39mnot\u001b[39;00m (multiply \u001b[39mor\u001b[39;00m power):\n\u001b[1;32m     12\u001b[0m     \u001b[39mprint\u001b[39m(\u001b[39m\"\u001b[39m\u001b[39mno action found\u001b[39m\u001b[39m\"\u001b[39m)\n\u001b[0;32m---> 14\u001b[0m \u001b[39mprint\u001b[39m(sum_result, result)\n",
      "\u001b[0;31mUnboundLocalError\u001b[0m: local variable 'result' referenced before assignment"
     ]
    }
   ],
   "source": [
    "# think on the error\n",
    "sum_2_and_power_or_multiply(\n",
    "    2, \n",
    "    4, \n",
    "    # num3=4,\n",
    "    # multiply=True, \n",
    "    # power=True\n",
    ")"
   ]
  },
  {
   "attachments": {},
   "cell_type": "markdown",
   "metadata": {},
   "source": [
    "### return keyword"
   ]
  },
  {
   "attachments": {},
   "cell_type": "markdown",
   "metadata": {},
   "source": [
    "- return holds the data returned by the function logic\n",
    "- input (function parameter) and output (return) to be a function can be of any type"
   ]
  },
  {
   "attachments": {},
   "cell_type": "markdown",
   "metadata": {},
   "source": [
    "#### greet"
   ]
  },
  {
   "cell_type": "code",
   "execution_count": 14,
   "metadata": {},
   "outputs": [],
   "source": [
    "def greet_v1(name):\n",
    "    greeting = f\"Hello {name}!!\"\n",
    "    print(greeting)"
   ]
  },
  {
   "cell_type": "code",
   "execution_count": 15,
   "metadata": {},
   "outputs": [],
   "source": [
    "def greet_v2(name):\n",
    "    greeting = f\"Hello {name}!!\"\n",
    "    return greeting"
   ]
  },
  {
   "cell_type": "code",
   "execution_count": 16,
   "metadata": {},
   "outputs": [],
   "source": [
    "def greet_v3(name):\n",
    "    greeting = f\"Hello {name}!!\"\n",
    "    print(greeting)\n",
    "    return greeting"
   ]
  },
  {
   "cell_type": "code",
   "execution_count": 17,
   "metadata": {},
   "outputs": [
    {
     "name": "stdout",
     "output_type": "stream",
     "text": [
      "Hello firoz!!\n"
     ]
    }
   ],
   "source": [
    "greeting_value_1 = greet_v1(\"firoz\")"
   ]
  },
  {
   "cell_type": "code",
   "execution_count": 18,
   "metadata": {},
   "outputs": [],
   "source": [
    "greeting_value_2 = greet_v2(\"firoz\")"
   ]
  },
  {
   "cell_type": "code",
   "execution_count": 19,
   "metadata": {},
   "outputs": [
    {
     "name": "stdout",
     "output_type": "stream",
     "text": [
      "Hello firoz!!\n"
     ]
    }
   ],
   "source": [
    "greeting_value_3 = greet_v3(\"firoz\")"
   ]
  },
  {
   "cell_type": "code",
   "execution_count": 20,
   "metadata": {},
   "outputs": [],
   "source": [
    "greeting_value_1"
   ]
  },
  {
   "cell_type": "code",
   "execution_count": 21,
   "metadata": {},
   "outputs": [
    {
     "data": {
      "text/plain": [
       "'Hello firoz!!'"
      ]
     },
     "execution_count": 21,
     "metadata": {},
     "output_type": "execute_result"
    }
   ],
   "source": [
    "greeting_value_2"
   ]
  },
  {
   "cell_type": "code",
   "execution_count": 22,
   "metadata": {},
   "outputs": [
    {
     "data": {
      "text/plain": [
       "'Hello firoz!!'"
      ]
     },
     "execution_count": 22,
     "metadata": {},
     "output_type": "execute_result"
    }
   ],
   "source": [
    "greeting_value_3"
   ]
  },
  {
   "attachments": {},
   "cell_type": "markdown",
   "metadata": {},
   "source": [
    "#### email_slicer"
   ]
  },
  {
   "cell_type": "code",
   "execution_count": 23,
   "metadata": {},
   "outputs": [],
   "source": [
    "def email_slicer(email): \n",
    "    name, fqdn = email.split(\"@\") \n",
    "    domain_name = fqdn.split(\".\")[0] \n",
    "\n",
    "    print(f\"Name -> {name.title()}, Domain -> {domain_name}\") \n",
    "    return name, domain_name"
   ]
  },
  {
   "cell_type": "code",
   "execution_count": 24,
   "metadata": {},
   "outputs": [
    {
     "name": "stdout",
     "output_type": "stream",
     "text": [
      "Name -> Someone, Domain -> example\n"
     ]
    }
   ],
   "source": [
    "output = email_slicer(\"someone@example.com\")"
   ]
  },
  {
   "cell_type": "code",
   "execution_count": 25,
   "metadata": {},
   "outputs": [
    {
     "data": {
      "text/plain": [
       "('someone', 'example')"
      ]
     },
     "execution_count": 25,
     "metadata": {},
     "output_type": "execute_result"
    }
   ],
   "source": [
    "output"
   ]
  },
  {
   "cell_type": "code",
   "execution_count": 26,
   "metadata": {},
   "outputs": [
    {
     "name": "stdout",
     "output_type": "stream",
     "text": [
      "Name -> Someone, Domain -> example\n"
     ]
    }
   ],
   "source": [
    "# slicing output\n",
    "output_name, output_domain_name = email_slicer(\"someone@example.com\")"
   ]
  },
  {
   "cell_type": "code",
   "execution_count": 27,
   "metadata": {},
   "outputs": [
    {
     "data": {
      "text/plain": [
       "'someone'"
      ]
     },
     "execution_count": 27,
     "metadata": {},
     "output_type": "execute_result"
    }
   ],
   "source": [
    "output_name"
   ]
  },
  {
   "cell_type": "code",
   "execution_count": 28,
   "metadata": {},
   "outputs": [
    {
     "data": {
      "text/plain": [
       "'example'"
      ]
     },
     "execution_count": 28,
     "metadata": {},
     "output_type": "execute_result"
    }
   ],
   "source": [
    "output_domain_name"
   ]
  },
  {
   "cell_type": "code",
   "execution_count": 29,
   "metadata": {},
   "outputs": [],
   "source": [
    "def email_slicer_v2(email): \n",
    "    name, fqdn = email.split(\"@\") \n",
    "    domain_name = fqdn.split(\".\")[0] \n",
    "\n",
    "    print(f\"Name -> {name.title()}, Domain -> {domain_name}\") \n",
    "\n",
    "    return {\n",
    "        \"name\": name,\n",
    "        \"domain_name\": domain_name\n",
    "    }"
   ]
  },
  {
   "cell_type": "code",
   "execution_count": 30,
   "metadata": {},
   "outputs": [
    {
     "name": "stdout",
     "output_type": "stream",
     "text": [
      "Name -> Someone, Domain -> example\n"
     ]
    }
   ],
   "source": [
    "output = email_slicer_v2(\"someone@example.com\")"
   ]
  },
  {
   "cell_type": "code",
   "execution_count": 31,
   "metadata": {},
   "outputs": [
    {
     "data": {
      "text/plain": [
       "{'name': 'someone', 'domain_name': 'example'}"
      ]
     },
     "execution_count": 31,
     "metadata": {},
     "output_type": "execute_result"
    }
   ],
   "source": [
    "# dict output\n",
    "output"
   ]
  },
  {
   "attachments": {},
   "cell_type": "markdown",
   "metadata": {},
   "source": [
    "#### greet_multiple"
   ]
  },
  {
   "cell_type": "code",
   "execution_count": 32,
   "metadata": {},
   "outputs": [],
   "source": [
    "def greet_multiple(people_names):\n",
    "    greeting = {}\n",
    "\n",
    "    if type(people_names) == list:\n",
    "        for name in people_names:\n",
    "            # greeting[name] = f\"Hello {name.title()}\"\n",
    "            greeting[name] = f\"Hello {name}!!\"\n",
    "\n",
    "    else:\n",
    "        input_variable_type = type(people_names)\n",
    "        print(f\"input should be a list, found a {input_variable_type}\")\n",
    "\n",
    "        # print(f\"input should be a list, found a {type(people_names)}\")\n",
    "\n",
    "    return greeting"
   ]
  },
  {
   "cell_type": "code",
   "execution_count": 33,
   "metadata": {},
   "outputs": [],
   "source": [
    "names = [\"firoz\", \"karthik\", \"santhosh\"]"
   ]
  },
  {
   "cell_type": "code",
   "execution_count": 34,
   "metadata": {},
   "outputs": [],
   "source": [
    "# both outputs are same\n",
    "greeting_output1 = greet_multiple(names)\n",
    "greeting_output2 = greet_multiple(people_names=names)"
   ]
  },
  {
   "cell_type": "code",
   "execution_count": 35,
   "metadata": {},
   "outputs": [
    {
     "data": {
      "text/plain": [
       "True"
      ]
     },
     "execution_count": 35,
     "metadata": {},
     "output_type": "execute_result"
    }
   ],
   "source": [
    "greeting_output1 == greeting_output2"
   ]
  },
  {
   "cell_type": "code",
   "execution_count": 36,
   "metadata": {},
   "outputs": [
    {
     "data": {
      "text/plain": [
       "{'firoz': 'Hello firoz!!',\n",
       " 'karthik': 'Hello karthik!!',\n",
       " 'santhosh': 'Hello santhosh!!'}"
      ]
     },
     "execution_count": 36,
     "metadata": {},
     "output_type": "execute_result"
    }
   ],
   "source": [
    "greeting_output1"
   ]
  },
  {
   "cell_type": "code",
   "execution_count": 37,
   "metadata": {},
   "outputs": [
    {
     "name": "stdout",
     "output_type": "stream",
     "text": [
      "input should be a list, found a <class 'str'>\n"
     ]
    },
    {
     "data": {
      "text/plain": [
       "{}"
      ]
     },
     "execution_count": 37,
     "metadata": {},
     "output_type": "execute_result"
    }
   ],
   "source": [
    "# handled string output in function\n",
    "greet_multiple(\"firoz, karthik\")"
   ]
  },
  {
   "attachments": {},
   "cell_type": "markdown",
   "metadata": {},
   "source": [
    "#### add_2"
   ]
  },
  {
   "cell_type": "code",
   "execution_count": 38,
   "metadata": {},
   "outputs": [],
   "source": [
    "def add_2(num1, num2):\n",
    "    if type(num1) == int and type(num2) == int:\n",
    "        return num1 + num2\n",
    "    else:\n",
    "        return 0"
   ]
  },
  {
   "cell_type": "code",
   "execution_count": 39,
   "metadata": {},
   "outputs": [
    {
     "data": {
      "text/plain": [
       "5"
      ]
     },
     "execution_count": 39,
     "metadata": {},
     "output_type": "execute_result"
    }
   ],
   "source": [
    "add_2(2, 3)"
   ]
  },
  {
   "cell_type": "code",
   "execution_count": 40,
   "metadata": {},
   "outputs": [
    {
     "data": {
      "text/plain": [
       "0"
      ]
     },
     "execution_count": 40,
     "metadata": {},
     "output_type": "execute_result"
    }
   ],
   "source": [
    "add_2(\"2\", 3)"
   ]
  },
  {
   "attachments": {},
   "cell_type": "markdown",
   "metadata": {},
   "source": [
    "### bulk email sending concept"
   ]
  },
  {
   "attachments": {},
   "cell_type": "markdown",
   "metadata": {},
   "source": [
    "steps\n",
    "- download/read a google sheet file\n",
    "    - col1 - email address\n",
    "    - col2 - content\n",
    "- read row by row and send emails to all the adresses with the right content"
   ]
  },
  {
   "attachments": {},
   "cell_type": "markdown",
   "metadata": {},
   "source": [
    "defining required functions\n",
    "\n",
    "```python\n",
    "def send_email(email, content):\n",
    "    # send the email\n",
    "\n",
    "\n",
    "# data using list of lists\n",
    "def read_file(google_sheet_file):\n",
    "    # read and get data\n",
    "    data = [\n",
    "        [email, content],\n",
    "        [email, content],\n",
    "        [email, content],\n",
    "    ]\n",
    "\n",
    "    return data\n",
    "\n",
    "\n",
    "# data using list of dicts\n",
    "def read_file(google_sheet_file):\n",
    "    # read and get data\n",
    "    data = [\n",
    "        {email: email, content: content},\n",
    "        {email: email, content: content},\n",
    "        {email: email, content: content},\n",
    "    ]\n",
    "\n",
    "    return data\n",
    "```"
   ]
  },
  {
   "attachments": {},
   "cell_type": "markdown",
   "metadata": {
    "vscode": {
     "languageId": "python"
    }
   },
   "source": [
    "calling the functions for performing the action\n",
    "\n",
    "```python\n",
    "data = read_file(google_sheet_file)\n",
    "\n",
    "# function storing data as list of dicts\n",
    "for row in data:\n",
    "    send_email(row[\"email\"], row[\"content\"])\n",
    "    \n",
    "\n",
    "# function storing data as list of lists\n",
    "# monday\n",
    "for row in data:\n",
    "    send_email(row[0], row[1])\n",
    "\n",
    "# tuesday\n",
    "for row in data:\n",
    "    check if the email was sent or bounced\n",
    "\n",
    "len(data)\n",
    "```"
   ]
  },
  {
   "cell_type": "code",
   "execution_count": null,
   "metadata": {},
   "outputs": [],
   "source": []
  }
 ],
 "metadata": {
  "kernelspec": {
   "display_name": "Python 3 (ipykernel)",
   "language": "python",
   "name": "python3"
  },
  "language_info": {
   "codemirror_mode": {
    "name": "ipython",
    "version": 3
   },
   "file_extension": ".py",
   "mimetype": "text/x-python",
   "name": "python",
   "nbconvert_exporter": "python",
   "pygments_lexer": "ipython3",
   "version": "3.9.16"
  },
  "orig_nbformat": 4
 },
 "nbformat": 4,
 "nbformat_minor": 2
}
