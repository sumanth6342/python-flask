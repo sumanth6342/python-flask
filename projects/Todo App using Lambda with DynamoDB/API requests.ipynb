{
 "cells": [
  {
   "attachments": {},
   "cell_type": "markdown",
   "metadata": {},
   "source": [
    "#### imports"
   ]
  },
  {
   "cell_type": "code",
   "execution_count": 1,
   "metadata": {},
   "outputs": [],
   "source": [
    "# !pip install requests"
   ]
  },
  {
   "cell_type": "code",
   "execution_count": 2,
   "metadata": {},
   "outputs": [],
   "source": [
    "import json\n",
    "import requests\n",
    "from pprint import pprint as pp"
   ]
  },
  {
   "cell_type": "code",
   "execution_count": 3,
   "metadata": {},
   "outputs": [],
   "source": [
    "BASE_URL = \"https://jwjrr7cn2ztiogfk7tr7p5zwq40xrhab.lambda-url.us-east-1.on.aws\"\n",
    "\n",
    "HEADERS = {\n",
    "    \"Content-Type\": \"application/json\"\n",
    "}"
   ]
  },
  {
   "attachments": {},
   "cell_type": "markdown",
   "metadata": {},
   "source": [
    "#### get all tasks"
   ]
  },
  {
   "cell_type": "code",
   "execution_count": 4,
   "metadata": {},
   "outputs": [
    {
     "name": "stdout",
     "output_type": "stream",
     "text": [
      "{'count': 2,\n",
      " 'tasks': [{'status': 'In Progress',\n",
      "            'task': 'New task created',\n",
      "            'task_id': '3a9ef196-e95c-4664-8c00-27743d9c938a'},\n",
      "           {'status': 'Completed',\n",
      "            'task': 'New task created',\n",
      "            'task_id': '668e274a-dd85-4842-9b75-6335aa9fb29d'}]}\n"
     ]
    }
   ],
   "source": [
    "url = f\"{BASE_URL}/tasks\"\n",
    "response = requests.get(url)\n",
    "\n",
    "status_code = response.status_code\n",
    "response = response.json()\n",
    "\n",
    "if status_code == 200:\n",
    "    pp(response)\n",
    "else:\n",
    "    print(response)"
   ]
  },
  {
   "attachments": {},
   "cell_type": "markdown",
   "metadata": {},
   "source": [
    "#### create a new task"
   ]
  },
  {
   "cell_type": "code",
   "execution_count": 5,
   "metadata": {},
   "outputs": [
    {
     "name": "stdout",
     "output_type": "stream",
     "text": [
      "{'data_type': 'TODO', 'task_id': 'bdb29d13-12d5-41aa-ba3b-a38a1fba3641', 'task': 'New task created', 'created_at': '2023-04-04T04:56:54.539534', 'last_updated_at': '2023-04-04T04:56:54.539534', 'status': 'In Progress'}\n"
     ]
    }
   ],
   "source": [
    "url = f\"{BASE_URL}/tasks\"\n",
    "\n",
    "data = {\n",
    "    \"task\": \"New task created\"\n",
    "}\n",
    "\n",
    "payload = json.dumps(data)\n",
    "\n",
    "response = requests.post(\n",
    "    url,\n",
    "    headers=HEADERS,\n",
    "    data=payload\n",
    ")\n",
    "\n",
    "status_code = response.status_code\n",
    "response = response.json()\n",
    "\n",
    "if status_code == 200:\n",
    "    pp(response)\n",
    "else:\n",
    "    print(response)"
   ]
  },
  {
   "cell_type": "code",
   "execution_count": 6,
   "metadata": {},
   "outputs": [
    {
     "data": {
      "text/plain": [
       "'bdb29d13-12d5-41aa-ba3b-a38a1fba3641'"
      ]
     },
     "execution_count": 6,
     "metadata": {},
     "output_type": "execute_result"
    }
   ],
   "source": [
    "task_id = response['task_id']\n",
    "task_id"
   ]
  },
  {
   "attachments": {},
   "cell_type": "markdown",
   "metadata": {},
   "source": [
    "#### get a task"
   ]
  },
  {
   "cell_type": "code",
   "execution_count": 7,
   "metadata": {},
   "outputs": [
    {
     "name": "stdout",
     "output_type": "stream",
     "text": [
      "{'created_at': '2023-04-04T04:56:54.539534',\n",
      " 'data_type': 'TODO',\n",
      " 'last_updated_at': '2023-04-04T04:56:54.539534',\n",
      " 'status': 'In Progress',\n",
      " 'task': 'New task created',\n",
      " 'task_id': 'bdb29d13-12d5-41aa-ba3b-a38a1fba3641'}\n"
     ]
    }
   ],
   "source": [
    "url = f\"{BASE_URL}/tasks/{task_id}\"\n",
    "response = requests.get(url)\n",
    "\n",
    "status_code = response.status_code\n",
    "response = response.json()\n",
    "\n",
    "if status_code == 200:\n",
    "    pp(response)\n",
    "else:\n",
    "    print(response)"
   ]
  },
  {
   "attachments": {},
   "cell_type": "markdown",
   "metadata": {},
   "source": [
    "#### update a task"
   ]
  },
  {
   "cell_type": "code",
   "execution_count": 8,
   "metadata": {},
   "outputs": [
    {
     "name": "stdout",
     "output_type": "stream",
     "text": [
      "{'message': 'Task updated'}\n"
     ]
    }
   ],
   "source": [
    "url = f\"{BASE_URL}/tasks/{task_id}\"\n",
    "\n",
    "data = {\n",
    "    \"task\": \"New task updated\"\n",
    "}\n",
    "\n",
    "payload = json.dumps(data)\n",
    "\n",
    "response = requests.patch(\n",
    "    url,\n",
    "    headers=HEADERS,\n",
    "    data=payload\n",
    ")\n",
    "\n",
    "status_code = response.status_code\n",
    "response = response.json()\n",
    "\n",
    "if status_code == 200:\n",
    "    pp(response)\n",
    "else:\n",
    "    print(response)"
   ]
  },
  {
   "cell_type": "code",
   "execution_count": 9,
   "metadata": {},
   "outputs": [
    {
     "name": "stdout",
     "output_type": "stream",
     "text": [
      "{'created_at': '2023-04-04T04:56:54.539534',\n",
      " 'data_type': 'TODO',\n",
      " 'last_updated_at': '2023-04-04T04:57:02.871136',\n",
      " 'status': 'In Progress',\n",
      " 'task': 'New task updated',\n",
      " 'task_id': 'bdb29d13-12d5-41aa-ba3b-a38a1fba3641'}\n"
     ]
    }
   ],
   "source": [
    "url = f\"{BASE_URL}/tasks/{task_id}\"\n",
    "response = requests.get(url)\n",
    "\n",
    "status_code = response.status_code\n",
    "response = response.json()\n",
    "\n",
    "if status_code == 200:\n",
    "    pp(response)\n",
    "else:\n",
    "    print(response)"
   ]
  },
  {
   "attachments": {},
   "cell_type": "markdown",
   "metadata": {},
   "source": [
    "#### complete a task"
   ]
  },
  {
   "cell_type": "code",
   "execution_count": 10,
   "metadata": {},
   "outputs": [
    {
     "name": "stdout",
     "output_type": "stream",
     "text": [
      "{'message': 'Task completed'}\n"
     ]
    }
   ],
   "source": [
    "url = f\"{BASE_URL}/tasks/{task_id}/complete\"\n",
    "payload = json.dumps({})\n",
    "\n",
    "response = requests.post(\n",
    "    url,\n",
    "    headers=HEADERS,\n",
    "    data=payload\n",
    ")\n",
    "\n",
    "status_code = response.status_code\n",
    "response = response.json()\n",
    "\n",
    "if status_code == 200:\n",
    "    pp(response)\n",
    "else:\n",
    "    print(response)"
   ]
  },
  {
   "cell_type": "code",
   "execution_count": 11,
   "metadata": {},
   "outputs": [
    {
     "name": "stdout",
     "output_type": "stream",
     "text": [
      "{'created_at': '2023-04-04T04:56:54.539534',\n",
      " 'data_type': 'TODO',\n",
      " 'last_updated_at': '2023-04-04T04:57:08.658337',\n",
      " 'status': 'Completed',\n",
      " 'task': 'New task updated',\n",
      " 'task_id': 'bdb29d13-12d5-41aa-ba3b-a38a1fba3641'}\n"
     ]
    }
   ],
   "source": [
    "url = f\"{BASE_URL}/tasks/{task_id}\"\n",
    "response = requests.get(url)\n",
    "\n",
    "status_code = response.status_code\n",
    "response = response.json()\n",
    "\n",
    "if status_code == 200:\n",
    "    pp(response)\n",
    "else:\n",
    "    print(response)"
   ]
  },
  {
   "cell_type": "code",
   "execution_count": 12,
   "metadata": {},
   "outputs": [
    {
     "name": "stdout",
     "output_type": "stream",
     "text": [
      "{'error': 'Completed task cannot be updated'}\n"
     ]
    }
   ],
   "source": [
    "url = f\"{BASE_URL}/tasks/{task_id}\"\n",
    "\n",
    "data = {\n",
    "    \"task\": \"New task updated v2\"\n",
    "}\n",
    "\n",
    "payload = json.dumps(data)\n",
    "\n",
    "response = requests.patch(\n",
    "    url,\n",
    "    headers=HEADERS,\n",
    "    data=payload\n",
    ")\n",
    "\n",
    "status_code = response.status_code\n",
    "response = response.json()\n",
    "\n",
    "if status_code == 200:\n",
    "    pp(response)\n",
    "else:\n",
    "    print(response)"
   ]
  },
  {
   "attachments": {},
   "cell_type": "markdown",
   "metadata": {},
   "source": [
    "#### delete a task"
   ]
  },
  {
   "cell_type": "code",
   "execution_count": 13,
   "metadata": {},
   "outputs": [
    {
     "name": "stdout",
     "output_type": "stream",
     "text": [
      "{'created_at': '2023-04-04T04:56:54.539534',\n",
      " 'data_type': 'TODO',\n",
      " 'last_updated_at': '2023-04-04T04:57:08.658337',\n",
      " 'status': 'Completed',\n",
      " 'task': 'New task updated',\n",
      " 'task_id': 'bdb29d13-12d5-41aa-ba3b-a38a1fba3641'}\n"
     ]
    }
   ],
   "source": [
    "url = f\"{BASE_URL}/tasks/{task_id}\"\n",
    "response = requests.get(url)\n",
    "\n",
    "status_code = response.status_code\n",
    "response = response.json()\n",
    "\n",
    "if status_code == 200:\n",
    "    pp(response)\n",
    "else:\n",
    "    print(response)"
   ]
  },
  {
   "cell_type": "code",
   "execution_count": 14,
   "metadata": {},
   "outputs": [
    {
     "name": "stdout",
     "output_type": "stream",
     "text": [
      "{'message': 'Task deleted'}\n"
     ]
    }
   ],
   "source": [
    "url = f\"{BASE_URL}/tasks/{task_id}\"\n",
    "response = requests.delete(url)\n",
    "\n",
    "status_code = response.status_code\n",
    "response = response.json()\n",
    "\n",
    "if status_code == 200:\n",
    "    pp(response)\n",
    "else:\n",
    "    print(response)"
   ]
  },
  {
   "cell_type": "code",
   "execution_count": 15,
   "metadata": {},
   "outputs": [
    {
     "name": "stdout",
     "output_type": "stream",
     "text": [
      "{'error': 'Task id is invalid'}\n"
     ]
    }
   ],
   "source": [
    "url = f\"{BASE_URL}/tasks/{task_id}\"\n",
    "response = requests.get(url)\n",
    "\n",
    "status_code = response.status_code\n",
    "response = response.json()\n",
    "\n",
    "if status_code == 200:\n",
    "    pp(response)\n",
    "else:\n",
    "    print(response)"
   ]
  },
  {
   "attachments": {},
   "cell_type": "markdown",
   "metadata": {},
   "source": [
    "#### delete all/multi tasks"
   ]
  },
  {
   "cell_type": "code",
   "execution_count": null,
   "metadata": {},
   "outputs": [],
   "source": [
    "url = f\"{BASE_URL}/tasks\"\n",
    "response = requests.get(url)\n",
    "\n",
    "status_code = response.status_code\n",
    "response = response.json()\n",
    "\n",
    "if status_code == 200:\n",
    "    pp(response)\n",
    "else:\n",
    "    print(response)"
   ]
  },
  {
   "cell_type": "code",
   "execution_count": null,
   "metadata": {},
   "outputs": [],
   "source": [
    "for task in response['tasks'][:2]:\n",
    "    task_id = task['task_id']\n",
    "\n",
    "    url = f\"{BASE_URL}/tasks/{task_id}\"\n",
    "    response = requests.delete(url)"
   ]
  },
  {
   "cell_type": "code",
   "execution_count": null,
   "metadata": {},
   "outputs": [],
   "source": [
    "url = f\"{BASE_URL}/tasks\"\n",
    "response = requests.get(url)\n",
    "\n",
    "status_code = response.status_code\n",
    "response = response.json()\n",
    "\n",
    "if status_code == 200:\n",
    "    pp(response)\n",
    "else:\n",
    "    print(response)"
   ]
  },
  {
   "cell_type": "code",
   "execution_count": null,
   "metadata": {},
   "outputs": [],
   "source": []
  }
 ],
 "metadata": {
  "kernelspec": {
   "display_name": "Python 3",
   "language": "python",
   "name": "python3"
  },
  "language_info": {
   "codemirror_mode": {
    "name": "ipython",
    "version": 3
   },
   "file_extension": ".py",
   "mimetype": "text/x-python",
   "name": "python",
   "nbconvert_exporter": "python",
   "pygments_lexer": "ipython3",
   "version": "3.9.16"
  },
  "orig_nbformat": 4
 },
 "nbformat": 4,
 "nbformat_minor": 2
}
