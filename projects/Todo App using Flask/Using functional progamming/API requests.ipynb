{
 "cells": [
  {
   "cell_type": "code",
   "execution_count": 1,
   "metadata": {},
   "outputs": [],
   "source": [
    "# !pip install requests"
   ]
  },
  {
   "cell_type": "code",
   "execution_count": 2,
   "metadata": {},
   "outputs": [],
   "source": [
    "import json\n",
    "import requests\n",
    "from pprint import pprint as pp"
   ]
  },
  {
   "cell_type": "code",
   "execution_count": 3,
   "metadata": {},
   "outputs": [],
   "source": [
    "BASE_URL = \"http://localhost:5000\"\n",
    "\n",
    "HEADERS = {\n",
    "    \"Content-Type\": \"application/json\"\n",
    "}"
   ]
  },
  {
   "attachments": {},
   "cell_type": "markdown",
   "metadata": {},
   "source": [
    "#### get all tasks"
   ]
  },
  {
   "cell_type": "code",
   "execution_count": 4,
   "metadata": {},
   "outputs": [
    {
     "name": "stdout",
     "output_type": "stream",
     "text": [
      "{'count': 2,\n",
      " 'tasks': [{'status': 'In Progress',\n",
      "            'task': 'first task',\n",
      "            'task_id': 'a5437154-7593-4f87-81b7-8a867e00fac1'},\n",
      "           {'status': 'In Progress',\n",
      "            'task': 'second task',\n",
      "            'task_id': 'a432b999-5f5d-4662-bacd-dee8edbda7d7'}]}\n"
     ]
    }
   ],
   "source": [
    "url = f\"{BASE_URL}/tasks\"\n",
    "response = requests.get(url)\n",
    "\n",
    "status_code = response.status_code\n",
    "response = response.json()\n",
    "\n",
    "if status_code == 200:\n",
    "    pp(response)\n",
    "else:\n",
    "    print(response)"
   ]
  },
  {
   "attachments": {},
   "cell_type": "markdown",
   "metadata": {},
   "source": [
    "#### create a new task"
   ]
  },
  {
   "cell_type": "code",
   "execution_count": 5,
   "metadata": {},
   "outputs": [
    {
     "name": "stdout",
     "output_type": "stream",
     "text": [
      "{'created_at': '2023-03-20T21:32:14.312830',\n",
      " 'last_updated_at': '2023-03-20T21:32:14.312830',\n",
      " 'status': 'In Progress',\n",
      " 'task': 'New task created',\n",
      " 'task_id': '69633f49-cbc6-4778-8fcf-aca623a982ae'}\n"
     ]
    }
   ],
   "source": [
    "url = f\"{BASE_URL}/tasks\"\n",
    "\n",
    "data = {\n",
    "    \"task\": \"New task created\"\n",
    "}\n",
    "\n",
    "payload = json.dumps(data)\n",
    "\n",
    "response = requests.post(\n",
    "    url,\n",
    "    headers=HEADERS,\n",
    "    data=payload\n",
    ")\n",
    "\n",
    "status_code = response.status_code\n",
    "response = response.json()\n",
    "\n",
    "if status_code == 201:\n",
    "    pp(response)\n",
    "else:\n",
    "    print(response)"
   ]
  },
  {
   "cell_type": "code",
   "execution_count": 6,
   "metadata": {},
   "outputs": [
    {
     "data": {
      "text/plain": [
       "'69633f49-cbc6-4778-8fcf-aca623a982ae'"
      ]
     },
     "execution_count": 6,
     "metadata": {},
     "output_type": "execute_result"
    }
   ],
   "source": [
    "task_id = response['task_id']\n",
    "task_id"
   ]
  },
  {
   "attachments": {},
   "cell_type": "markdown",
   "metadata": {},
   "source": [
    "#### get a task"
   ]
  },
  {
   "cell_type": "code",
   "execution_count": 7,
   "metadata": {},
   "outputs": [
    {
     "name": "stdout",
     "output_type": "stream",
     "text": [
      "{'created_at': '2023-03-20T21:32:14.312830',\n",
      " 'last_updated_at': '2023-03-20T21:32:14.312830',\n",
      " 'status': 'In Progress',\n",
      " 'task': 'New task created',\n",
      " 'task_id': '69633f49-cbc6-4778-8fcf-aca623a982ae'}\n"
     ]
    }
   ],
   "source": [
    "url = f\"{BASE_URL}/tasks/{task_id}\"\n",
    "response = requests.get(url)\n",
    "\n",
    "status_code = response.status_code\n",
    "response = response.json()\n",
    "\n",
    "if status_code == 200:\n",
    "    pp(response)\n",
    "else:\n",
    "    print(response)"
   ]
  },
  {
   "attachments": {},
   "cell_type": "markdown",
   "metadata": {},
   "source": [
    "#### update a task"
   ]
  },
  {
   "cell_type": "code",
   "execution_count": 8,
   "metadata": {},
   "outputs": [
    {
     "name": "stdout",
     "output_type": "stream",
     "text": [
      "{'created_at': '2023-03-20T21:32:14.312830',\n",
      " 'last_updated_at': '2023-03-20T21:32:14.465818',\n",
      " 'status': 'In Progress',\n",
      " 'task': 'New task updated',\n",
      " 'task_id': '69633f49-cbc6-4778-8fcf-aca623a982ae'}\n"
     ]
    }
   ],
   "source": [
    "url = f\"{BASE_URL}/tasks/{task_id}\"\n",
    "\n",
    "data = {\n",
    "    \"task\": \"New task updated\"\n",
    "}\n",
    "\n",
    "payload = json.dumps(data)\n",
    "\n",
    "response = requests.patch(\n",
    "    url,\n",
    "    headers=HEADERS,\n",
    "    data=payload\n",
    ")\n",
    "\n",
    "status_code = response.status_code\n",
    "response = response.json()\n",
    "\n",
    "if status_code == 200:\n",
    "    pp(response)\n",
    "else:\n",
    "    print(response)"
   ]
  },
  {
   "attachments": {},
   "cell_type": "markdown",
   "metadata": {},
   "source": [
    "#### complete a task"
   ]
  },
  {
   "cell_type": "code",
   "execution_count": 9,
   "metadata": {},
   "outputs": [
    {
     "name": "stdout",
     "output_type": "stream",
     "text": [
      "{'created_at': '2023-03-20T21:32:14.312830',\n",
      " 'last_updated_at': '2023-03-20T21:32:14.499436',\n",
      " 'status': 'Completed',\n",
      " 'task': 'New task updated',\n",
      " 'task_id': '69633f49-cbc6-4778-8fcf-aca623a982ae'}\n"
     ]
    }
   ],
   "source": [
    "url = f\"{BASE_URL}/tasks/{task_id}/complete\"\n",
    "payload = json.dumps({})\n",
    "\n",
    "response = requests.post(\n",
    "    url,\n",
    "    headers=HEADERS,\n",
    "    data=payload\n",
    ")\n",
    "\n",
    "status_code = response.status_code\n",
    "response = response.json()\n",
    "\n",
    "if status_code == 200:\n",
    "    pp(response)\n",
    "else:\n",
    "    print(response)"
   ]
  },
  {
   "cell_type": "code",
   "execution_count": 10,
   "metadata": {},
   "outputs": [
    {
     "name": "stdout",
     "output_type": "stream",
     "text": [
      "{'created_at': '2023-03-20T21:32:14.312830',\n",
      " 'last_updated_at': '2023-03-20T21:32:14.499436',\n",
      " 'status': 'Completed',\n",
      " 'task': 'New task updated',\n",
      " 'task_id': '69633f49-cbc6-4778-8fcf-aca623a982ae'}\n"
     ]
    }
   ],
   "source": [
    "url = f\"{BASE_URL}/tasks/{task_id}\"\n",
    "response = requests.get(url)\n",
    "\n",
    "status_code = response.status_code\n",
    "response = response.json()\n",
    "\n",
    "if status_code == 200:\n",
    "    pp(response)\n",
    "else:\n",
    "    print(response)"
   ]
  },
  {
   "cell_type": "code",
   "execution_count": 11,
   "metadata": {},
   "outputs": [
    {
     "name": "stdout",
     "output_type": "stream",
     "text": [
      "{'error': 'Completed task cannot be updated'}\n"
     ]
    }
   ],
   "source": [
    "url = f\"{BASE_URL}/tasks/{task_id}\"\n",
    "\n",
    "data = {\n",
    "    \"task\": \"New task updated v2\"\n",
    "}\n",
    "\n",
    "payload = json.dumps(data)\n",
    "\n",
    "response = requests.patch(\n",
    "    url,\n",
    "    headers=HEADERS,\n",
    "    data=payload\n",
    ")\n",
    "\n",
    "status_code = response.status_code\n",
    "response = response.json()\n",
    "\n",
    "if status_code == 200:\n",
    "    pp(response)\n",
    "else:\n",
    "    print(response)"
   ]
  },
  {
   "attachments": {},
   "cell_type": "markdown",
   "metadata": {},
   "source": [
    "#### delete a task"
   ]
  },
  {
   "cell_type": "code",
   "execution_count": 12,
   "metadata": {},
   "outputs": [
    {
     "name": "stdout",
     "output_type": "stream",
     "text": [
      "{'message': 'Task deleted'}\n"
     ]
    }
   ],
   "source": [
    "url = f\"{BASE_URL}/tasks/{task_id}\"\n",
    "response = requests.delete(url)\n",
    "\n",
    "status_code = response.status_code\n",
    "response = response.json()\n",
    "\n",
    "if status_code == 200:\n",
    "    pp(response)\n",
    "else:\n",
    "    print(response)"
   ]
  },
  {
   "cell_type": "code",
   "execution_count": 13,
   "metadata": {},
   "outputs": [
    {
     "name": "stdout",
     "output_type": "stream",
     "text": [
      "{'error': 'Task id is invalid'}\n"
     ]
    }
   ],
   "source": [
    "url = f\"{BASE_URL}/tasks/{task_id}\"\n",
    "response = requests.get(url)\n",
    "\n",
    "status_code = response.status_code\n",
    "response = response.json()\n",
    "\n",
    "if status_code == 200:\n",
    "    pp(response)\n",
    "else:\n",
    "    print(response)"
   ]
  },
  {
   "cell_type": "code",
   "execution_count": null,
   "metadata": {},
   "outputs": [],
   "source": []
  }
 ],
 "metadata": {
  "kernelspec": {
   "display_name": "Python 3",
   "language": "python",
   "name": "python3"
  },
  "language_info": {
   "codemirror_mode": {
    "name": "ipython",
    "version": 3
   },
   "file_extension": ".py",
   "mimetype": "text/x-python",
   "name": "python",
   "nbconvert_exporter": "python",
   "pygments_lexer": "ipython3",
   "version": "3.9.16"
  },
  "orig_nbformat": 4
 },
 "nbformat": 4,
 "nbformat_minor": 2
}
