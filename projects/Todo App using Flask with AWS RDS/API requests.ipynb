{
 "cells": [
  {
   "cell_type": "code",
   "execution_count": null,
   "metadata": {},
   "outputs": [],
   "source": [
    "# !pip install requests"
   ]
  },
  {
   "cell_type": "code",
   "execution_count": null,
   "metadata": {},
   "outputs": [],
   "source": [
    "import json\n",
    "import requests\n",
    "from pprint import pprint as pp"
   ]
  },
  {
   "cell_type": "code",
   "execution_count": null,
   "metadata": {},
   "outputs": [],
   "source": [
    "BASE_URL = \"http://localhost:5000\"\n",
    "\n",
    "HEADERS = {\n",
    "    \"Content-Type\": \"application/json\"\n",
    "}"
   ]
  },
  {
   "attachments": {},
   "cell_type": "markdown",
   "metadata": {},
   "source": [
    "#### get all tasks"
   ]
  },
  {
   "cell_type": "code",
   "execution_count": null,
   "metadata": {},
   "outputs": [],
   "source": [
    "url = f\"{BASE_URL}/tasks\"\n",
    "response = requests.get(url)\n",
    "\n",
    "status_code = response.status_code\n",
    "response = response.json()\n",
    "\n",
    "if status_code == 200:\n",
    "    pp(response)\n",
    "else:\n",
    "    print(response)"
   ]
  },
  {
   "attachments": {},
   "cell_type": "markdown",
   "metadata": {},
   "source": [
    "#### create a new task"
   ]
  },
  {
   "cell_type": "code",
   "execution_count": 98,
   "metadata": {},
   "outputs": [
    {
     "name": "stdout",
     "output_type": "stream",
     "text": [
      "{'created_at': '2023-03-22T02:56:10.287403',\n",
      " 'last_updated_at': '2023-03-22T02:56:10.287403',\n",
      " 'status': 'In Progress',\n",
      " 'task': 'New task created',\n",
      " 'task_id': '7e0f9a35-93cd-46b4-a20d-ea39342ee5b7'}\n"
     ]
    }
   ],
   "source": [
    "url = f\"{BASE_URL}/tasks\"\n",
    "\n",
    "data = {\n",
    "    \"task\": \"New task created\"\n",
    "}\n",
    "\n",
    "payload = json.dumps(data)\n",
    "\n",
    "response = requests.post(\n",
    "    url,\n",
    "    headers=HEADERS,\n",
    "    data=payload\n",
    ")\n",
    "\n",
    "status_code = response.status_code\n",
    "response = response.json()\n",
    "\n",
    "if status_code == 201:\n",
    "    pp(response)\n",
    "else:\n",
    "    print(response)"
   ]
  },
  {
   "cell_type": "code",
   "execution_count": 99,
   "metadata": {},
   "outputs": [
    {
     "data": {
      "text/plain": [
       "'7e0f9a35-93cd-46b4-a20d-ea39342ee5b7'"
      ]
     },
     "execution_count": 99,
     "metadata": {},
     "output_type": "execute_result"
    }
   ],
   "source": [
    "task_id = response['task_id']\n",
    "task_id"
   ]
  },
  {
   "attachments": {},
   "cell_type": "markdown",
   "metadata": {},
   "source": [
    "#### get a task"
   ]
  },
  {
   "cell_type": "code",
   "execution_count": 100,
   "metadata": {},
   "outputs": [
    {
     "name": "stdout",
     "output_type": "stream",
     "text": [
      "{'created_at': 'Wed, 22 Mar 2023 02:56:10 GMT',\n",
      " 'last_updated_at': 'Wed, 22 Mar 2023 02:56:10 GMT',\n",
      " 'status': 'In Progress',\n",
      " 'task': 'New task created',\n",
      " 'task_id': '7e0f9a35-93cd-46b4-a20d-ea39342ee5b7'}\n"
     ]
    }
   ],
   "source": [
    "url = f\"{BASE_URL}/tasks/{task_id}\"\n",
    "response = requests.get(url)\n",
    "\n",
    "status_code = response.status_code\n",
    "response = response.json()\n",
    "\n",
    "if status_code == 200:\n",
    "    pp(response)\n",
    "else:\n",
    "    print(response)"
   ]
  },
  {
   "attachments": {},
   "cell_type": "markdown",
   "metadata": {},
   "source": [
    "#### update a task"
   ]
  },
  {
   "cell_type": "code",
   "execution_count": 101,
   "metadata": {},
   "outputs": [
    {
     "name": "stdout",
     "output_type": "stream",
     "text": [
      "{'message': 'Task updated'}\n"
     ]
    }
   ],
   "source": [
    "url = f\"{BASE_URL}/tasks/{task_id}\"\n",
    "\n",
    "data = {\n",
    "    \"task\": \"New task updated\"\n",
    "}\n",
    "\n",
    "payload = json.dumps(data)\n",
    "\n",
    "response = requests.patch(\n",
    "    url,\n",
    "    headers=HEADERS,\n",
    "    data=payload\n",
    ")\n",
    "\n",
    "status_code = response.status_code\n",
    "response = response.json()\n",
    "\n",
    "if status_code == 200:\n",
    "    pp(response)\n",
    "else:\n",
    "    print(response)"
   ]
  },
  {
   "cell_type": "code",
   "execution_count": 102,
   "metadata": {},
   "outputs": [
    {
     "name": "stdout",
     "output_type": "stream",
     "text": [
      "{'created_at': 'Wed, 22 Mar 2023 02:56:10 GMT',\n",
      " 'last_updated_at': 'Wed, 22 Mar 2023 02:56:16 GMT',\n",
      " 'status': 'In Progress',\n",
      " 'task': 'New task updated',\n",
      " 'task_id': '7e0f9a35-93cd-46b4-a20d-ea39342ee5b7'}\n"
     ]
    }
   ],
   "source": [
    "url = f\"{BASE_URL}/tasks/{task_id}\"\n",
    "response = requests.get(url)\n",
    "\n",
    "status_code = response.status_code\n",
    "response = response.json()\n",
    "\n",
    "if status_code == 200:\n",
    "    pp(response)\n",
    "else:\n",
    "    print(response)"
   ]
  },
  {
   "attachments": {},
   "cell_type": "markdown",
   "metadata": {},
   "source": [
    "#### complete a task"
   ]
  },
  {
   "cell_type": "code",
   "execution_count": 103,
   "metadata": {},
   "outputs": [
    {
     "name": "stdout",
     "output_type": "stream",
     "text": [
      "{'message': 'Task completed'}\n"
     ]
    }
   ],
   "source": [
    "url = f\"{BASE_URL}/tasks/{task_id}/complete\"\n",
    "payload = json.dumps({})\n",
    "\n",
    "response = requests.post(\n",
    "    url,\n",
    "    headers=HEADERS,\n",
    "    data=payload\n",
    ")\n",
    "\n",
    "status_code = response.status_code\n",
    "response = response.json()\n",
    "\n",
    "if status_code == 200:\n",
    "    pp(response)\n",
    "else:\n",
    "    print(response)"
   ]
  },
  {
   "cell_type": "code",
   "execution_count": 104,
   "metadata": {},
   "outputs": [
    {
     "name": "stdout",
     "output_type": "stream",
     "text": [
      "{'created_at': 'Wed, 22 Mar 2023 02:56:10 GMT',\n",
      " 'last_updated_at': 'Wed, 22 Mar 2023 02:56:21 GMT',\n",
      " 'status': 'Completed',\n",
      " 'task': 'New task updated',\n",
      " 'task_id': '7e0f9a35-93cd-46b4-a20d-ea39342ee5b7'}\n"
     ]
    }
   ],
   "source": [
    "url = f\"{BASE_URL}/tasks/{task_id}\"\n",
    "response = requests.get(url)\n",
    "\n",
    "status_code = response.status_code\n",
    "response = response.json()\n",
    "\n",
    "if status_code == 200:\n",
    "    pp(response)\n",
    "else:\n",
    "    print(response)"
   ]
  },
  {
   "cell_type": "code",
   "execution_count": 105,
   "metadata": {},
   "outputs": [
    {
     "name": "stdout",
     "output_type": "stream",
     "text": [
      "{'error': 'Completed task cannot be updated'}\n"
     ]
    }
   ],
   "source": [
    "url = f\"{BASE_URL}/tasks/{task_id}\"\n",
    "\n",
    "data = {\n",
    "    \"task\": \"New task updated v2\"\n",
    "}\n",
    "\n",
    "payload = json.dumps(data)\n",
    "\n",
    "response = requests.patch(\n",
    "    url,\n",
    "    headers=HEADERS,\n",
    "    data=payload\n",
    ")\n",
    "\n",
    "status_code = response.status_code\n",
    "response = response.json()\n",
    "\n",
    "if status_code == 200:\n",
    "    pp(response)\n",
    "else:\n",
    "    print(response)"
   ]
  },
  {
   "attachments": {},
   "cell_type": "markdown",
   "metadata": {},
   "source": [
    "#### delete a task"
   ]
  },
  {
   "cell_type": "code",
   "execution_count": 106,
   "metadata": {},
   "outputs": [
    {
     "name": "stdout",
     "output_type": "stream",
     "text": [
      "{'created_at': 'Wed, 22 Mar 2023 02:56:10 GMT',\n",
      " 'last_updated_at': 'Wed, 22 Mar 2023 02:56:21 GMT',\n",
      " 'status': 'Completed',\n",
      " 'task': 'New task updated',\n",
      " 'task_id': '7e0f9a35-93cd-46b4-a20d-ea39342ee5b7'}\n"
     ]
    }
   ],
   "source": [
    "url = f\"{BASE_URL}/tasks/{task_id}\"\n",
    "response = requests.get(url)\n",
    "\n",
    "status_code = response.status_code\n",
    "response = response.json()\n",
    "\n",
    "if status_code == 200:\n",
    "    pp(response)\n",
    "else:\n",
    "    print(response)"
   ]
  },
  {
   "cell_type": "code",
   "execution_count": 107,
   "metadata": {},
   "outputs": [
    {
     "name": "stdout",
     "output_type": "stream",
     "text": [
      "{'message': 'Task deleted'}\n"
     ]
    }
   ],
   "source": [
    "url = f\"{BASE_URL}/tasks/{task_id}\"\n",
    "response = requests.delete(url)\n",
    "\n",
    "status_code = response.status_code\n",
    "response = response.json()\n",
    "\n",
    "if status_code == 200:\n",
    "    pp(response)\n",
    "else:\n",
    "    print(response)"
   ]
  },
  {
   "cell_type": "code",
   "execution_count": 108,
   "metadata": {},
   "outputs": [
    {
     "name": "stdout",
     "output_type": "stream",
     "text": [
      "{'error': 'Task id is invalid'}\n"
     ]
    }
   ],
   "source": [
    "url = f\"{BASE_URL}/tasks/{task_id}\"\n",
    "response = requests.get(url)\n",
    "\n",
    "status_code = response.status_code\n",
    "response = response.json()\n",
    "\n",
    "if status_code == 200:\n",
    "    pp(response)\n",
    "else:\n",
    "    print(response)"
   ]
  },
  {
   "attachments": {},
   "cell_type": "markdown",
   "metadata": {},
   "source": [
    "#### delete all/multi tasks"
   ]
  },
  {
   "cell_type": "code",
   "execution_count": null,
   "metadata": {},
   "outputs": [],
   "source": [
    "url = f\"{BASE_URL}/tasks\"\n",
    "response = requests.get(url)\n",
    "\n",
    "status_code = response.status_code\n",
    "response = response.json()\n",
    "\n",
    "if status_code == 200:\n",
    "    pp(response)\n",
    "else:\n",
    "    print(response)"
   ]
  },
  {
   "cell_type": "code",
   "execution_count": null,
   "metadata": {},
   "outputs": [],
   "source": [
    "for task in response['tasks'][:2]:\n",
    "    task_id = task['task_id']\n",
    "\n",
    "    url = f\"{BASE_URL}/tasks/{task_id}\"\n",
    "    response = requests.delete(url)"
   ]
  },
  {
   "cell_type": "code",
   "execution_count": null,
   "metadata": {},
   "outputs": [],
   "source": [
    "url = f\"{BASE_URL}/tasks\"\n",
    "response = requests.get(url)\n",
    "\n",
    "status_code = response.status_code\n",
    "response = response.json()\n",
    "\n",
    "if status_code == 200:\n",
    "    pp(response)\n",
    "else:\n",
    "    print(response)"
   ]
  },
  {
   "cell_type": "code",
   "execution_count": null,
   "metadata": {},
   "outputs": [],
   "source": []
  }
 ],
 "metadata": {
  "kernelspec": {
   "display_name": "Python 3",
   "language": "python",
   "name": "python3"
  },
  "language_info": {
   "codemirror_mode": {
    "name": "ipython",
    "version": 3
   },
   "file_extension": ".py",
   "mimetype": "text/x-python",
   "name": "python",
   "nbconvert_exporter": "python",
   "pygments_lexer": "ipython3",
   "version": "3.9.16"
  },
  "orig_nbformat": 4
 },
 "nbformat": 4,
 "nbformat_minor": 2
}
