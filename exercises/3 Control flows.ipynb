{
 "cells": [
  {
   "attachments": {},
   "cell_type": "markdown",
   "metadata": {},
   "source": [
    "### checking voting eligibility\n",
    "> print the users whose age is greater than 18"
   ]
  },
  {
   "cell_type": "code",
   "execution_count": null,
   "metadata": {
    "vscode": {
     "languageId": "python"
    }
   },
   "outputs": [],
   "source": [
    "users = {\n",
    "    \"sarita\": 24,\n",
    "    \"naman\": 34,\n",
    "    \"rahul\": 12,\n",
    "    \"ramesh\": 23,\n",
    "    \"shivaay\": 3,\n",
    "    \"vinita\": 17\n",
    "}"
   ]
  },
  {
   "cell_type": "code",
   "execution_count": null,
   "metadata": {
    "vscode": {
     "languageId": "python"
    }
   },
   "outputs": [],
   "source": []
  },
  {
   "attachments": {},
   "cell_type": "markdown",
   "metadata": {},
   "source": [
    "### squaring utility\n",
    "> calculate and print the square of these numbers"
   ]
  },
  {
   "cell_type": "code",
   "execution_count": null,
   "metadata": {
    "vscode": {
     "languageId": "python"
    }
   },
   "outputs": [],
   "source": [
    "numbers = [1, 2, 3, 4, 5, 6, 7, 8, 9, 10]"
   ]
  },
  {
   "cell_type": "code",
   "execution_count": null,
   "metadata": {
    "vscode": {
     "languageId": "python"
    }
   },
   "outputs": [],
   "source": []
  },
  {
   "attachments": {},
   "cell_type": "markdown",
   "metadata": {},
   "source": [
    "### find the relatives of ambani\n",
    "> print the names which contains the word ambani"
   ]
  },
  {
   "cell_type": "code",
   "execution_count": null,
   "metadata": {
    "vscode": {
     "languageId": "python"
    }
   },
   "outputs": [],
   "source": [
    "members = [\n",
    "    \"A Rahul Ambani\",\n",
    "    \"Ambani Mukesh\",\n",
    "    \"Gautam Adani\",\n",
    "    \"Adani Anil\",\n",
    "    \"Anil ambani Fake\",\n",
    "    \"Modi Fake Ambani\",\n",
    "    \"Rahul Adani\",\n",
    "    \"Saumya adani B\"\n",
    "]"
   ]
  },
  {
   "cell_type": "code",
   "execution_count": null,
   "metadata": {
    "vscode": {
     "languageId": "python"
    }
   },
   "outputs": [],
   "source": []
  },
  {
   "attachments": {},
   "cell_type": "markdown",
   "metadata": {},
   "source": [
    "### print big names\n",
    "> print names with 3 or more words"
   ]
  },
  {
   "cell_type": "code",
   "execution_count": null,
   "metadata": {
    "vscode": {
     "languageId": "python"
    }
   },
   "outputs": [],
   "source": [
    "members = [\n",
    "    \"A Rahul Ambani\",\n",
    "    \"Ambani Mukesh\",\n",
    "    \"Gautam Adani\",\n",
    "    \"Adani Anil\",\n",
    "    \"Anil ambani Fake\",\n",
    "    \"Modi Fake Ambani\",\n",
    "    \"Rahul Adani\",\n",
    "    \"Saumya adani B\"\n",
    "]"
   ]
  },
  {
   "cell_type": "code",
   "execution_count": null,
   "metadata": {
    "vscode": {
     "languageId": "python"
    }
   },
   "outputs": [],
   "source": []
  }
 ],
 "metadata": {
  "kernelspec": {
   "display_name": "Python 3 (ipykernel)",
   "language": "python",
   "name": "python3"
  },
  "orig_nbformat": 4
 },
 "nbformat": 4,
 "nbformat_minor": 2
}
