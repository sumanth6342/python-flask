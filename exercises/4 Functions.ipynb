{
 "cells": [
  {
   "attachments": {},
   "cell_type": "markdown",
   "metadata": {},
   "source": [
    "### 1 Email Slicer"
   ]
  },
  {
   "attachments": {},
   "cell_type": "markdown",
   "metadata": {},
   "source": [
    "> write a function to slice email and domain from an email address. Print that in a representable way\n",
    "\n",
    "    function input - email\n",
    "    function output - printing the username and domain\n",
    "\n",
    "    example input and outputs\n",
    "    \"someone@example.com\" -> username - someone, domain - example"
   ]
  },
  {
   "cell_type": "code",
   "execution_count": null,
   "metadata": {
    "vscode": {
     "languageId": "python"
    }
   },
   "outputs": [],
   "source": [
    "\n",
    "def email_slicer(email): \n",
    "    # implement the program\n",
    "    pass"
   ]
  },
  {
   "attachments": {},
   "cell_type": "markdown",
   "metadata": {},
   "source": [
    "### 2 Currency Convertor"
   ]
  },
  {
   "attachments": {},
   "cell_type": "markdown",
   "metadata": {},
   "source": [
    "> Write a program to convert rupee to dollar and vice versa\n",
    "\n",
    "    function input - amount, input_currency, output_currency\n",
    "    function output - printing the currency conversion\n",
    "\n",
    "    supported values\n",
    "    input_currency = rupee, dollar\n",
    "    output_currency = rupee, dollar\n",
    "\n",
    "    note : you can take the current values of inr to dollar conversion\n",
    "\n",
    "    note - handle unsupported currency values by telling the user that the operation is not supported\n",
    "\n",
    "    example inputs and ouptuts -> \n",
    "    4, \"rupee\", \"dollar\" -> converted currency value\n",
    "    20, \"dollar\", \"rupee\" -> converted currency value"
   ]
  },
  {
   "cell_type": "code",
   "execution_count": null,
   "metadata": {
    "vscode": {
     "languageId": "python"
    }
   },
   "outputs": [],
   "source": [
    "def currency_convertor(amount, input_currency, output_currency):\n",
    "    # implement the program\n",
    "    pass"
   ]
  },
  {
   "attachments": {},
   "cell_type": "markdown",
   "metadata": {},
   "source": [
    "### 3 Number guesser"
   ]
  },
  {
   "attachments": {},
   "cell_type": "markdown",
   "metadata": {},
   "source": [
    "> Write a program to guess a number between 1 and 10\n",
    "\n",
    "    hint: use a while loop for continuous input\n",
    "\n",
    "    logic: take the input from the user as an input using a while loop and break out of the loop when the user's input is same as the function input\n",
    "\n",
    "    function input - number (assuming its only in the backend)\n",
    "    function output - printing the wrong number guessed and the right number guessed\n",
    "\n",
    "    example inputs and outputs\n",
    "    3 -> wrong or right number guessed\n",
    "    6 -> wrong or right number guessed\n",
    "    8 -> wrong or right number guessed"
   ]
  },
  {
   "cell_type": "code",
   "execution_count": null,
   "metadata": {
    "vscode": {
     "languageId": "python"
    }
   },
   "outputs": [],
   "source": [
    "def number_guesser(right_number):\n",
    "    # implement the program\n",
    "\n",
    "    # while loop\n",
    "        # take input from the user\n",
    "        # use if conditions to check the input is lesser than or greater than or equal to the right_number\n",
    "            # when equal break out of the loop and say its a right number guessed\n",
    "            # when others say its a wrong number guessed\n",
    "    pass"
   ]
  },
  {
   "attachments": {},
   "cell_type": "markdown",
   "metadata": {},
   "source": [
    "### 4 Calculator app"
   ]
  },
  {
   "attachments": {},
   "cell_type": "markdown",
   "metadata": {},
   "source": [
    "> Write a program to build a calculator\n",
    "\n",
    "    function input - number1, number2, operation\n",
    "    function output - print the calculation\n",
    "\n",
    "    supported values of operation - add, subtract, multiply, division\n",
    "\n",
    "    note: handle unsupported operations as well by telling the user this operation is not supported\n",
    "\n",
    "    example inputs & outputs\n",
    "    2, 3, \"add\" - 5\n",
    "    4, 5, \"multiply\" - 20"
   ]
  },
  {
   "cell_type": "code",
   "execution_count": null,
   "metadata": {
    "vscode": {
     "languageId": "python"
    }
   },
   "outputs": [],
   "source": [
    "def calculator(number1, number2, operation):\n",
    "    # implement the program\n",
    "    pass"
   ]
  },
  {
   "attachments": {},
   "cell_type": "markdown",
   "metadata": {},
   "source": [
    "### 5 FAQ Bot"
   ]
  },
  {
   "attachments": {},
   "cell_type": "markdown",
   "metadata": {},
   "source": [
    "> Write a program to answer built a faq bot\n",
    "\n",
    "    requirements:\n",
    "    - a fixed set of qestion answer mapping is already defined (refer below dict)\n",
    "\n",
    "    function input - question\n",
    "    function output - printing the answer\n",
    "\n",
    "    note - unsupported questions should notify the user that the operation is not supported\n",
    "\n",
    "    example inputs and outputs\n",
    "    \"Who is the PM of India?\" -> \"Narendra Modi\"\n",
    "    \"Who is the PM of China?\" -> \"Unsupported operation, please try again\""
   ]
  },
  {
   "cell_type": "code",
   "execution_count": null,
   "metadata": {
    "vscode": {
     "languageId": "python"
    }
   },
   "outputs": [],
   "source": [
    "def faq_bot(question):\n",
    "    knowledge_bank = {\n",
    "        # you can add more questions to this dictionary\n",
    "        \"Who is the PM of India?\": \"Narendra Modi\",\n",
    "        \"When did India get its independence?\": \"1947\",\n",
    "        \"What is the currency of India?\": \"Rupee\"\n",
    "    }\n",
    "\n",
    "    # check if the input question is available in the knowledge bank or not\n",
    "    # if present -> give the answer\n",
    "    # else -> throw error\n",
    "    pass"
   ]
  },
  {
   "attachments": {},
   "cell_type": "markdown",
   "metadata": {},
   "source": [
    "### 6 Palindrome generator"
   ]
  },
  {
   "attachments": {},
   "cell_type": "markdown",
   "metadata": {},
   "source": [
    "> Write a program to generate a palindrome of a string\n",
    "\n",
    "    function input - string\n",
    "    function output - palindrome string\n",
    "\n",
    "    example inputs and outputs\n",
    "    \"hello\" -> \"olleh\"\n",
    "    \"welcome\" -> \"emoclew\""
   ]
  },
  {
   "cell_type": "code",
   "execution_count": null,
   "metadata": {
    "vscode": {
     "languageId": "python"
    }
   },
   "outputs": [],
   "source": [
    "def palindrome_generator(string):\n",
    "    # implement the program\n",
    "    pass"
   ]
  },
  {
   "attachments": {},
   "cell_type": "markdown",
   "metadata": {},
   "source": [
    "### 7 Acronyms generator"
   ]
  },
  {
   "attachments": {},
   "cell_type": "markdown",
   "metadata": {},
   "source": [
    "> Write a program to generate acronyms of a string\n",
    "\n",
    "    function input - string\n",
    "    function output - acronym\n",
    "\n",
    "    example inputs and outputs\n",
    "    \"Artificial Intelligence\" -> \"AI\"\n",
    "    \"machine learning\" -> \"ML\"\n",
    "    \"Indian space research Organisation\" -> \"ISRO\""
   ]
  },
  {
   "cell_type": "code",
   "execution_count": null,
   "metadata": {
    "vscode": {
     "languageId": "python"
    }
   },
   "outputs": [],
   "source": [
    "def acronyms_generator(string):\n",
    "    # implement the program\n",
    "    pass"
   ]
  },
  {
   "cell_type": "code",
   "execution_count": null,
   "metadata": {
    "vscode": {
     "languageId": "python"
    }
   },
   "outputs": [],
   "source": []
  }
 ],
 "metadata": {
  "kernelspec": {
   "display_name": "Python 3 (ipykernel)",
   "language": "python",
   "name": "python3"
  },
  "orig_nbformat": 4
 },
 "nbformat": 4,
 "nbformat_minor": 2
}
